{
 "cells": [
  {
   "cell_type": "markdown",
   "metadata": {},
   "source": [
    "<img src=\"http://www.exalumnos.usm.cl/wp-content/uploads/2015/06/Isotipo-Negro.gif\" title=\"Title text\" width=\"20%\" height=\"20%\" />\n",
    "\n",
    "\n",
    "<hr style=\"height:2px;border:none\"/>\n",
    "<h1 align='center'> INF-393 Máquinas de Aprendizaje II-2018 </h1>\n",
    "\n",
    "<H3 align='center'> Tarea 2 - Fronteras no Lineales </H3>\n",
    "<H4 align='center'> Integrantes: Pablo Aguirre, Rol: 201473555-3; Jorge Aliste, Rol: 201473538-3 </H4>\n",
    "<hr style=\"height:2px;border:none\"/>"
   ]
  },
  {
   "cell_type": "markdown",
   "metadata": {},
   "source": [
    "## Pregunta 3: *Taxi Trip Duration*\n",
    "\n",
    "El objetivo de esta pregunta es predecir la duración del viaje de un taxi en Nueva York. La métrica de evaluación será el RMSLE (*Root Mean Squared Logarithm Error*):\n",
    "\n",
    "$$\n",
    "E(y,\\hat{y}) = \\sqrt{ \\frac{1}{n} \\sum_{i=1}^n \\left( \\log{(y_i +1)}- \\log{(\\hat{y}_i+1}) \\right)^2}\n",
    "$$"
   ]
  },
  {
   "cell_type": "code",
   "execution_count": 2,
   "metadata": {},
   "outputs": [
    {
     "name": "stderr",
     "output_type": "stream",
     "text": [
      "D:\\User\\jalis\\Anaconda3\\envs\\py36\\lib\\site-packages\\h5py\\__init__.py:36: FutureWarning: Conversion of the second argument of issubdtype from `float` to `np.floating` is deprecated. In future, it will be treated as `np.float64 == np.dtype(float).type`.\n",
      "  from ._conv import register_converters as _register_converters\n",
      "Using TensorFlow backend.\n"
     ]
    }
   ],
   "source": [
    "from geopy.distance import great_circle\n",
    "import numpy as np\n",
    "import matplotlib.pyplot as plt\n",
    "from pandas.tseries.holiday import USFederalHolidayCalendar\n",
    "\n",
    "from sklearn.model_selection import train_test_split\n",
    "from sklearn.preprocessing import RobustScaler,StandardScaler\n",
    "\n",
    "from sklearn.svm import SVR\n",
    "from keras.models import Sequential\n",
    "from keras.layers import Dense, Dropout\n",
    "from keras import losses"
   ]
  },
  {
   "cell_type": "code",
   "execution_count": 3,
   "metadata": {},
   "outputs": [],
   "source": [
    "def rmsle(predicted,real):    \n",
    "    suma=0.0\n",
    "    for x in range(len(predicted)):\n",
    "        p = np.log(predicted[x]+1)\n",
    "        r = np.log(real[x]+1)\n",
    "        suma += np.power((p - r),2)\n",
    "    return np.sqrt(suma/len(predicted))"
   ]
  },
  {
   "cell_type": "markdown",
   "metadata": {},
   "source": [
    "> a) Cargue los datos de entrenamiento como *dataframes* de pandas. Describa las variables involucradas en el problema, explorando el tipo de datos de que se trata, el número de valores distinto. Grafique adecuadamente el valor a predecir con algún gráfico que resuma su comportamiento, e.g. un histograma, boxplot u otro."
   ]
  },
  {
   "cell_type": "code",
   "execution_count": 4,
   "metadata": {},
   "outputs": [
    {
     "name": "stdout",
     "output_type": "stream",
     "text": [
      "<class 'pandas.core.frame.DataFrame'>\n",
      "RangeIndex: 1458644 entries, 0 to 1458643\n",
      "Data columns (total 11 columns):\n",
      "id                    1458644 non-null object\n",
      "vendor_id             1458644 non-null int64\n",
      "pickup_datetime       1458644 non-null object\n",
      "dropoff_datetime      1458644 non-null object\n",
      "passenger_count       1458644 non-null int64\n",
      "pickup_longitude      1458644 non-null float64\n",
      "pickup_latitude       1458644 non-null float64\n",
      "dropoff_longitude     1458644 non-null float64\n",
      "dropoff_latitude      1458644 non-null float64\n",
      "store_and_fwd_flag    1458644 non-null object\n",
      "trip_duration         1458644 non-null int64\n",
      "dtypes: float64(4), int64(3), object(4)\n",
      "memory usage: 122.4+ MB\n",
      "None\n",
      "          id  vendor_id      pickup_datetime     dropoff_datetime  \\\n",
      "0  id2875421          2  2016-03-14 17:24:55  2016-03-14 17:32:30   \n",
      "1  id2377394          1  2016-06-12 00:43:35  2016-06-12 00:54:38   \n",
      "2  id3858529          2  2016-01-19 11:35:24  2016-01-19 12:10:48   \n",
      "3  id3504673          2  2016-04-06 19:32:31  2016-04-06 19:39:40   \n",
      "4  id2181028          2  2016-03-26 13:30:55  2016-03-26 13:38:10   \n",
      "\n",
      "   passenger_count  pickup_longitude  pickup_latitude  dropoff_longitude  \\\n",
      "0                1        -73.982155        40.767937         -73.964630   \n",
      "1                1        -73.980415        40.738564         -73.999481   \n",
      "2                1        -73.979027        40.763939         -74.005333   \n",
      "3                1        -74.010040        40.719971         -74.012268   \n",
      "4                1        -73.973053        40.793209         -73.972923   \n",
      "\n",
      "   dropoff_latitude store_and_fwd_flag  trip_duration  \n",
      "0         40.765602                  N            455  \n",
      "1         40.731152                  N            663  \n",
      "2         40.710087                  N           2124  \n",
      "3         40.706718                  N            429  \n",
      "4         40.782520                  N            435  \n"
     ]
    },
    {
     "data": {
      "text/plain": [
       "array([ 455,  663, 2124, ...,  764,  373,  198], dtype=int64)"
      ]
     },
     "execution_count": 4,
     "metadata": {},
     "output_type": "execute_result"
    }
   ],
   "source": [
    "import pandas as pd\n",
    "df = pd.read_csv(\"train.csv\")\n",
    "print(df.info())\n",
    "print(df.head())\n",
    "output = df['trip_duration'].values\n",
    "output"
   ]
  },
  {
   "cell_type": "markdown",
   "metadata": {},
   "source": [
    "Dentro del dataset se encuentran 9 variables y 3 datos que son de identificación. \n",
    "+ Id: string que correspende a la id que se le da al viaje, es para identificar y no sirve como variable.\n",
    "+ vendor_id: entero que corresponde al código asociado a la empresa que ofrece el servicio.\n",
    "+ pickup_datetime, dropoff_datetime: strings que permiten conocer el tiempo en que se tomó y dejó a los pasajeros. El tiempo puede influir debido al tráfico.\n",
    "+ passenger_count: entero con la cantidad de pasajeros. Este podría influir debido a que un pasajero se baje antes.\n",
    "+ pickup_longitude, pickup_latitude, dropoff_latitude, dropoff_latitude: variables tipo float que proporciona información de la ubicación en que se toma y deja al pasajero. El sector donde ocurre esto influye en los tiempos.\n",
    "+ store_and_fwd_flag: tipo char que determina si los datos fueron guardados en el almacenamiento del vehículo o si fueron enviados inmediatamente. Este dato no debe influir en el tiempo.\n",
    "+ trip_duration: variable entera que indica el tiempo en que demora en realizar el viaje. Esta sería la variable dependiente."
   ]
  },
  {
   "cell_type": "markdown",
   "metadata": {},
   "source": [
    "Ahora, para un mejor análisis se genera un boxplot de la variable trip_duration:"
   ]
  },
  {
   "cell_type": "code",
   "execution_count": 5,
   "metadata": {},
   "outputs": [
    {
     "data": {
      "image/png": "[encoded data removed]",
      "text/plain": [
       "<Figure size 432x288 with 1 Axes>"
      ]
     },
     "metadata": {},
     "output_type": "display_data"
    }
   ],
   "source": [
    "fig, ax = plt.subplots()\n",
    "\n",
    "box = df.boxplot(ax=ax, column='trip_duration') \n",
    "plt.show()"
   ]
  },
  {
   "cell_type": "markdown",
   "metadata": {},
   "source": [
    "El boxplot resultante indica que hay varios outliers que ni siquiera permiten ver bien el boxplot. Por lo que usando un histograma y acotando el rango se obtiene el siguiente histograma."
   ]
  },
  {
   "cell_type": "code",
   "execution_count": 6,
   "metadata": {},
   "outputs": [
    {
     "data": {
      "text/plain": [
       "array([[<matplotlib.axes._subplots.AxesSubplot object at 0x000001DC11956A58>]],\n",
       "      dtype=object)"
      ]
     },
     "execution_count": 6,
     "metadata": {},
     "output_type": "execute_result"
    },
    {
     "data": {
      "image/png": "[encoded data removed]",
      "text/plain": [
       "<Figure size 432x288 with 1 Axes>"
      ]
     },
     "metadata": {},
     "output_type": "display_data"
    }
   ],
   "source": [
    "df.hist(column=['trip_duration'], range = (0,2300))"
   ]
  },
  {
   "cell_type": "markdown",
   "metadata": {},
   "source": [
    "Con el histrograma se puede notar que la mayor cantidad de viajes toma un tiempo entre 250 y 750 segundos."
   ]
  },
  {
   "cell_type": "markdown",
   "metadata": {},
   "source": [
    "> b) Como puede  observar en los análisis preliminares exiten algunos *outliers* en los datos los cuales pensamos eliminar para que no entorpezca el aprendizaje, además que son muy pocos."
   ]
  },
  {
   "cell_type": "markdown",
   "metadata": {},
   "source": [
    "Para un mejor análisis, se eliminan los outliers. Como estos datos son muy distintos a los de la muestra, pueden afectar al entrenamiento de muy mala manera."
   ]
  },
  {
   "cell_type": "code",
   "execution_count": 7,
   "metadata": {},
   "outputs": [],
   "source": [
    "df = df[(df['trip_duration']<=1820)]"
   ]
  },
  {
   "cell_type": "markdown",
   "metadata": {},
   "source": [
    "Se genera nuevamente el boxplot:"
   ]
  },
  {
   "cell_type": "code",
   "execution_count": 8,
   "metadata": {},
   "outputs": [
    {
     "data": {
      "text/plain": [
       "<matplotlib.axes._subplots.AxesSubplot at 0x1dc119d4898>"
      ]
     },
     "execution_count": 8,
     "metadata": {},
     "output_type": "execute_result"
    },
    {
     "data": {
      "image/png": "[encoded data removed]",
      "text/plain": [
       "<Figure size 432x288 with 1 Axes>"
      ]
     },
     "metadata": {},
     "output_type": "display_data"
    }
   ],
   "source": [
    "df.boxplot(column=['trip_duration'])"
   ]
  },
  {
   "cell_type": "markdown",
   "metadata": {},
   "source": [
    "Ahora, se puede notar que la mediana se encuentra de los 500 segundos y como la caja se ve uniforme, podemos decir que la cantidad de datos se distribuye normalmente alrededor de la mediana."
   ]
  },
  {
   "cell_type": "markdown",
   "metadata": {},
   "source": [
    "> c) La primera operación que realizaremos a los datos como pre-procesamiento será la de extraer/generar características de manera manual de algunos atributos que resulta necesario hacer, como desde la fecha (string) puede ser extraída la hora del día, creando una nueva columna denominada *hour* y de tipo *int* discreto, o bien, para la localización del viaje punto a punto se pueden extraer distintas **medidas de distancia**. Comente sobre el pre-procesamiento realizado.  "
   ]
  },
  {
   "cell_type": "code",
   "execution_count": 9,
   "metadata": {},
   "outputs": [
    {
     "data": {
      "text/html": [
       "<div>\n",
       "<style scoped>\n",
       "    .dataframe tbody tr th:only-of-type {\n",
       "        vertical-align: middle;\n",
       "    }\n",
       "\n",
       "    .dataframe tbody tr th {\n",
       "        vertical-align: top;\n",
       "    }\n",
       "\n",
       "    .dataframe thead th {\n",
       "        text-align: right;\n",
       "    }\n",
       "</style>\n",
       "<table border=\"1\" class=\"dataframe\">\n",
       "  <thead>\n",
       "    <tr style=\"text-align: right;\">\n",
       "      <th></th>\n",
       "      <th>passenger_count</th>\n",
       "      <th>pickup_longitude</th>\n",
       "      <th>pickup_latitude</th>\n",
       "      <th>dropoff_longitude</th>\n",
       "      <th>dropoff_latitude</th>\n",
       "      <th>trip_duration</th>\n",
       "      <th>hour</th>\n",
       "      <th>cday</th>\n",
       "      <th>month</th>\n",
       "      <th>distancia_viaje</th>\n",
       "      <th>distancia_viaje_km</th>\n",
       "      <th>grado_direccion</th>\n",
       "      <th>season</th>\n",
       "      <th>holiday</th>\n",
       "    </tr>\n",
       "  </thead>\n",
       "  <tbody>\n",
       "    <tr>\n",
       "      <th>0</th>\n",
       "      <td>1</td>\n",
       "      <td>-73.982155</td>\n",
       "      <td>40.767937</td>\n",
       "      <td>-73.964630</td>\n",
       "      <td>40.765602</td>\n",
       "      <td>455</td>\n",
       "      <td>17</td>\n",
       "      <td>0</td>\n",
       "      <td>3</td>\n",
       "      <td>0.017680</td>\n",
       "      <td>1.498523</td>\n",
       "      <td>99.970196</td>\n",
       "      <td>1</td>\n",
       "      <td>0</td>\n",
       "    </tr>\n",
       "    <tr>\n",
       "      <th>1</th>\n",
       "      <td>1</td>\n",
       "      <td>-73.980415</td>\n",
       "      <td>40.738564</td>\n",
       "      <td>-73.999481</td>\n",
       "      <td>40.731152</td>\n",
       "      <td>663</td>\n",
       "      <td>0</td>\n",
       "      <td>6</td>\n",
       "      <td>6</td>\n",
       "      <td>0.020456</td>\n",
       "      <td>1.805510</td>\n",
       "      <td>242.846232</td>\n",
       "      <td>2</td>\n",
       "      <td>0</td>\n",
       "    </tr>\n",
       "    <tr>\n",
       "      <th>3</th>\n",
       "      <td>1</td>\n",
       "      <td>-74.010040</td>\n",
       "      <td>40.719971</td>\n",
       "      <td>-74.012268</td>\n",
       "      <td>40.706718</td>\n",
       "      <td>429</td>\n",
       "      <td>19</td>\n",
       "      <td>2</td>\n",
       "      <td>4</td>\n",
       "      <td>0.013438</td>\n",
       "      <td>1.485501</td>\n",
       "      <td>187.262300</td>\n",
       "      <td>1</td>\n",
       "      <td>0</td>\n",
       "    </tr>\n",
       "    <tr>\n",
       "      <th>4</th>\n",
       "      <td>1</td>\n",
       "      <td>-73.973053</td>\n",
       "      <td>40.793209</td>\n",
       "      <td>-73.972923</td>\n",
       "      <td>40.782520</td>\n",
       "      <td>435</td>\n",
       "      <td>13</td>\n",
       "      <td>5</td>\n",
       "      <td>3</td>\n",
       "      <td>0.010690</td>\n",
       "      <td>1.188590</td>\n",
       "      <td>179.473585</td>\n",
       "      <td>1</td>\n",
       "      <td>0</td>\n",
       "    </tr>\n",
       "    <tr>\n",
       "      <th>5</th>\n",
       "      <td>6</td>\n",
       "      <td>-73.982857</td>\n",
       "      <td>40.742195</td>\n",
       "      <td>-73.992081</td>\n",
       "      <td>40.749184</td>\n",
       "      <td>443</td>\n",
       "      <td>22</td>\n",
       "      <td>5</td>\n",
       "      <td>1</td>\n",
       "      <td>0.011572</td>\n",
       "      <td>1.098944</td>\n",
       "      <td>315.004404</td>\n",
       "      <td>0</td>\n",
       "      <td>0</td>\n",
       "    </tr>\n",
       "  </tbody>\n",
       "</table>\n",
       "</div>"
      ],
      "text/plain": [
       "   passenger_count  pickup_longitude  pickup_latitude  dropoff_longitude  \\\n",
       "0                1        -73.982155        40.767937         -73.964630   \n",
       "1                1        -73.980415        40.738564         -73.999481   \n",
       "3                1        -74.010040        40.719971         -74.012268   \n",
       "4                1        -73.973053        40.793209         -73.972923   \n",
       "5                6        -73.982857        40.742195         -73.992081   \n",
       "\n",
       "   dropoff_latitude  trip_duration  hour  cday  month  distancia_viaje  \\\n",
       "0         40.765602            455    17     0      3         0.017680   \n",
       "1         40.731152            663     0     6      6         0.020456   \n",
       "3         40.706718            429    19     2      4         0.013438   \n",
       "4         40.782520            435    13     5      3         0.010690   \n",
       "5         40.749184            443    22     5      1         0.011572   \n",
       "\n",
       "   distancia_viaje_km  grado_direccion  season  holiday  \n",
       "0            1.498523        99.970196       1        0  \n",
       "1            1.805510       242.846232       2        0  \n",
       "3            1.485501       187.262300       1        0  \n",
       "4            1.188590       179.473585       1        0  \n",
       "5            1.098944       315.004404       0        0  "
      ]
     },
     "execution_count": 9,
     "metadata": {},
     "output_type": "execute_result"
    }
   ],
   "source": [
    "\"\"\"extraer caract geograficas\"\"\"\n",
    "def distance(p_lat,p_long,d_lat,d_long):\n",
    "    pickup = (p_lat, p_long)\n",
    "    dropoff = (d_lat, d_long)\n",
    "    distance_all=great_circle(pickup, dropoff).km\n",
    "    return distance_all\n",
    "def grado(p_lat,p_long,d_lat,d_long):\n",
    "    lat1= np.radians(p_lat)\n",
    "    lat2= np.radians(d_lat)\n",
    "    dLon = np.radians(d_long - p_long)\n",
    "    y = np.sin(dLon)*np.cos(lat2)\n",
    "    x = np.cos(lat1)*np.sin(lat2) - np.sin(lat1)*np.cos(lat2)*np.cos(dLon)\n",
    "    return (np.degrees( np.arctan2(y,x) ) + 360 ) %360\n",
    "\n",
    "cal = USFederalHolidayCalendar()\n",
    "holidays = cal.holidays(start='2015',end='2017')\n",
    "def preprocesar(df):\n",
    "    df.fillna(0,inplace=True)\n",
    "    \"\"\"transformar fechas a tiempos\"\"\"\n",
    "    df['hour'] = pd.to_datetime(df['pickup_datetime']).dt.hour\n",
    "    df['hour'] = pd.to_numeric(df['hour'])\n",
    "    df['cday'] = pd.to_datetime(df['pickup_datetime']).dt.dayofweek #0:lunes,6:domingo\n",
    "    df['cday'] = pd.to_numeric(df['cday'])\n",
    "    df['month'] = pd.to_datetime(df['pickup_datetime']).dt.month #1:enero, 12: diciembre\n",
    "    df['month'] = pd.to_numeric(df['month'])\n",
    "    \"\"\"Feature Generation\"\"\"\n",
    "    df['distancia_viaje'] = np.sqrt( np.square(df['pickup_longitude']-df['dropoff_longitude']) \n",
    "                                    + np.square(df['pickup_latitude']-df['dropoff_latitude'])) #euclideana\n",
    "    distancia_real_aprox = [ distance(df['pickup_latitude'].values[i], \n",
    "                                 df['pickup_longitude'].values[i],\n",
    "                                 df['dropoff_latitude'].values[i],\n",
    "                                 df['dropoff_longitude'].values[i]) for i in range(len(df['pickup_latitude']))]\n",
    "    df['distancia_viaje_km'] = distancia_real_aprox\n",
    "    df['grado_direccion'] = [ grado(df['pickup_latitude'].values[i],  #agregar direccion (en base a grado)\n",
    "                                 df['pickup_longitude'].values[i],\n",
    "                                 df['dropoff_latitude'].values[i],\n",
    "                                 df['dropoff_longitude'].values[i]) for i in range(len(df['pickup_latitude']))]\n",
    "    seasons = [0,0,1,1,1,2]  #0: winter, 1: spring, 2: summer\n",
    "    df['season'] = [ seasons[df['month'].values[i] - 1] for i in range(len(df['month'])) ]  #agregar temporada\n",
    "    df['holiday'] = df['pickup_datetime'].isin(holidays) #holidays\n",
    "    \"\"\" Eliminar columnas -- limpiar\"\"\"\n",
    "    df.drop([\"pickup_datetime\",\"dropoff_datetime\",\"id\",\"vendor_id\",\"store_and_fwd_flag\"], axis=1,inplace=True)\n",
    "    df[\"holiday\"] = df[\"holiday\"].astype('category')#a categorico\n",
    "    \"\"\"codifica\"\"\"\n",
    "    cat_columns = df.select_dtypes(['category']).columns\n",
    "    df[cat_columns] = df[cat_columns].apply(lambda x: x.cat.codes)\n",
    "preprocesar(df)\n",
    "df.head()"
   ]
  },
  {
   "cell_type": "markdown",
   "metadata": {},
   "source": [
    "El objetivo del pre-procesamiento es generar nuevos atributos como combinaciones de otros pre-existentes. Esto puede servir ya que algunos atributos se potencian al estar en conjunto con otros."
   ]
  },
  {
   "cell_type": "markdown",
   "metadata": {},
   "source": [
    "> d) Cree las estructuras de los datos a utilizar, además de crear el conjunto de pruebas para validar los modelos ¿Cuáles son las dimensiones de cada conjunto? Normalice los datos, elija algún *scaler* y comente sobre su decisión."
   ]
  },
  {
   "cell_type": "code",
   "execution_count": 10,
   "metadata": {},
   "outputs": [],
   "source": [
    "# Corresponde a los valores de Y, la duración del viaje.\n",
    "y = df['trip_duration'].values\n",
    "# Se elimina la columna de la duración para obtener los valores de X.\n",
    "df.drop(\"trip_duration\",axis=1,inplace=True)\n",
    "# Se obtiene la matriz de X.\n",
    "X = df.values\n",
    "\n",
    "# Se selecciona aleateriamente el conjunto de entrenamiento y prueba.\n",
    "X_train, X_test, y_train, y_test = train_test_split(X, y, test_size=0.3, random_state=42)\n",
    "\n",
    "# Se escalan los valores con robustscaler. \n",
    "scaler = RobustScaler(with_centering=True, with_scaling=True)\n",
    "\n",
    "scaler.fit(X_train)\n",
    "\n",
    "# Valores escalados.\n",
    "X_train_scaled = scaler.transform(X_train)\n",
    "X_test_scaled = scaler.transform(X_test)"
   ]
  },
  {
   "cell_type": "code",
   "execution_count": 11,
   "metadata": {},
   "outputs": [
    {
     "name": "stdout",
     "output_type": "stream",
     "text": [
      "Entrenamiento:  (944181, 13)\n",
      "Prueba:  (404650, 13)\n"
     ]
    }
   ],
   "source": [
    "print(\"Entrenamiento: \", X_train_scaled.shape)\n",
    "print(\"Prueba: \", X_test_scaled.shape)"
   ]
  },
  {
   "cell_type": "markdown",
   "metadata": {},
   "source": [
    "El conjunto de entrenamiento cuenta con 941868 registros, mientras que el conjunto de prueba cuenta con 403658. Ambos con 13 atributos para cada registro."
   ]
  },
  {
   "cell_type": "markdown",
   "metadata": {},
   "source": [
    "Se elige `RobustScaler` ya que es más resistente a los outliers y podría favorecer la generalización por parte del modelo."
   ]
  },
  {
   "cell_type": "markdown",
   "metadata": {},
   "source": [
    "> e) En base a la definición del problema de esta sección y a lo experimentado en la sección 1, escoga un modelo de aprendizaje para experimentar en la predicción de la duración del viaje, comente sobre su decisión. Entrene el modelo escogido, usando parámetros por defecto, sobre la representación escalada generada anteriormente y mida el error de la competencia RMSLE sobre ambos conjuntos, comente."
   ]
  },
  {
   "cell_type": "markdown",
   "metadata": {},
   "source": [
    "Para este apartado, se decide experimentar con dos modelos: Red Neuronal Feed Forward y KNN. Se eligió RNFF debido a la gran cantidad de registros que se tienen para el input. Una red con muchas neuronas puede aprovechar esta cantidad más que una SVR. KNN se elige porque en la pregunta 1 demostró ser una muy buena solución para problemas no lineales, además de su simpleza en implementación. Para comparar estos dos modelos, se necesita un conjunto de validación, por lo que se determina que un 30% del conjunto de entrenamiento será de validación."
   ]
  },
  {
   "cell_type": "code",
   "execution_count": 12,
   "metadata": {},
   "outputs": [
    {
     "name": "stdout",
     "output_type": "stream",
     "text": [
      "Conjunto de entrenamiento:\n",
      "(660927, 13)\n",
      "Conjunto de validación:\n",
      "(283254, 13)\n"
     ]
    }
   ],
   "source": [
    "puntoDeCorte = X_train_scaled.shape[0]*0.7\n",
    "\n",
    "X_train_scaled2 = X_train_scaled[:round(puntoDeCorte)]\n",
    "X_val_scaled = X_train_scaled[round(puntoDeCorte):]\n",
    "\n",
    "y_train2 = y_train[:round(puntoDeCorte)]\n",
    "y_val = y_train[round(puntoDeCorte):]\n",
    "print(\"Conjunto de entrenamiento:\")\n",
    "print(X_train_scaled2.shape)\n",
    "print(\"Conjunto de validación:\")\n",
    "print(X_val_scaled.shape)"
   ]
  },
  {
   "cell_type": "markdown",
   "metadata": {},
   "source": [
    "Primero se utiliza el modelo de Red Neuronal Feed Forward y se obtiene el error para RMSLE de entrenamiento y de validación:"
   ]
  },
  {
   "cell_type": "code",
   "execution_count": 12,
   "metadata": {},
   "outputs": [
    {
     "name": "stdout",
     "output_type": "stream",
     "text": [
      "Epoch 1/10\n",
      "660927/660927 [==============================] - 13s 20us/step - loss: 0.8922\n",
      "Epoch 2/10\n",
      "660927/660927 [==============================] - 12s 19us/step - loss: 0.2327\n",
      "Epoch 3/10\n",
      "660927/660927 [==============================] - 13s 20us/step - loss: 0.2197\n",
      "Epoch 4/10\n",
      "660927/660927 [==============================] - 13s 20us/step - loss: 0.2109\n",
      "Epoch 5/10\n",
      "660927/660927 [==============================] - 13s 20us/step - loss: 0.2061\n",
      "Epoch 6/10\n",
      "660927/660927 [==============================] - 13s 20us/step - loss: 0.2021\n",
      "Epoch 7/10\n",
      "660927/660927 [==============================] - 13s 20us/step - loss: 0.1991\n",
      "Epoch 8/10\n",
      "660927/660927 [==============================] - 13s 20us/step - loss: 0.1966\n",
      "Epoch 9/10\n",
      "660927/660927 [==============================] - 13s 20us/step - loss: 0.1945\n",
      "Epoch 10/10\n",
      "660927/660927 [==============================] - 13s 20us/step - loss: 0.1931\n"
     ]
    },
    {
     "data": {
      "text/plain": [
       "<keras.callbacks.History at 0x21c89632940>"
      ]
     },
     "execution_count": 12,
     "metadata": {},
     "output_type": "execute_result"
    }
   ],
   "source": [
    "modelNNR = Sequential()\n",
    "modelNNR.add(Dense(512, input_dim=X_train_scaled2.shape[1], kernel_initializer='normal', activation=\"relu\"))\n",
    "modelNNR.add(Dropout(0.5))\n",
    "modelNNR.add(Dense(256, kernel_initializer='normal', activation=\"relu\"))\n",
    "modelNNR.add(Dropout(0.5))\n",
    "modelNNR.add(Dense(128, kernel_initializer='normal', activation=\"relu\"))\n",
    "modelNNR.add(Dropout(0.5))\n",
    "modelNNR.add(Dense(64, kernel_initializer='normal', activation=\"relu\"))\n",
    "modelNNR.add(Dropout(0.5))\n",
    "modelNNR.add(Dense(1, kernel_initializer='normal'))\n",
    "\n",
    "modelNNR.compile(loss=losses.mean_squared_logarithmic_error, optimizer='RMSprop')\n",
    "\n",
    "modelNNR.fit(X_train_scaled2, y_train2, epochs=10, batch_size=1024, verbose=1)"
   ]
  },
  {
   "cell_type": "code",
   "execution_count": 13,
   "metadata": {},
   "outputs": [
    {
     "name": "stdout",
     "output_type": "stream",
     "text": [
      "ERROR RMSLE de training:  [0.39232906]\n",
      "ERROR RMSLE de val:  [0.39002917]\n"
     ]
    }
   ],
   "source": [
    "print(\"ERROR RMSLE de training: \", rmsle(modelNNR.predict(X_train_scaled2),y_train2))\n",
    "print(\"ERROR RMSLE de val: \", rmsle(modelNNR.predict(X_val_scaled),y_val))"
   ]
  },
  {
   "cell_type": "markdown",
   "metadata": {},
   "source": [
    "Mientras mas cercano a cero sea el RMSLE obtenido, mejor es el modelo. El error de entrenamiento y el de prueba son parecidos por lo que no se está produciendo overfitting."
   ]
  },
  {
   "cell_type": "markdown",
   "metadata": {},
   "source": [
    "Ahora, se prueba con el modelo de KNN, obteniendo los siguientes resultados:"
   ]
  },
  {
   "cell_type": "code",
   "execution_count": 14,
   "metadata": {},
   "outputs": [
    {
     "name": "stdout",
     "output_type": "stream",
     "text": [
      "Vecinos: 7\n",
      "ERROR RMSLE de training:  0.3648362642199857\n",
      "ERROR RMSLE de val:  0.41059267062222904\n"
     ]
    }
   ],
   "source": [
    "from sklearn.neighbors import KNeighborsRegressor\n",
    "\n",
    "print(\"Vecinos:\", 7)\n",
    "model = KNeighborsRegressor()\n",
    "model.set_params(n_neighbors=7)\n",
    "model.fit(X_train_scaled2, y_train2)\n",
    "print (\"ERROR RMSLE de training: \", rmsle(model.predict(X_train_scaled2),y_train2))\n",
    "print (\"ERROR RMSLE de val: \", rmsle(model.predict(X_val_scaled),y_val))"
   ]
  },
  {
   "cell_type": "markdown",
   "metadata": {},
   "source": [
    "En este caso el error de de entrenamiento es menor que en la red neuronal pero el error de validación es mayor, por lo que el modelo sufre de overfitting."
   ]
  },
  {
   "cell_type": "markdown",
   "metadata": {},
   "source": [
    "El resultado es que el modelo de red neuronal feed forward tiene un menor error de validación, por lo que es elegido para obtener el error del conjunto de prueba:"
   ]
  },
  {
   "cell_type": "code",
   "execution_count": 15,
   "metadata": {},
   "outputs": [
    {
     "name": "stdout",
     "output_type": "stream",
     "text": [
      "ERROR RMSLE de test:  [0.39168594]\n"
     ]
    }
   ],
   "source": [
    "# Error de prueba\n",
    "print (\"ERROR RMSLE de test: \", rmsle(modelNNR.predict(X_test_scaled),y_test))"
   ]
  },
  {
   "cell_type": "markdown",
   "metadata": {},
   "source": [
    "El error no está tan alejado de 0, por lo que puede ser un modelo útil."
   ]
  },
  {
   "cell_type": "markdown",
   "metadata": {},
   "source": [
    "> f) Grafique las predicciones generadas por su modelo *vs* el valor real ¿Cuál es el comportamiento esperado? ¿Su resultado se asemeja a éste? ¿Por qué?"
   ]
  },
  {
   "cell_type": "markdown",
   "metadata": {},
   "source": [
    "Se grafica primero para la predicción generada por redes neuronales:"
   ]
  },
  {
   "cell_type": "code",
   "execution_count": 16,
   "metadata": {
    "scrolled": false
   },
   "outputs": [
    {
     "data": {
      "image/png": "[encoded data removed]",
      "text/plain": [
       "<Figure size 864x576 with 1 Axes>"
      ]
     },
     "metadata": {},
     "output_type": "display_data"
    }
   ],
   "source": [
    "def graficar_predicciones(real,predecido, ymaxi = 0):\n",
    "    plt.figure(figsize=(12,8))\n",
    "    plt.plot(real,predecido,'b.')\n",
    "    if ymaxi ==0:\n",
    "        valor_max = int( np.max( [np.max(predecido),np.max(real)]))\n",
    "    else:\n",
    "        valor_max = ymaxi\n",
    "        \n",
    "    valor_min = int( np.min( [np.min(predecido),np.min(real)]))\n",
    "    plt.plot(range(valor_min,valor_max+1), range(valor_min,valor_max+1), color =\"r\")\n",
    "    plt.axis('tight')\n",
    "    if ymaxi != 0:\n",
    "        plt.ylim(ymax = ymaxi, ymin =0 )\n",
    "    plt.xlabel('Valor Real')\n",
    "    plt.ylabel('Prediccion')\n",
    "    \n",
    "    plt.show()\n",
    "    \n",
    "graficar_predicciones(y_test,modelNNR.predict(X_test_scaled))"
   ]
  },
  {
   "cell_type": "markdown",
   "metadata": {},
   "source": [
    "El comportamiento esperado es que los puntos azules se ubiquen en la recta roja. Esto significa que el modelo es capaz de generalizar bien y la regresión es adecuada. \n",
    "En este caso los puntos azules están ubicados al comienzo de la recta roja, exceptuando algunos valores que se encuentran sobre la recta, por lo que la generalización no es mala. Para más detalle, se acota los valores posibles de Y."
   ]
  },
  {
   "cell_type": "code",
   "execution_count": 17,
   "metadata": {},
   "outputs": [
    {
     "data": {
      "image/png": "[encoded data removed]",
      "text/plain": [
       "<Figure size 864x576 with 1 Axes>"
      ]
     },
     "metadata": {},
     "output_type": "display_data"
    }
   ],
   "source": [
    "graficar_predicciones(y_test,modelNNR.predict(X_test_scaled), ymaxi = 2500)"
   ]
  },
  {
   "cell_type": "markdown",
   "metadata": {},
   "source": [
    "Acá se puede ver más claramente el comportamiento. Muchos valores de la predicción se acercan al valor real pero igualmente hay varios que se alejan. Es importante notar que los puntos al parece siguen una tendencia de linea recta."
   ]
  },
  {
   "cell_type": "markdown",
   "metadata": {},
   "source": [
    "Ahora se realiza lo mismo pero para el método de knn:"
   ]
  },
  {
   "cell_type": "code",
   "execution_count": 18,
   "metadata": {},
   "outputs": [
    {
     "data": {
      "image/png": "[encoded data removed]",
      "text/plain": [
       "<Figure size 864x576 with 1 Axes>"
      ]
     },
     "metadata": {},
     "output_type": "display_data"
    }
   ],
   "source": [
    "graficar_predicciones(y_test, model.predict(X_test_scaled))"
   ]
  },
  {
   "cell_type": "markdown",
   "metadata": {},
   "source": [
    "En este podemos ver que knn presenta una mayor dispersión de los datos, lo que se condice con su mayor error. Notar también que mientras mayor el valor real, la predicción va perdiendo la recta."
   ]
  },
  {
   "cell_type": "markdown",
   "metadata": {},
   "source": [
    "> g) Mejore el desempeño del modelo de aprendizaje definido en e) haciendo modificaciones a los hiper-parámetros del modelo. Por ejemplo, tener ojo con el sobre-ajuste del modelo. Naturalmente, está absolutamente prohibido tomar este tipo de decisiones en función del resultado de pruebas. Debe realizar estas elecciones evaluando sobre el conjunto de validación. Si no desea utilizarlo, y prefiere implementar validación cruzada u otra técnica automática, tiene la ventaja de poder usar el conjunto de validación como parte del entrenamiento. \n"
   ]
  },
  {
   "cell_type": "markdown",
   "metadata": {},
   "source": [
    "Para el error de validación se decidió utilizar el conjunto de validación ya creado en la secciones anteriores ya que se tienen muchos datos y sería excesivo y costoso usar calidación cruzada. La proporción es 70% entrenamiento y 30% validación. Luego, se varían la cantidad de capas de la red neuronal:"
   ]
  },
  {
   "cell_type": "code",
   "execution_count": 19,
   "metadata": {},
   "outputs": [
    {
     "name": "stdout",
     "output_type": "stream",
     "text": [
      "Epoch 1/10\n",
      "660927/660927 [==============================] - 32s 49us/step - loss: 0.3735\n",
      "Epoch 2/10\n",
      "660927/660927 [==============================] - 34s 51us/step - loss: 0.2142\n",
      "Epoch 3/10\n",
      "660927/660927 [==============================] - 31s 47us/step - loss: 0.2007\n",
      "Epoch 4/10\n",
      "660927/660927 [==============================] - 31s 47us/step - loss: 0.1928\n",
      "Epoch 5/10\n",
      "660927/660927 [==============================] - 31s 48us/step - loss: 0.1883\n",
      "Epoch 6/10\n",
      "660927/660927 [==============================] - 31s 47us/step - loss: 0.1848\n",
      "Epoch 7/10\n",
      "660927/660927 [==============================] - 32s 49us/step - loss: 0.1820\n",
      "Epoch 8/10\n",
      "660927/660927 [==============================] - 30s 45us/step - loss: 0.1802\n",
      "Epoch 9/10\n",
      "660927/660927 [==============================] - 30s 46us/step - loss: 0.1781\n",
      "Epoch 10/10\n",
      "660927/660927 [==============================] - 32s 48us/step - loss: 0.1766\n"
     ]
    },
    {
     "data": {
      "text/plain": [
       "<keras.callbacks.History at 0x21cffd5f828>"
      ]
     },
     "execution_count": 19,
     "metadata": {},
     "output_type": "execute_result"
    }
   ],
   "source": [
    "modelNNR_2 = Sequential()\n",
    "modelNNR_2.add(Dense(512, input_dim=13, kernel_initializer='normal', activation=\"relu\"))\n",
    "modelNNR_2.add(Dropout(0.5))\n",
    "modelNNR_2.add(Dense(512, kernel_initializer='normal', activation=\"relu\"))\n",
    "modelNNR_2.add(Dropout(0.5))\n",
    "modelNNR_2.add(Dense(256, kernel_initializer='normal', activation=\"relu\"))\n",
    "modelNNR_2.add(Dropout(0.5))\n",
    "modelNNR_2.add(Dense(256, kernel_initializer='normal', activation=\"relu\"))\n",
    "modelNNR_2.add(Dropout(0.5))\n",
    "modelNNR_2.add(Dense(128, kernel_initializer='normal', activation=\"relu\"))\n",
    "modelNNR_2.add(Dropout(0.5))\n",
    "modelNNR_2.add(Dense(128, kernel_initializer='normal', activation=\"relu\"))\n",
    "modelNNR_2.add(Dropout(0.5))\n",
    "modelNNR_2.add(Dense(1, kernel_initializer='normal'))\n",
    "\n",
    "modelNNR_2.compile(loss=losses.mean_squared_logarithmic_error, optimizer='RMSprop')\n",
    "\n",
    "modelNNR_2.fit(X_train_scaled2, y_train2, epochs=10, batch_size=512, verbose=1)"
   ]
  },
  {
   "cell_type": "code",
   "execution_count": 20,
   "metadata": {},
   "outputs": [
    {
     "name": "stdout",
     "output_type": "stream",
     "text": [
      "ERROR RMSLE de training:  [0.36800023]\n",
      "ERROR RMSLE de validacion:  [0.36599795]\n"
     ]
    }
   ],
   "source": [
    "print(\"ERROR RMSLE de training: \", rmsle(modelNNR_2.predict(X_train_scaled2),y_train2))\n",
    "print(\"ERROR RMSLE de validacion: \", rmsle(modelNNR_2.predict(X_val_scaled),y_val))"
   ]
  },
  {
   "cell_type": "markdown",
   "metadata": {},
   "source": [
    "Se grafica la nueva predicción en función de los valores reales:"
   ]
  },
  {
   "cell_type": "code",
   "execution_count": 21,
   "metadata": {},
   "outputs": [
    {
     "data": {
      "image/png": "[encoded data removed]",
      "text/plain": [
       "<Figure size 864x576 with 1 Axes>"
      ]
     },
     "metadata": {},
     "output_type": "display_data"
    }
   ],
   "source": [
    "graficar_predicciones(y_test,modelNNR_2.predict(X_test_scaled))"
   ]
  },
  {
   "cell_type": "markdown",
   "metadata": {},
   "source": [
    "Lo que respecta a redes neuronales, no se logró una mejora significativa respecto al modelo anterior por lo que la clave puede estar en una buena ingeniería de atributos."
   ]
  },
  {
   "cell_type": "markdown",
   "metadata": {},
   "source": [
    "Ahora, probando con knn junto la variación de otros parámetros se obtiene:"
   ]
  },
  {
   "cell_type": "code",
   "execution_count": 22,
   "metadata": {},
   "outputs": [
    {
     "name": "stdout",
     "output_type": "stream",
     "text": [
      "Vecinos: 7\n",
      "ERROR RMSLE de training:  0.0034789635426418337\n",
      "ERROR RMSLE de val:  0.4086860358515662\n"
     ]
    }
   ],
   "source": [
    "print(\"Vecinos:\", 7)\n",
    "model = KNeighborsRegressor()\n",
    "model.set_params(n_neighbors=7, weights = \"distance\", algorithm= \"auto\", n_jobs = -1)\n",
    "model.fit(X_train_scaled2, y_train2)\n",
    "print (\"ERROR RMSLE de training: \", rmsle(model.predict(X_train_scaled2),y_train2))\n",
    "print (\"ERROR RMSLE de val: \", rmsle(model.predict(X_val_scaled),y_val))"
   ]
  },
  {
   "cell_type": "markdown",
   "metadata": {},
   "source": [
    "Con los nuevos parámetros, el error de entrenamiento se reduce bastante. El error de evaluación también se reduce pero la diferencia entre el error de entrenamiento y validación es considerable por lo que claramente existe overfitting en este modelo."
   ]
  },
  {
   "cell_type": "markdown",
   "metadata": {},
   "source": [
    "> h) Mejore el modelo de aprendizaje definido en el punto anterior, g), haciendo modificaciones sobre la representación utilizada para aprender desde los datos, es decir, *feature engineering* [[6]](#refs). Ya sea añadir nuevas características (puede inspirarse en los __[códigos](https://www.kaggle.com/c/nyc-taxi-trip-duration/kernels)__ de la gente en la competencia), como por ejemplo rescatar algo más de la fecha, como el año o los minutos, o algo de la ubicación y la distancia geográfica. También está la opción de utilizar lo visto en la tarea 1, de *feature selection* con FSS, *Mutual Information*, etc. Sea creativo, este paso le debiese reportar un salto de calidad muy significativo (RMSLE disminuir en 0.1 sobre el conjunto de pruebas)."
   ]
  },
  {
   "cell_type": "markdown",
   "metadata": {},
   "source": [
    "Se agregan al dataset: velocidad, minutos y el año. Con esto se vuelve a probar los modelos."
   ]
  },
  {
   "cell_type": "code",
   "execution_count": 13,
   "metadata": {},
   "outputs": [
    {
     "data": {
      "text/html": [
       "<div>\n",
       "<style scoped>\n",
       "    .dataframe tbody tr th:only-of-type {\n",
       "        vertical-align: middle;\n",
       "    }\n",
       "\n",
       "    .dataframe tbody tr th {\n",
       "        vertical-align: top;\n",
       "    }\n",
       "\n",
       "    .dataframe thead th {\n",
       "        text-align: right;\n",
       "    }\n",
       "</style>\n",
       "<table border=\"1\" class=\"dataframe\">\n",
       "  <thead>\n",
       "    <tr style=\"text-align: right;\">\n",
       "      <th></th>\n",
       "      <th>passenger_count</th>\n",
       "      <th>pickup_longitude</th>\n",
       "      <th>pickup_latitude</th>\n",
       "      <th>dropoff_longitude</th>\n",
       "      <th>dropoff_latitude</th>\n",
       "      <th>hour</th>\n",
       "      <th>cday</th>\n",
       "      <th>month</th>\n",
       "      <th>distancia_viaje</th>\n",
       "      <th>distancia_viaje_km</th>\n",
       "      <th>grado_direccion</th>\n",
       "      <th>season</th>\n",
       "      <th>holiday</th>\n",
       "      <th>velocidad</th>\n",
       "      <th>year</th>\n",
       "      <th>minutes</th>\n",
       "    </tr>\n",
       "  </thead>\n",
       "  <tbody>\n",
       "    <tr>\n",
       "      <th>0</th>\n",
       "      <td>1</td>\n",
       "      <td>-73.982155</td>\n",
       "      <td>40.767937</td>\n",
       "      <td>-73.964630</td>\n",
       "      <td>40.765602</td>\n",
       "      <td>17</td>\n",
       "      <td>0</td>\n",
       "      <td>3</td>\n",
       "      <td>0.017680</td>\n",
       "      <td>1.498523</td>\n",
       "      <td>99.970196</td>\n",
       "      <td>1</td>\n",
       "      <td>0</td>\n",
       "      <td>0.003293</td>\n",
       "      <td>2016</td>\n",
       "      <td>24</td>\n",
       "    </tr>\n",
       "    <tr>\n",
       "      <th>1</th>\n",
       "      <td>1</td>\n",
       "      <td>-73.980415</td>\n",
       "      <td>40.738564</td>\n",
       "      <td>-73.999481</td>\n",
       "      <td>40.731152</td>\n",
       "      <td>0</td>\n",
       "      <td>6</td>\n",
       "      <td>6</td>\n",
       "      <td>0.020456</td>\n",
       "      <td>1.805510</td>\n",
       "      <td>242.846232</td>\n",
       "      <td>2</td>\n",
       "      <td>0</td>\n",
       "      <td>0.002723</td>\n",
       "      <td>2016</td>\n",
       "      <td>43</td>\n",
       "    </tr>\n",
       "    <tr>\n",
       "      <th>3</th>\n",
       "      <td>1</td>\n",
       "      <td>-74.010040</td>\n",
       "      <td>40.719971</td>\n",
       "      <td>-74.012268</td>\n",
       "      <td>40.706718</td>\n",
       "      <td>19</td>\n",
       "      <td>2</td>\n",
       "      <td>4</td>\n",
       "      <td>0.013438</td>\n",
       "      <td>1.485501</td>\n",
       "      <td>187.262300</td>\n",
       "      <td>1</td>\n",
       "      <td>0</td>\n",
       "      <td>0.003463</td>\n",
       "      <td>2016</td>\n",
       "      <td>32</td>\n",
       "    </tr>\n",
       "    <tr>\n",
       "      <th>4</th>\n",
       "      <td>1</td>\n",
       "      <td>-73.973053</td>\n",
       "      <td>40.793209</td>\n",
       "      <td>-73.972923</td>\n",
       "      <td>40.782520</td>\n",
       "      <td>13</td>\n",
       "      <td>5</td>\n",
       "      <td>3</td>\n",
       "      <td>0.010690</td>\n",
       "      <td>1.188590</td>\n",
       "      <td>179.473585</td>\n",
       "      <td>1</td>\n",
       "      <td>0</td>\n",
       "      <td>0.002732</td>\n",
       "      <td>2016</td>\n",
       "      <td>30</td>\n",
       "    </tr>\n",
       "    <tr>\n",
       "      <th>5</th>\n",
       "      <td>6</td>\n",
       "      <td>-73.982857</td>\n",
       "      <td>40.742195</td>\n",
       "      <td>-73.992081</td>\n",
       "      <td>40.749184</td>\n",
       "      <td>22</td>\n",
       "      <td>5</td>\n",
       "      <td>1</td>\n",
       "      <td>0.011572</td>\n",
       "      <td>1.098944</td>\n",
       "      <td>315.004404</td>\n",
       "      <td>0</td>\n",
       "      <td>0</td>\n",
       "      <td>0.002481</td>\n",
       "      <td>2016</td>\n",
       "      <td>1</td>\n",
       "    </tr>\n",
       "  </tbody>\n",
       "</table>\n",
       "</div>"
      ],
      "text/plain": [
       "   passenger_count  pickup_longitude  pickup_latitude  dropoff_longitude  \\\n",
       "0                1        -73.982155        40.767937         -73.964630   \n",
       "1                1        -73.980415        40.738564         -73.999481   \n",
       "3                1        -74.010040        40.719971         -74.012268   \n",
       "4                1        -73.973053        40.793209         -73.972923   \n",
       "5                6        -73.982857        40.742195         -73.992081   \n",
       "\n",
       "   dropoff_latitude  hour  cday  month  distancia_viaje  distancia_viaje_km  \\\n",
       "0         40.765602    17     0      3         0.017680            1.498523   \n",
       "1         40.731152     0     6      6         0.020456            1.805510   \n",
       "3         40.706718    19     2      4         0.013438            1.485501   \n",
       "4         40.782520    13     5      3         0.010690            1.188590   \n",
       "5         40.749184    22     5      1         0.011572            1.098944   \n",
       "\n",
       "   grado_direccion  season  holiday  velocidad  year  minutes  \n",
       "0        99.970196       1        0   0.003293  2016       24  \n",
       "1       242.846232       2        0   0.002723  2016       43  \n",
       "3       187.262300       1        0   0.003463  2016       32  \n",
       "4       179.473585       1        0   0.002732  2016       30  \n",
       "5       315.004404       0        0   0.002481  2016        1  "
      ]
     },
     "execution_count": 13,
     "metadata": {},
     "output_type": "execute_result"
    }
   ],
   "source": [
    "dfPure = pd.read_csv(\"train.csv\")\n",
    "dfNew = df\n",
    "dfNew['velocidad'] = df['distancia_viaje_km']/dfPure['trip_duration']\n",
    "dfNew['year'] = pd.to_datetime(dfPure['pickup_datetime']).dt.year\n",
    "dfNew['year'] = pd.to_numeric(dfNew['year'])\n",
    "dfNew['minutes'] = pd.to_datetime(dfPure['pickup_datetime']).dt.minute\n",
    "dfNew['minutes'] = pd.to_numeric(dfNew['minutes'])\n",
    "dfNew.head()\n"
   ]
  },
  {
   "cell_type": "code",
   "execution_count": 14,
   "metadata": {},
   "outputs": [
    {
     "name": "stdout",
     "output_type": "stream",
     "text": [
      "Conjunto de entrenamiento:\n",
      "(660927, 16)\n",
      "Conjunto de validación:\n",
      "(283254, 16)\n"
     ]
    }
   ],
   "source": [
    "# Corresponde a los valores de Y, la duración del viaje.\n",
    "y3 = dfPure['trip_duration'].values\n",
    "\n",
    "# Se obtiene la matriz de X.\n",
    "X3 = dfNew.values\n",
    "\n",
    "# Se selecciona aleateriamente el conjunto de entrenamiento y prueba.\n",
    "X_train3, X_test3, y_train3, y_test3 = train_test_split(X3, y, test_size=0.3, random_state=42)\n",
    "\n",
    "# Se escalan los valores con robustscaler. \n",
    "scaler = RobustScaler(with_centering=True, with_scaling=True)\n",
    "\n",
    "scaler.fit(X_train3)\n",
    "\n",
    "# Valores escalados.\n",
    "X_train_scaled3 = scaler.transform(X_train3)\n",
    "X_test_scaled3 = scaler.transform(X_test3)\n",
    "\n",
    "puntoDeCorte2 = X_train_scaled3.shape[0]*0.7\n",
    "\n",
    "X_train_scaled4 = X_train_scaled3[:round(puntoDeCorte2)]\n",
    "X_val_scaled4 = X_train_scaled3[round(puntoDeCorte2):]\n",
    "\n",
    "y_train4 = y_train3[:round(puntoDeCorte2)]\n",
    "y_val4 = y_train3[round(puntoDeCorte2):]\n",
    "print(\"Conjunto de entrenamiento:\")\n",
    "print(X_train_scaled4.shape)\n",
    "print(\"Conjunto de validación:\")\n",
    "print(X_val_scaled4.shape)"
   ]
  },
  {
   "cell_type": "code",
   "execution_count": 25,
   "metadata": {},
   "outputs": [
    {
     "name": "stdout",
     "output_type": "stream",
     "text": [
      "Epoch 1/10\n",
      "944181/944181 [==============================] - 19s 20us/step - loss: 0.5558\n",
      "Epoch 2/10\n",
      "944181/944181 [==============================] - 21s 22us/step - loss: 0.0783\n",
      "Epoch 3/10\n",
      "944181/944181 [==============================] - 20s 22us/step - loss: 0.0708\n",
      "Epoch 4/10\n",
      "944181/944181 [==============================] - 19s 20us/step - loss: 0.0686\n",
      "Epoch 5/10\n",
      "944181/944181 [==============================] - 21s 23us/step - loss: 0.0669\n",
      "Epoch 6/10\n",
      "944181/944181 [==============================] - 19s 20us/step - loss: 0.0656 0s - loss: 0.06\n",
      "Epoch 7/10\n",
      "944181/944181 [==============================] - 19s 20us/step - loss: 0.0645\n",
      "Epoch 8/10\n",
      "944181/944181 [==============================] - 20s 21us/step - loss: 0.0639\n",
      "Epoch 9/10\n",
      "944181/944181 [==============================] - 26s 28us/step - loss: 0.0627\n",
      "Epoch 10/10\n",
      "944181/944181 [==============================] - 21s 22us/step - loss: 0.0624\n"
     ]
    },
    {
     "data": {
      "text/plain": [
       "<keras.callbacks.History at 0x21c85171d68>"
      ]
     },
     "execution_count": 25,
     "metadata": {},
     "output_type": "execute_result"
    }
   ],
   "source": [
    "modelNNR2 = Sequential()\n",
    "modelNNR2.add(Dense(512, input_dim=X_train_scaled3.shape[1], kernel_initializer='normal', activation=\"relu\"))\n",
    "modelNNR2.add(Dropout(0.5))\n",
    "modelNNR2.add(Dense(256, kernel_initializer='normal', activation=\"relu\"))\n",
    "modelNNR2.add(Dropout(0.5))\n",
    "modelNNR2.add(Dense(128, kernel_initializer='normal', activation=\"relu\"))\n",
    "modelNNR2.add(Dropout(0.5))\n",
    "modelNNR2.add(Dense(64, kernel_initializer='normal', activation=\"relu\"))\n",
    "modelNNR2.add(Dropout(0.5))\n",
    "modelNNR2.add(Dense(1, kernel_initializer='normal'))\n",
    "\n",
    "modelNNR2.compile(loss=losses.mean_squared_logarithmic_error, optimizer='RMSprop')\n",
    "\n",
    "modelNNR2.fit(X_train_scaled3, y_train3, epochs=10, batch_size=1024, verbose=1)"
   ]
  },
  {
   "cell_type": "code",
   "execution_count": 26,
   "metadata": {},
   "outputs": [
    {
     "name": "stdout",
     "output_type": "stream",
     "text": [
      "ERROR RMSLE de training:  [0.15709073]\n",
      "ERROR RMSLE de test:  [0.15526999]\n"
     ]
    }
   ],
   "source": [
    "print (\"ERROR RMSLE de training: \", rmsle(modelNNR2.predict(X_train_scaled3),y_train3))\n",
    "print (\"ERROR RMSLE de test: \", rmsle(modelNNR2.predict(X_test_scaled3),y_test3))"
   ]
  },
  {
   "cell_type": "markdown",
   "metadata": {},
   "source": [
    "Al agregar estos nuevos parámetros podemos notar que el error se reduce considerablemente. Esto puede ser explicado porque la variable velocidad es un derivado del tiempo de viaje, por lo que tenemos un parámetro del cuál podemos obtener este tiempo."
   ]
  },
  {
   "cell_type": "code",
   "execution_count": 27,
   "metadata": {},
   "outputs": [
    {
     "name": "stdout",
     "output_type": "stream",
     "text": [
      "Vecinos: 50\n",
      "ERROR RMSLE de training:  0.0\n",
      "ERROR RMSLE de val:  0.2872142517066163\n"
     ]
    }
   ],
   "source": [
    "print(\"Vecinos:\", 50)\n",
    "model = KNeighborsRegressor()\n",
    "model.set_params(n_neighbors=50, weights = \"distance\", algorithm= \"auto\", n_jobs = -1)\n",
    "model.fit(X_train_scaled3, y_train3)\n",
    "print (\"ERROR RMSLE de training: \", rmsle(model.predict(X_train_scaled3),y_train3))\n",
    "print (\"ERROR RMSLE de val: \", rmsle(model.predict(X_test_scaled3),y_test3))"
   ]
  },
  {
   "cell_type": "markdown",
   "metadata": {},
   "source": [
    "Para un modelo de knn con peso a la distancia también se puede notar que le error bajó, de hecho es 0 en el entrenamiento pero lamentablemente el conjunto de prueba no es así. Existe un claro overfitting."
   ]
  },
  {
   "cell_type": "code",
   "execution_count": 28,
   "metadata": {},
   "outputs": [
    {
     "name": "stdout",
     "output_type": "stream",
     "text": [
      "Vecinos: 50\n",
      "ERROR RMSLE de training:  0.28873289437888777\n",
      "ERROR RMSLE de test:  0.2900744620151515\n"
     ]
    }
   ],
   "source": [
    "print(\"Vecinos:\", 50)\n",
    "model = KNeighborsRegressor()\n",
    "model.set_params(n_neighbors=50, algorithm= \"auto\", n_jobs = -1)\n",
    "model.fit(X_train_scaled3, y_train3)\n",
    "print (\"ERROR RMSLE de training: \", rmsle(model.predict(X_train_scaled3),y_train3))\n",
    "print (\"ERROR RMSLE de test: \", rmsle(model.predict(X_test_scaled3),y_test3))"
   ]
  },
  {
   "cell_type": "markdown",
   "metadata": {},
   "source": [
    "Para knn con 50 vecinos y una función de distancia estandar, el error se reduce en ambos conjuntos ya demás la diferencia entre ellos se reduce considerablemente. Esta configuración de parámetros no presenta overfitting."
   ]
  },
  {
   "cell_type": "markdown",
   "metadata": {},
   "source": [
    "> i) Ahora intente mejorar el modelo de aprendizaje definido en el punto anterior a través de alguna transformación al *output*. Por ejemplo, los histogramas que construyó en el punto a), ası́ como la forma especial de la función de evaluación, sugieren una cierta transformación de la variable respuesta (*output/target*). Una observación importante es que si hace una transformación a la variable respuesta (por ejemplo raı́z cuadrada), debe invertir esta transformación antes de evaluar el desempeño con la métrica de desempeño (por ejemplo, elevar al cuadrado si tomó raı́z cuadrada). Con ésto debería llegar a reducir el RMSLE a menos de 0.5."
   ]
  },
  {
   "cell_type": "markdown",
   "metadata": {},
   "source": [
    "No se pudo implementar."
   ]
  },
  {
   "cell_type": "code",
   "execution_count": 22,
   "metadata": {},
   "outputs": [
    {
     "data": {
      "text/plain": [
       "1"
      ]
     },
     "execution_count": 22,
     "metadata": {},
     "output_type": "execute_result"
    }
   ],
   "source": []
  },
  {
   "cell_type": "markdown",
   "metadata": {},
   "source": [
    "> j) Evalúe el efecto de utilizar un ensamblado (combinación) de 2 máquinas de aprendizaje para predecir la duración de un viaje en taxi. Un modelo se especializará en la predicción de la duración de viajes de corta distancia, mientras que el otro modelo se enfocará en la predicción de la duración de viajes de larga distancia. Para la separación considere la media aritmética como el *split*. Hay razones claras para pensar que los patrones son distintos ¿Por qué? Puede mezclar distintos modelos de aprendizaje para cada subconjunto de dato de entrenamiento."
   ]
  },
  {
   "cell_type": "code",
   "execution_count": 29,
   "metadata": {},
   "outputs": [
    {
     "name": "stdout",
     "output_type": "stream",
     "text": [
      "<class 'pandas.core.frame.DataFrame'>\n",
      "Int64Index: 1348831 entries, 0 to 1458643\n",
      "Data columns (total 16 columns):\n",
      "passenger_count       1348831 non-null int64\n",
      "pickup_longitude      1348831 non-null float64\n",
      "pickup_latitude       1348831 non-null float64\n",
      "dropoff_longitude     1348831 non-null float64\n",
      "dropoff_latitude      1348831 non-null float64\n",
      "hour                  1348831 non-null int64\n",
      "cday                  1348831 non-null int64\n",
      "month                 1348831 non-null int64\n",
      "distancia_viaje       1348831 non-null float64\n",
      "distancia_viaje_km    1348831 non-null float64\n",
      "grado_direccion       1348831 non-null float64\n",
      "season                1348831 non-null int64\n",
      "holiday               1348831 non-null int8\n",
      "velocidad             1348831 non-null float64\n",
      "year                  1348831 non-null int64\n",
      "minutes               1348831 non-null int64\n",
      "dtypes: float64(8), int64(7), int8(1)\n",
      "memory usage: 205.9 MB\n",
      "None\n",
      "   passenger_count  pickup_longitude  pickup_latitude  dropoff_longitude  \\\n",
      "0                1        -73.982155        40.767937         -73.964630   \n",
      "1                1        -73.980415        40.738564         -73.999481   \n",
      "3                1        -74.010040        40.719971         -74.012268   \n",
      "4                1        -73.973053        40.793209         -73.972923   \n",
      "5                6        -73.982857        40.742195         -73.992081   \n",
      "\n",
      "   dropoff_latitude  hour  cday  month  distancia_viaje  distancia_viaje_km  \\\n",
      "0         40.765602    17     0      3         0.017680            1.498523   \n",
      "1         40.731152     0     6      6         0.020456            1.805510   \n",
      "3         40.706718    19     2      4         0.013438            1.485501   \n",
      "4         40.782520    13     5      3         0.010690            1.188590   \n",
      "5         40.749184    22     5      1         0.011572            1.098944   \n",
      "\n",
      "   grado_direccion  season  holiday  velocidad  year  minutes  \n",
      "0        99.970196       1        0   0.003293  2016       24  \n",
      "1       242.846232       2        0   0.002723  2016       43  \n",
      "3       187.262300       1        0   0.003463  2016       32  \n",
      "4       179.473585       1        0   0.002732  2016       30  \n",
      "5       315.004404       0        0   0.002481  2016        1  \n"
     ]
    }
   ],
   "source": [
    "import pandas as pd\n",
    "dafframe = pd.read_csv(\"train.csv\")\n",
    "print(df.info())\n",
    "print(df.head())"
   ]
  }
 ],
 "metadata": {
  "kernelspec": {
   "display_name": "Python 3",
   "language": "python",
   "name": "python3"
  },
  "language_info": {
   "codemirror_mode": {
    "name": "ipython",
    "version": 3
   },
   "file_extension": ".py",
   "mimetype": "text/x-python",
   "name": "python",
   "nbconvert_exporter": "python",
   "pygments_lexer": "ipython3",
   "version": "3.6.5"
  }
 },
 "nbformat": 4,
 "nbformat_minor": 2
}
