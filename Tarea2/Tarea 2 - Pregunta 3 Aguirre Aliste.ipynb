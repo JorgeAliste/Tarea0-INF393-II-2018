{
 "cells": [
  {
   "cell_type": "markdown",
   "metadata": {},
   "source": [
    "<img src=\"http://www.exalumnos.usm.cl/wp-content/uploads/2015/06/Isotipo-Negro.gif\" title=\"Title text\" width=\"20%\" height=\"20%\" />\n",
    "\n",
    "\n",
    "<hr style=\"height:2px;border:none\"/>\n",
    "<h1 align='center'> INF-393 Máquinas de Aprendizaje II-2018 </h1>\n",
    "\n",
    "<H3 align='center'> Tarea 2 - Fronteras no Lineales </H3>\n",
    "<H4 align='center'> Integrantes: Pablo Aguirre, Rol: 201473555-3; Jorge Aliste, Rol: 201473538-3 </H4>\n",
    "<hr style=\"height:2px;border:none\"/>"
   ]
  },
  {
   "cell_type": "markdown",
   "metadata": {},
   "source": [
    "## Pregunta 3: *Taxi Trip Duration*\n",
    "\n",
    "El objetivo de esta pregunta es predecir la duración del viaje de un taxi en Nueva York. La métrica de evaluación será el RMSLE (*Root Mean Squared Logarithm Error*):\n",
    "\n",
    "$$\n",
    "E(y,\\hat{y}) = \\sqrt{ \\frac{1}{n} \\sum_{i=1}^n \\left( \\log{(y_i +1)}- \\log{(\\hat{y}_i+1}) \\right)^2}\n",
    "$$"
   ]
  },
  {
   "cell_type": "code",
   "execution_count": 1,
   "metadata": {},
   "outputs": [
    {
     "name": "stderr",
     "output_type": "stream",
     "text": [
      "D:\\Anaconda3\\lib\\site-packages\\h5py\\__init__.py:36: FutureWarning: Conversion of the second argument of issubdtype from `float` to `np.floating` is deprecated. In future, it will be treated as `np.float64 == np.dtype(float).type`.\n",
      "  from ._conv import register_converters as _register_converters\n",
      "Using TensorFlow backend.\n"
     ]
    }
   ],
   "source": [
    "from geopy.distance import great_circle\n",
    "import numpy as np\n",
    "import matplotlib.pyplot as plt\n",
    "from pandas.tseries.holiday import USFederalHolidayCalendar\n",
    "\n",
    "from sklearn.model_selection import train_test_split\n",
    "from sklearn.preprocessing import RobustScaler,StandardScaler\n",
    "\n",
    "from sklearn.svm import SVR\n",
    "from keras.models import Sequential\n",
    "from keras.layers import Dense, Dropout\n",
    "from keras import losses"
   ]
  },
  {
   "cell_type": "code",
   "execution_count": 2,
   "metadata": {},
   "outputs": [],
   "source": [
    "def rmsle(predicted,real):    \n",
    "    suma=0.0\n",
    "    for x in range(len(predicted)):\n",
    "        p = np.log(predicted[x]+1)\n",
    "        r = np.log(real[x]+1)\n",
    "        suma += np.power((p - r),2)\n",
    "    return np.sqrt(suma/len(predicted))"
   ]
  },
  {
   "cell_type": "markdown",
   "metadata": {},
   "source": [
    "> a) Cargue los datos de entrenamiento como *dataframes* de pandas. Describa las variables involucradas en el problema, explorando el tipo de datos de que se trata, el número de valores distinto. Grafique adecuadamente el valor a predecir con algún gráfico que resuma su comportamiento, e.g. un histograma, boxplot u otro."
   ]
  },
  {
   "cell_type": "code",
   "execution_count": 3,
   "metadata": {},
   "outputs": [
    {
     "name": "stdout",
     "output_type": "stream",
     "text": [
      "<class 'pandas.core.frame.DataFrame'>\n",
      "RangeIndex: 1458644 entries, 0 to 1458643\n",
      "Data columns (total 11 columns):\n",
      "id                    1458644 non-null object\n",
      "vendor_id             1458644 non-null int64\n",
      "pickup_datetime       1458644 non-null object\n",
      "dropoff_datetime      1458644 non-null object\n",
      "passenger_count       1458644 non-null int64\n",
      "pickup_longitude      1458644 non-null float64\n",
      "pickup_latitude       1458644 non-null float64\n",
      "dropoff_longitude     1458644 non-null float64\n",
      "dropoff_latitude      1458644 non-null float64\n",
      "store_and_fwd_flag    1458644 non-null object\n",
      "trip_duration         1458644 non-null int64\n",
      "dtypes: float64(4), int64(3), object(4)\n",
      "memory usage: 122.4+ MB\n",
      "None\n",
      "          id  vendor_id      pickup_datetime     dropoff_datetime  \\\n",
      "0  id2875421          2  2016-03-14 17:24:55  2016-03-14 17:32:30   \n",
      "1  id2377394          1  2016-06-12 00:43:35  2016-06-12 00:54:38   \n",
      "2  id3858529          2  2016-01-19 11:35:24  2016-01-19 12:10:48   \n",
      "3  id3504673          2  2016-04-06 19:32:31  2016-04-06 19:39:40   \n",
      "4  id2181028          2  2016-03-26 13:30:55  2016-03-26 13:38:10   \n",
      "\n",
      "   passenger_count  pickup_longitude  pickup_latitude  dropoff_longitude  \\\n",
      "0                1        -73.982155        40.767937         -73.964630   \n",
      "1                1        -73.980415        40.738564         -73.999481   \n",
      "2                1        -73.979027        40.763939         -74.005333   \n",
      "3                1        -74.010040        40.719971         -74.012268   \n",
      "4                1        -73.973053        40.793209         -73.972923   \n",
      "\n",
      "   dropoff_latitude store_and_fwd_flag  trip_duration  \n",
      "0         40.765602                  N            455  \n",
      "1         40.731152                  N            663  \n",
      "2         40.710087                  N           2124  \n",
      "3         40.706718                  N            429  \n",
      "4         40.782520                  N            435  \n"
     ]
    },
    {
     "data": {
      "text/plain": [
       "array([ 455,  663, 2124, ...,  764,  373,  198], dtype=int64)"
      ]
     },
     "execution_count": 3,
     "metadata": {},
     "output_type": "execute_result"
    }
   ],
   "source": [
    "import pandas as pd\n",
    "df = pd.read_csv(\"train.csv\")\n",
    "print(df.info())\n",
    "print(df.head())\n",
    "output = df['trip_duration'].values\n",
    "output"
   ]
  },
  {
   "cell_type": "markdown",
   "metadata": {},
   "source": [
    "Dentro del dataset se encuentran 10 variables y 2 datos que son de identificación. \n",
    "+ Id: string que correspende a la id que se le da al viaje, es para identificar y no sirve como variable.\n",
    "+ vendor_id: entero que corresponde al código asociado al vendedor. Considerado variable ya que cada conductor conduce de distinta forma favoreciendo o perjudicando el tiempo de viaje.\n",
    "+ pickup_datetime, dropoff_datetime: strings que permiten conocer el tiempo en que se tomó y dejó a los pasajeros. El tiempo puede influir debido al tráfico.\n",
    "+ passenger_count: entero con la cantidad de pasajeros. Este podría influir debido a que un pasajero se baje antes.\n",
    "+ pickup_longitude, pickup_latitude, dropoff_latitude, dropoff_latitude: variables tipo float que proporciona información de la ubicación en que se toma y deja al pasajero. El sector donde ocurre esto influye en los tiempos.\n",
    "+ store_and_fwd_flag: tipo char que determina si los datos fueron guardados en el almacenamiento del vehículo o si fueron enviados inmediatamente. Este dato no debe influir en el tiempo.\n",
    "+ trip_duration: variable entera que indica el tiempo en que demora en realizar el viaje. Esta sería la variable dependiente."
   ]
  },
  {
   "cell_type": "markdown",
   "metadata": {},
   "source": [
    "Ahora, para un mejor análisis se genera un boxplot de la variable trip_duration:"
   ]
  },
  {
   "cell_type": "code",
   "execution_count": 4,
   "metadata": {},
   "outputs": [
    {
     "data": {
      "image/png": "[encoded data removed]",
      "text/plain": [
       "<Figure size 432x288 with 1 Axes>"
      ]
     },
     "metadata": {},
     "output_type": "display_data"
    }
   ],
   "source": [
    "fig, ax = plt.subplots()\n",
    "\n",
    "box = df.boxplot(ax=ax, column='trip_duration') \n",
    "plt.show()"
   ]
  },
  {
   "cell_type": "markdown",
   "metadata": {},
   "source": [
    "El boxplot resultante indica que hay varios outliers que ni siquiera permiten ver bien el boxplot. Por lo que usando un histograma y acotando el rango se obtiene el siguiente histograma."
   ]
  },
  {
   "cell_type": "code",
   "execution_count": 5,
   "metadata": {},
   "outputs": [
    {
     "data": {
      "text/plain": [
       "array([[<matplotlib.axes._subplots.AxesSubplot object at 0x000001FD520E8CF8>]],\n",
       "      dtype=object)"
      ]
     },
     "execution_count": 5,
     "metadata": {},
     "output_type": "execute_result"
    },
    {
     "data": {
      "image/png": "[encoded data removed]",
      "text/plain": [
       "<Figure size 432x288 with 1 Axes>"
      ]
     },
     "metadata": {},
     "output_type": "display_data"
    }
   ],
   "source": [
    "df.hist(column=['trip_duration'], range = (0,2300))"
   ]
  },
  {
   "cell_type": "markdown",
   "metadata": {},
   "source": [
    "Con el histrograma se puede notar que la mayor cantidad de viajes toma un tiempo entre 250 segundos y 750."
   ]
  },
  {
   "cell_type": "markdown",
   "metadata": {},
   "source": [
    "> b) Como puede  observar en los análisis preliminares exiten algunos *outliers* en los datos los cuales pensamos eliminar para que no entorpezca el aprendizaje, además que son muy pocos."
   ]
  },
  {
   "cell_type": "markdown",
   "metadata": {},
   "source": [
    "Para un mejor análisis, se eliminan los outliers. Como estos datos son muy distintos a los de la muestra, pueden afectar al entrenamiento de muy mala manera."
   ]
  },
  {
   "cell_type": "code",
   "execution_count": 6,
   "metadata": {},
   "outputs": [],
   "source": [
    "df = df[(df['trip_duration']<=1800)]"
   ]
  },
  {
   "cell_type": "markdown",
   "metadata": {},
   "source": [
    "Se genera nuevamente el boxplot:"
   ]
  },
  {
   "cell_type": "code",
   "execution_count": 7,
   "metadata": {},
   "outputs": [
    {
     "data": {
      "text/plain": [
       "<matplotlib.axes._subplots.AxesSubplot at 0x1fd523715f8>"
      ]
     },
     "execution_count": 7,
     "metadata": {},
     "output_type": "execute_result"
    },
    {
     "data": {
      "image/png": "[encoded data removed]",
      "text/plain": [
       "<Figure size 432x288 with 1 Axes>"
      ]
     },
     "metadata": {},
     "output_type": "display_data"
    }
   ],
   "source": [
    "df.boxplot(column=['trip_duration'])"
   ]
  },
  {
   "cell_type": "markdown",
   "metadata": {},
   "source": [
    "Ahora, se puede notar que la mediana se encuentra de los 500 segundos y como la caja se ve uniforme, podemos decir que la cantidad de datos se distribuye normalmente alrededor de la mediana."
   ]
  },
  {
   "cell_type": "markdown",
   "metadata": {},
   "source": [
    "> c) La primera operación que realizaremos a los datos como pre-procesamiento será la de extraer/generar características de manera manual de algunos atributos que resulta necesario hcaer, como desde la fecha (string) puede ser extraída la hora del día, creando una nueva columna denominada *hour* y de tipo *int* discreto, o bien, para la localización del viaje punto a punto se pueden extraer distintas **medidas de distancia**. Comente sobre el pre-procesamiento realizado.  "
   ]
  },
  {
   "cell_type": "code",
   "execution_count": 8,
   "metadata": {},
   "outputs": [
    {
     "data": {
      "text/html": [
       "<div>\n",
       "<style scoped>\n",
       "    .dataframe tbody tr th:only-of-type {\n",
       "        vertical-align: middle;\n",
       "    }\n",
       "\n",
       "    .dataframe tbody tr th {\n",
       "        vertical-align: top;\n",
       "    }\n",
       "\n",
       "    .dataframe thead th {\n",
       "        text-align: right;\n",
       "    }\n",
       "</style>\n",
       "<table border=\"1\" class=\"dataframe\">\n",
       "  <thead>\n",
       "    <tr style=\"text-align: right;\">\n",
       "      <th></th>\n",
       "      <th>passenger_count</th>\n",
       "      <th>pickup_longitude</th>\n",
       "      <th>pickup_latitude</th>\n",
       "      <th>dropoff_longitude</th>\n",
       "      <th>dropoff_latitude</th>\n",
       "      <th>trip_duration</th>\n",
       "      <th>hour</th>\n",
       "      <th>cday</th>\n",
       "      <th>month</th>\n",
       "      <th>distancia_viaje</th>\n",
       "      <th>distancia_viaje_km</th>\n",
       "      <th>grado_direccion</th>\n",
       "      <th>season</th>\n",
       "      <th>holiday</th>\n",
       "    </tr>\n",
       "  </thead>\n",
       "  <tbody>\n",
       "    <tr>\n",
       "      <th>0</th>\n",
       "      <td>1</td>\n",
       "      <td>-73.982155</td>\n",
       "      <td>40.767937</td>\n",
       "      <td>-73.964630</td>\n",
       "      <td>40.765602</td>\n",
       "      <td>455</td>\n",
       "      <td>17</td>\n",
       "      <td>0</td>\n",
       "      <td>3</td>\n",
       "      <td>0.017680</td>\n",
       "      <td>1.498523</td>\n",
       "      <td>99.970196</td>\n",
       "      <td>1</td>\n",
       "      <td>0</td>\n",
       "    </tr>\n",
       "    <tr>\n",
       "      <th>1</th>\n",
       "      <td>1</td>\n",
       "      <td>-73.980415</td>\n",
       "      <td>40.738564</td>\n",
       "      <td>-73.999481</td>\n",
       "      <td>40.731152</td>\n",
       "      <td>663</td>\n",
       "      <td>0</td>\n",
       "      <td>6</td>\n",
       "      <td>6</td>\n",
       "      <td>0.020456</td>\n",
       "      <td>1.805510</td>\n",
       "      <td>242.846232</td>\n",
       "      <td>2</td>\n",
       "      <td>0</td>\n",
       "    </tr>\n",
       "    <tr>\n",
       "      <th>3</th>\n",
       "      <td>1</td>\n",
       "      <td>-74.010040</td>\n",
       "      <td>40.719971</td>\n",
       "      <td>-74.012268</td>\n",
       "      <td>40.706718</td>\n",
       "      <td>429</td>\n",
       "      <td>19</td>\n",
       "      <td>2</td>\n",
       "      <td>4</td>\n",
       "      <td>0.013438</td>\n",
       "      <td>1.485501</td>\n",
       "      <td>187.262300</td>\n",
       "      <td>1</td>\n",
       "      <td>0</td>\n",
       "    </tr>\n",
       "    <tr>\n",
       "      <th>4</th>\n",
       "      <td>1</td>\n",
       "      <td>-73.973053</td>\n",
       "      <td>40.793209</td>\n",
       "      <td>-73.972923</td>\n",
       "      <td>40.782520</td>\n",
       "      <td>435</td>\n",
       "      <td>13</td>\n",
       "      <td>5</td>\n",
       "      <td>3</td>\n",
       "      <td>0.010690</td>\n",
       "      <td>1.188590</td>\n",
       "      <td>179.473585</td>\n",
       "      <td>1</td>\n",
       "      <td>0</td>\n",
       "    </tr>\n",
       "    <tr>\n",
       "      <th>5</th>\n",
       "      <td>6</td>\n",
       "      <td>-73.982857</td>\n",
       "      <td>40.742195</td>\n",
       "      <td>-73.992081</td>\n",
       "      <td>40.749184</td>\n",
       "      <td>443</td>\n",
       "      <td>22</td>\n",
       "      <td>5</td>\n",
       "      <td>1</td>\n",
       "      <td>0.011572</td>\n",
       "      <td>1.098944</td>\n",
       "      <td>315.004404</td>\n",
       "      <td>0</td>\n",
       "      <td>0</td>\n",
       "    </tr>\n",
       "  </tbody>\n",
       "</table>\n",
       "</div>"
      ],
      "text/plain": [
       "   passenger_count  pickup_longitude  pickup_latitude  dropoff_longitude  \\\n",
       "0                1        -73.982155        40.767937         -73.964630   \n",
       "1                1        -73.980415        40.738564         -73.999481   \n",
       "3                1        -74.010040        40.719971         -74.012268   \n",
       "4                1        -73.973053        40.793209         -73.972923   \n",
       "5                6        -73.982857        40.742195         -73.992081   \n",
       "\n",
       "   dropoff_latitude  trip_duration  hour  cday  month  distancia_viaje  \\\n",
       "0         40.765602            455    17     0      3         0.017680   \n",
       "1         40.731152            663     0     6      6         0.020456   \n",
       "3         40.706718            429    19     2      4         0.013438   \n",
       "4         40.782520            435    13     5      3         0.010690   \n",
       "5         40.749184            443    22     5      1         0.011572   \n",
       "\n",
       "   distancia_viaje_km  grado_direccion  season  holiday  \n",
       "0            1.498523        99.970196       1        0  \n",
       "1            1.805510       242.846232       2        0  \n",
       "3            1.485501       187.262300       1        0  \n",
       "4            1.188590       179.473585       1        0  \n",
       "5            1.098944       315.004404       0        0  "
      ]
     },
     "execution_count": 8,
     "metadata": {},
     "output_type": "execute_result"
    }
   ],
   "source": [
    "\"\"\"extraer caract geograficas\"\"\"\n",
    "def distance(p_lat,p_long,d_lat,d_long):\n",
    "    pickup = (p_lat, p_long)\n",
    "    dropoff = (d_lat, d_long)\n",
    "    distance_all=great_circle(pickup, dropoff).km\n",
    "    return distance_all\n",
    "def grado(p_lat,p_long,d_lat,d_long):\n",
    "    lat1= np.radians(p_lat)\n",
    "    lat2= np.radians(d_lat)\n",
    "    dLon = np.radians(d_long - p_long)\n",
    "    y = np.sin(dLon)*np.cos(lat2)\n",
    "    x = np.cos(lat1)*np.sin(lat2) - np.sin(lat1)*np.cos(lat2)*np.cos(dLon)\n",
    "    return (np.degrees( np.arctan2(y,x) ) + 360 ) %360\n",
    "\n",
    "cal = USFederalHolidayCalendar()\n",
    "holidays = cal.holidays(start='2015',end='2017')\n",
    "def preprocesar(df):\n",
    "    df.fillna(0,inplace=True)\n",
    "    \"\"\"transformar fechas a tiempos\"\"\"\n",
    "    df['hour'] = pd.to_datetime(df['pickup_datetime']).dt.hour\n",
    "    df['hour'] = pd.to_numeric(df['hour'])\n",
    "    df['cday'] = pd.to_datetime(df['pickup_datetime']).dt.dayofweek #0:lunes,6:domingo\n",
    "    df['cday'] = pd.to_numeric(df['cday'])\n",
    "    df['month'] = pd.to_datetime(df['pickup_datetime']).dt.month #1:enero, 12: diciembre\n",
    "    df['month'] = pd.to_numeric(df['month'])\n",
    "    \"\"\"Feature Generation\"\"\"\n",
    "    df['distancia_viaje'] = np.sqrt( np.square(df['pickup_longitude']-df['dropoff_longitude']) \n",
    "                                    + np.square(df['pickup_latitude']-df['dropoff_latitude'])) #euclideana\n",
    "    distancia_real_aprox = [ distance(df['pickup_latitude'].values[i], \n",
    "                                 df['pickup_longitude'].values[i],\n",
    "                                 df['dropoff_latitude'].values[i],\n",
    "                                 df['dropoff_longitude'].values[i]) for i in range(len(df['pickup_latitude']))]\n",
    "    df['distancia_viaje_km'] = distancia_real_aprox\n",
    "    df['grado_direccion'] = [ grado(df['pickup_latitude'].values[i],  #agregar direccion (en base a grado)\n",
    "                                 df['pickup_longitude'].values[i],\n",
    "                                 df['dropoff_latitude'].values[i],\n",
    "                                 df['dropoff_longitude'].values[i]) for i in range(len(df['pickup_latitude']))]\n",
    "    seasons = [0,0,1,1,1,2]  #0: winter, 1: spring, 2: summer\n",
    "    df['season'] = [ seasons[df['month'].values[i] - 1] for i in range(len(df['month'])) ]  #agregar temporada\n",
    "    df['holiday'] = df['pickup_datetime'].isin(holidays) #holidays\n",
    "    \"\"\" Eliminar columnas -- limpiar\"\"\"\n",
    "    df.drop([\"pickup_datetime\",\"dropoff_datetime\",\"id\",\"vendor_id\",\"store_and_fwd_flag\"], axis=1,inplace=True)\n",
    "    df[\"holiday\"] = df[\"holiday\"].astype('category')#a categorico\n",
    "    \"\"\"codifica\"\"\"\n",
    "    cat_columns = df.select_dtypes(['category']).columns\n",
    "    df[cat_columns] = df[cat_columns].apply(lambda x: x.cat.codes)\n",
    "preprocesar(df)\n",
    "df.head()"
   ]
  },
  {
   "cell_type": "markdown",
   "metadata": {},
   "source": [
    "El objetivo del pre-procesamiento es generar nuevos atributos como combinaciones de otros pre-existentes. Esto puede servir ya que algunos atributos se potencian al estar en conjunto con otros."
   ]
  },
  {
   "cell_type": "markdown",
   "metadata": {},
   "source": [
    "> d) Cree las estructuras de los datos a utilizar, además de crear el conjunto de pruebas para validar los modelos ¿Cuáles son las dimensiones de cada conjunto? Normalice los datos, elija algún *scaler* y comente sobre su decisión."
   ]
  },
  {
   "cell_type": "code",
   "execution_count": 9,
   "metadata": {},
   "outputs": [],
   "source": [
    "y = df['trip_duration'].values\n",
    "df.drop(\"trip_duration\",axis=1,inplace=True)\n",
    "X = df.values\n",
    "\n",
    "X_train, X_test, y_train, y_test = train_test_split(X, y, test_size=0.3, random_state=42)\n",
    "\n",
    "scaler = RobustScaler(with_centering=True, with_scaling=True)\n",
    "scaler.fit(X_train)\n",
    "X_train_scaled = scaler.transform(X_train)\n",
    "X_test_scaled = scaler.transform(X_test)"
   ]
  },
  {
   "cell_type": "code",
   "execution_count": 10,
   "metadata": {},
   "outputs": [
    {
     "name": "stdout",
     "output_type": "stream",
     "text": [
      "Entrenamiento:  (941868, 13)\n",
      "Prueba:  (403658, 13)\n"
     ]
    }
   ],
   "source": [
    "print(\"Entrenamiento: \", X_train_scaled.shape)\n",
    "print(\"Prueba: \", X_test_scaled.shape)"
   ]
  },
  {
   "cell_type": "markdown",
   "metadata": {},
   "source": [
    "El conjunto de entrenamiento cuenta con 941868 registros, mientras que el conjunto de prueba cuenta con 403658. Ambos con 13 atributos para cada registro."
   ]
  },
  {
   "cell_type": "markdown",
   "metadata": {},
   "source": [
    "Se elige `RobustScaler` ya que es mas resistente a los outliers y podría favorecer la generalización por parte del modelo."
   ]
  },
  {
   "cell_type": "markdown",
   "metadata": {},
   "source": [
    "> e) En base a la definición del problema de ésta sección y a lo experimentado en la sección 1, escoga un modelo de aprendizaje para experimentar en la predicción de la duración del viaje, comente sobre su decisión. Entrene el modelo escogido, usando parámetros por defecto, sobre la representación escalada generada anteriormente y mida el error de la competencia RMSLE sobre ambos conjuntos, comente."
   ]
  },
  {
   "cell_type": "markdown",
   "metadata": {},
   "source": [
    "El modelo por utilizar es una Red Neuronal Feed Forward. Se eligió este modelo debido a la gran cantidad de registros que se tienen para el input. Una red con muchas neuronas puede aprovechar esta cantidad más que una SVR."
   ]
  },
  {
   "cell_type": "code",
   "execution_count": 11,
   "metadata": {},
   "outputs": [
    {
     "name": "stdout",
     "output_type": "stream",
     "text": [
      "Epoch 1/10\n",
      "941868/941868 [==============================] - 10s 11us/step - loss: 0.7550\n",
      "Epoch 2/10\n",
      "941868/941868 [==============================] - 9s 9us/step - loss: 0.2271\n",
      "Epoch 3/10\n",
      "941868/941868 [==============================] - 9s 9us/step - loss: 0.2146\n",
      "Epoch 4/10\n",
      "941868/941868 [==============================] - 9s 9us/step - loss: 0.2079\n",
      "Epoch 5/10\n",
      "941868/941868 [==============================] - 9s 9us/step - loss: 0.2035A: - ETA: 1s - ETA: 0s - loss: 0.2\n",
      "Epoch 6/10\n",
      "941868/941868 [==============================] - 9s 9us/step - loss: 0.2000\n",
      "Epoch 7/10\n",
      "941868/941868 [==============================] - 9s 9us/step - loss: 0.1966\n",
      "Epoch 8/10\n",
      "941868/941868 [==============================] - 10s 11us/step - loss: 0.1939\n",
      "Epoch 9/10\n",
      "941868/941868 [==============================] - 11s 11us/step - loss: 0.1916\n",
      "Epoch 10/10\n",
      "941868/941868 [==============================] - 10s 10us/step - loss: 0.1898\n"
     ]
    },
    {
     "data": {
      "text/plain": [
       "<keras.callbacks.History at 0x1fd6eec3d68>"
      ]
     },
     "execution_count": 11,
     "metadata": {},
     "output_type": "execute_result"
    }
   ],
   "source": [
    "modelNNR = Sequential()\n",
    "modelNNR.add(Dense(512, input_dim=X_train_scaled.shape[1], kernel_initializer='normal', activation=\"relu\"))\n",
    "modelNNR.add(Dropout(0.5))\n",
    "modelNNR.add(Dense(256, kernel_initializer='normal', activation=\"relu\"))\n",
    "modelNNR.add(Dropout(0.5))\n",
    "modelNNR.add(Dense(128, kernel_initializer='normal', activation=\"relu\"))\n",
    "modelNNR.add(Dropout(0.5))\n",
    "modelNNR.add(Dense(64, kernel_initializer='normal', activation=\"relu\"))\n",
    "modelNNR.add(Dropout(0.5))\n",
    "modelNNR.add(Dense(1, kernel_initializer='normal'))\n",
    "\n",
    "modelNNR.compile(loss=losses.mean_squared_logarithmic_error, optimizer='RMSprop')\n",
    "\n",
    "modelNNR.fit(X_train_scaled, y_train, epochs=10, batch_size=1024, verbose=1)"
   ]
  },
  {
   "cell_type": "code",
   "execution_count": 12,
   "metadata": {},
   "outputs": [
    {
     "name": "stdout",
     "output_type": "stream",
     "text": [
      "ERROR RMSLE de training:  [0.37610036]\n",
      "ERROR RMSLE de test:  [0.37740209]\n"
     ]
    }
   ],
   "source": [
    "print(\"ERROR RMSLE de training: \", rmsle(modelNNR.predict(X_train_scaled),y_train))\n",
    "print(\"ERROR RMSLE de test: \", rmsle(modelNNR.predict(X_test_scaled),y_test))"
   ]
  },
  {
   "cell_type": "markdown",
   "metadata": {},
   "source": [
    "Mientras mas cercano a cero sea el RMSLE obtenido, mejor es el modelo. El error de entrenamiento y el de prueba son parecidos por lo que no se está produciendo overfitting."
   ]
  },
  {
   "cell_type": "markdown",
   "metadata": {},
   "source": [
    "> f) Grafique las predicciones generadas por su modelo *vs* el valor real ¿Cuál es el comportamiento esperado? ¿Su resultado se asemeja a éste? ¿Por qué?"
   ]
  },
  {
   "cell_type": "code",
   "execution_count": 13,
   "metadata": {},
   "outputs": [
    {
     "data": {
      "image/png": "[encoded data removed]",
      "text/plain": [
       "<Figure size 864x576 with 1 Axes>"
      ]
     },
     "metadata": {},
     "output_type": "display_data"
    }
   ],
   "source": [
    "def graficar_predicciones(real,predecido):\n",
    "    plt.figure(figsize=(12,8))\n",
    "    plt.plot(real,predecido,'b.')\n",
    "    valor_max = int( np.max( [np.max(predecido),np.max(real)]))\n",
    "    valor_min = int( np.min( [np.min(predecido),np.min(real)]))\n",
    "    plt.plot(range(valor_min,valor_max+1), range(valor_min,valor_max+1), color =\"r\")\n",
    "    plt.axis('tight')\n",
    "    plt.xlabel('Valor Real')\n",
    "    plt.ylabel('Prediccion')\n",
    "    plt.show()\n",
    "    \n",
    "graficar_predicciones(y_test,modelNNR.predict(X_test_scaled))"
   ]
  },
  {
   "cell_type": "markdown",
   "metadata": {},
   "source": [
    "El comportamiento esperado es que los puntos azules se ubiquen en la recta roja. Esto significa que el modelo es capaz de generalizar bien y la regresión es adecuada. \n",
    "En este caso los puntos azules están ubicados al comienzo de la recta roja, exceptuando algunos valores que se encuentran sobre la recta, por lo que la generalización no es mala."
   ]
  },
  {
   "cell_type": "markdown",
   "metadata": {},
   "source": [
    "> g) Mejore el desempeño del modelo de aprendizaje definido en e) haciendo modificaciones a los hiper-parámetros del modelo. Por ejemplo, tener ojo con el sobre-ajuste del modelo. Naturalmente, está absolutamente prohibido tomar este tipo de decisiones en función del resultado de pruebas. Debe realizar estas elecciones evaluando sobre el conjunto de validación. Si no desea utilizarlo, y prefiere implementar validación cruzada u otra técnica automática, tiene la ventaja de poder usar el conjunto de validación como parte del entrenamiento. \n"
   ]
  },
  {
   "cell_type": "markdown",
   "metadata": {},
   "source": [
    "Para el error de validación se decidió crear un conjunto de validación a partir del conjunto de entrenamiento original ya que se tienen muchos datos y sería excesivo y costoso usar calidación cruzada. La proporción es 70% entrenamiento y 30% validación."
   ]
  },
  {
   "cell_type": "code",
   "execution_count": 14,
   "metadata": {},
   "outputs": [],
   "source": [
    "puntoDeCorte = X_train_scaled.shape[0]*0.7\n",
    "\n",
    "X_train_scaled2 = X_train_scaled[:round(puntoDeCorte)]\n",
    "X_val_scaled = X_train_scaled[round(puntoDeCorte):]\n",
    "\n",
    "y_train2 = y_train[:round(puntoDeCorte)]\n",
    "y_val = y_train[round(puntoDeCorte):]"
   ]
  },
  {
   "cell_type": "code",
   "execution_count": 15,
   "metadata": {},
   "outputs": [
    {
     "name": "stdout",
     "output_type": "stream",
     "text": [
      "Epoch 1/10\n",
      "659308/659308 [==============================] - 15s 23us/step - loss: 0.3769 0s - loss: 0.\n",
      "Epoch 2/10\n",
      "659308/659308 [==============================] - 16s 25us/step - loss: 0.2141\n",
      "Epoch 3/10\n",
      "659308/659308 [==============================] - 17s 26us/step - loss: 0.2006\n",
      "Epoch 4/10\n",
      "659308/659308 [==============================] - 17s 26us/step - loss: 0.1923\n",
      "Epoch 5/10\n",
      "659308/659308 [==============================] - 17s 27us/step - loss: 0.1880\n",
      "Epoch 6/10\n",
      "659308/659308 [==============================] - 17s 26us/step - loss: 0.1844\n",
      "Epoch 7/10\n",
      "659308/659308 [==============================] - 18s 27us/step - loss: 0.1815\n",
      "Epoch 8/10\n",
      "659308/659308 [==============================] - 15s 22us/step - loss: 0.1794\n",
      "Epoch 9/10\n",
      "659308/659308 [==============================] - 15s 22us/step - loss: 0.1776\n",
      "Epoch 10/10\n",
      "659308/659308 [==============================] - 17s 26us/step - loss: 0.1764\n"
     ]
    },
    {
     "data": {
      "text/plain": [
       "<keras.callbacks.History at 0x1fd6e56a978>"
      ]
     },
     "execution_count": 15,
     "metadata": {},
     "output_type": "execute_result"
    }
   ],
   "source": [
    "modelNNR_2 = Sequential()\n",
    "modelNNR_2.add(Dense(512, input_dim=13, kernel_initializer='normal', activation=\"relu\"))\n",
    "modelNNR_2.add(Dropout(0.5))\n",
    "modelNNR_2.add(Dense(512, kernel_initializer='normal', activation=\"relu\"))\n",
    "modelNNR_2.add(Dropout(0.5))\n",
    "modelNNR_2.add(Dense(256, kernel_initializer='normal', activation=\"relu\"))\n",
    "modelNNR_2.add(Dropout(0.5))\n",
    "modelNNR_2.add(Dense(256, kernel_initializer='normal', activation=\"relu\"))\n",
    "modelNNR_2.add(Dropout(0.5))\n",
    "modelNNR_2.add(Dense(128, kernel_initializer='normal', activation=\"relu\"))\n",
    "modelNNR_2.add(Dropout(0.5))\n",
    "modelNNR_2.add(Dense(128, kernel_initializer='normal', activation=\"relu\"))\n",
    "modelNNR_2.add(Dropout(0.5))\n",
    "modelNNR_2.add(Dense(1, kernel_initializer='normal'))\n",
    "\n",
    "modelNNR_2.compile(loss=losses.mean_squared_logarithmic_error, optimizer='RMSprop')\n",
    "\n",
    "modelNNR_2.fit(X_train_scaled2, y_train2, epochs=10, batch_size=512, verbose=1)"
   ]
  },
  {
   "cell_type": "code",
   "execution_count": 16,
   "metadata": {},
   "outputs": [
    {
     "name": "stdout",
     "output_type": "stream",
     "text": [
      "ERROR RMSLE de training:  [0.36558604]\n",
      "ERROR RMSLE de validacion:  [0.36698651]\n"
     ]
    }
   ],
   "source": [
    "print(\"ERROR RMSLE de training: \", rmsle(modelNNR_2.predict(X_train_scaled2),y_train2))\n",
    "print(\"ERROR RMSLE de validacion: \", rmsle(modelNNR_2.predict(X_val_scaled),y_val))"
   ]
  },
  {
   "cell_type": "code",
   "execution_count": 17,
   "metadata": {},
   "outputs": [
    {
     "data": {
      "image/png": "[encoded data removed]",
      "text/plain": [
       "<Figure size 864x576 with 1 Axes>"
      ]
     },
     "metadata": {},
     "output_type": "display_data"
    }
   ],
   "source": [
    "def graficar_predicciones(real,predecido):\n",
    "    plt.figure(figsize=(12,8))\n",
    "    plt.plot(real,predecido,'b.')\n",
    "    valor_max = int( np.max( [np.max(predecido),np.max(real)]))\n",
    "    valor_min = int( np.min( [np.min(predecido),np.min(real)]))\n",
    "    plt.plot(range(valor_min,valor_max+1), range(valor_min,valor_max+1), color =\"r\")\n",
    "    plt.axis('tight')\n",
    "    plt.xlabel('Valor Real')\n",
    "    plt.ylabel('Prediccion')\n",
    "    plt.show()\n",
    "    \n",
    "graficar_predicciones(y_test,modelNNR_2.predict(X_test_scaled))"
   ]
  },
  {
   "cell_type": "markdown",
   "metadata": {},
   "source": [
    "No se logró una mejora significativa respecto al modelo anterior por lo que la clave puede estar en una buena ingeniería de atributos."
   ]
  },
  {
   "cell_type": "markdown",
   "metadata": {},
   "source": [
    "> h) Mejore el modelo de aprendizaje definido en el punto anterior, g), haciendo modificaciones sobre la representación utilizada para aprender desde los datos, es decir, *feature engineering* [[6]](#refs). Ya sea añadir nuevas características (puede inspirarse en los __[códigos](https://www.kaggle.com/c/nyc-taxi-trip-duration/kernels)__ de la gente en la competencia), como por ejemplo rescatar algo más de la fecha, como el año o los minutos, o algo de la ubicación y la distancia geográfica. También está la opción de utilizar lo visto en la tarea 1, de *feature selection* con FSS, *Mutual Information*, etc. Sea creativo, este paso le debiese reportar un salto de calidad muy significativo (RMSLE disminuir en 0.1 sobre el conjunto de pruebas)."
   ]
  },
  {
   "cell_type": "markdown",
   "metadata": {},
   "source": [
    "No se pudo implementar."
   ]
  },
  {
   "cell_type": "markdown",
   "metadata": {},
   "source": [
    "> i) Ahora intente mejorar el modelo de aprendizaje definido en el punto anterior a través de alguna transformación al *output*. Por ejemplo, los histogramas que construyó en el punto a), ası́ como la forma especial de la función de evaluación, sugieren una cierta transformación de la variable respuesta (*output/target*). Una observación importante es que si hace una transformación a la variable respuesta (por ejemplo raı́z cuadrada), debe invertir esta transformación antes de evaluar el desempeño con la métrica de desempeño (por ejemplo, elevar al cuadrado si tomó raı́z cuadrada). Con ésto debería llegar a reducir el RMSLE a menos de 0.5."
   ]
  },
  {
   "cell_type": "markdown",
   "metadata": {},
   "source": [
    "No se pudo implementar."
   ]
  },
  {
   "cell_type": "markdown",
   "metadata": {},
   "source": [
    "> j) Evalúe el efecto de utilizar un ensamblado (combinación) de 2 máquinas de aprendizaje para predecir la duración de un viaje en taxi. Un modelo se especializará en la predicción de la duración de viajes de corta distancia, mientras que el otro modelo se enfocará en la predicción de la duración de viajes de larga distancia. Para la separación considere la media aritmética como el *split*. Hay razones claras para pensar que los patrones son distintos ¿Por qué? Puede mezclar distintos modelos de aprendizaje para cada subconjunto de dato de entrenamiento."
   ]
  },
  {
   "cell_type": "markdown",
   "metadata": {},
   "source": [
    "No se pudo implementar."
   ]
  }
 ],
 "metadata": {
  "kernelspec": {
   "display_name": "Python 3",
   "language": "python",
   "name": "python3"
  },
  "language_info": {
   "codemirror_mode": {
    "name": "ipython",
    "version": 3
   },
   "file_extension": ".py",
   "mimetype": "text/x-python",
   "name": "python",
   "nbconvert_exporter": "python",
   "pygments_lexer": "ipython3",
   "version": "3.6.5"
  }
 },
 "nbformat": 4,
 "nbformat_minor": 2
}
