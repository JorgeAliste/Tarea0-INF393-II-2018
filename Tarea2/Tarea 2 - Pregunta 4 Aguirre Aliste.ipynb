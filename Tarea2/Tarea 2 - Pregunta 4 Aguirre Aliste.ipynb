{
 "cells": [
  {
   "cell_type": "markdown",
   "metadata": {},
   "source": [
    "<img src=\"http://www.exalumnos.usm.cl/wp-content/uploads/2015/06/Isotipo-Negro.gif\" title=\"Title text\" width=\"20%\" height=\"20%\" />\n",
    "\n",
    "\n",
    "<hr style=\"height:2px;border:none\"/>\n",
    "<h1 align='center'> INF-393 Máquinas de Aprendizaje II-2018 </h1>\n",
    "\n",
    "<H3 align='center'> Tarea 2 - Fronteras no Lineales </H3>\n",
    "<H4 align='center'> Integrantes: Pablo Aguirre, Rol: 201473555-3; Jorge Aliste, Rol: 201473538-3 </H4>\n",
    "<hr style=\"height:2px;border:none\"/>"
   ]
  },
  {
   "cell_type": "markdown",
   "metadata": {},
   "source": [
    "## Pregunta 4: Entendimiento de imágenes de personas.\n",
    "\n",
    "El objetivo de esta pregunta es lograr predecir la edad de una persona a través de una foto de ella. Para esto se usarán representaciones de características extraídas y se compararán distintos modelos usando como métrica el error cuadrado medio (MSE).\n",
    "\n",
    "<img src=\"https://i.imgur.com/6B072GE.jpg\" width=\"60%\" height=\"20%\" />"
   ]
  },
  {
   "cell_type": "code",
   "execution_count": 1,
   "metadata": {},
   "outputs": [
    {
     "name": "stderr",
     "output_type": "stream",
     "text": [
      "C:\\Users\\pablo\\Anaconda3\\lib\\site-packages\\h5py\\__init__.py:36: FutureWarning: Conversion of the second argument of issubdtype from `float` to `np.floating` is deprecated. In future, it will be treated as `np.float64 == np.dtype(float).type`.\n",
      "  from ._conv import register_converters as _register_converters\n",
      "Using TensorFlow backend.\n"
     ]
    }
   ],
   "source": [
    "import numpy as np\n",
    "import scipy.io as sio\n",
    "import time\n",
    "import matplotlib.pyplot as plt\n",
    "\n",
    "from sklearn.svm import SVR\n",
    "from sklearn.kernel_ridge import KernelRidge\n",
    "from sklearn.metrics import mean_squared_error\n",
    "from sklearn.model_selection import cross_validate\n",
    "\n",
    "from keras.models import Sequential\n",
    "from keras.layers import Dense, Dropout\n",
    "\n",
    "from keras.wrappers.scikit_learn import KerasRegressor, KerasClassifier\n",
    "from keras.utils import to_categorical\n",
    "from sklearn.preprocessing import StandardScaler\n",
    "from sklearn.model_selection import cross_val_score\n",
    "from sklearn.model_selection import KFold"
   ]
  },
  {
   "cell_type": "markdown",
   "metadata": {},
   "source": [
    "> a) Cargue los dataset de entrenamiento y de pruebas ¿Cuántos datos hay en cada conjunto?"
   ]
  },
  {
   "cell_type": "code",
   "execution_count": 2,
   "metadata": {},
   "outputs": [],
   "source": [
    "mat_train = sio.loadmat(\"./eventrain.mat\")\n",
    "mat_test = sio.loadmat(\"./eventest.mat\")\n",
    "\n",
    "data_train= mat_train[\"trcoll\"][0][0]\n",
    "data_test= mat_test[\"tecoll\"][0][0]"
   ]
  },
  {
   "cell_type": "code",
   "execution_count": 5,
   "metadata": {},
   "outputs": [
    {
     "name": "stdout",
     "output_type": "stream",
     "text": [
      "X_train:  (3500, 14)\n",
      "X_test:  (1050, 14)\n"
     ]
    }
   ],
   "source": [
    "print(\"X_train: \",data_train[0].shape)\n",
    "print(\"X_test: \",data_test[0].shape)"
   ]
  },
  {
   "cell_type": "markdown",
   "metadata": {},
   "source": [
    "Se cuenta con 3500 registros para el conjunto de entrenamiento y 1050 registros para el conjunto de pruebas."
   ]
  },
  {
   "cell_type": "markdown",
   "metadata": {},
   "source": [
    "> b) Elija cuál representación utilizará para trabajar los datos y entregárselos como *input* al modelo de aprendizaje a utilizar, recuerde que puede utilizar una combinación de éstos si lo desea. Además extraiga las salidas/*output* del problema, en este caso, como ya se comentó, la edad. Describa los datos utilizados y la cantidad de datos por rango de edad."
   ]
  },
  {
   "cell_type": "markdown",
   "metadata": {},
   "source": [
    "La representación que se utilizará es Fisherface Space ya que usa LDA para reducir la dimensionalidad y es robusta ante variaciones de luz y de expresiones faciales."
   ]
  },
  {
   "cell_type": "code",
   "execution_count": 6,
   "metadata": {},
   "outputs": [],
   "source": [
    "#genFeat = data[0]  #it can be used as representation: contextual features\n",
    "#ageClass = data[1] #target\n",
    "#ffcoefs = data[3]   #it can be used as representation: fisherface space\n",
    "#faceGist = data[4]  #it can be used as representation\n",
    "\n",
    "X_train = data_train[3]\n",
    "y_train = data_train[1] \n",
    "\n",
    "X_test = data_test[3] \n",
    "y_test = data_test[1] "
   ]
  },
  {
   "cell_type": "markdown",
   "metadata": {},
   "source": [
    "A continuación, se describen los datos utilizados."
   ]
  },
  {
   "cell_type": "code",
   "execution_count": 27,
   "metadata": {},
   "outputs": [
    {
     "data": {
      "text/plain": [
       "(3500, 37)"
      ]
     },
     "execution_count": 27,
     "metadata": {},
     "output_type": "execute_result"
    }
   ],
   "source": [
    "X_train.shape"
   ]
  },
  {
   "cell_type": "markdown",
   "metadata": {},
   "source": [
    "Cada registro cuenta con 37 atributos."
   ]
  },
  {
   "cell_type": "code",
   "execution_count": 7,
   "metadata": {},
   "outputs": [
    {
     "data": {
      "text/plain": [
       "array([ 1,  5, 10, 16, 28, 51, 75], dtype=uint8)"
      ]
     },
     "execution_count": 7,
     "metadata": {},
     "output_type": "execute_result"
    }
   ],
   "source": [
    "np.unique(y_train)"
   ]
  },
  {
   "cell_type": "markdown",
   "metadata": {},
   "source": [
    "Se tienen 7 clases: 1, 5, 10, 16, 28, 51, 75."
   ]
  },
  {
   "cell_type": "code",
   "execution_count": 8,
   "metadata": {},
   "outputs": [
    {
     "name": "stdout",
     "output_type": "stream",
     "text": [
      "Clase '1' tiene 650 datos.\n",
      "Clase '5' tiene 650 datos.\n",
      "Clase '10' tiene 650 datos.\n",
      "Clase '16' tiene 650 datos.\n",
      "Clase '28' tiene 650 datos.\n",
      "Clase '51' tiene 650 datos.\n",
      "Clase '75' tiene 650 datos.\n"
     ]
    }
   ],
   "source": [
    "diccio = {\n",
    "    1: 0,\n",
    "    5: 0,\n",
    "    10: 0,\n",
    "    16: 0,\n",
    "    28: 0,\n",
    "    51: 0,\n",
    "    75: 0   \n",
    "}\n",
    "\n",
    "for elemento in y_train:\n",
    "    diccio[elemento[0]] += 1\n",
    "for elemento in y_test:\n",
    "    diccio[elemento[0]] += 1\n",
    "    \n",
    "print(\"Clase '1' tiene\", diccio[1], \"datos.\")\n",
    "print(\"Clase '5' tiene\", diccio[5], \"datos.\")\n",
    "print(\"Clase '10' tiene\", diccio[10], \"datos.\")\n",
    "print(\"Clase '16' tiene\", diccio[16], \"datos.\")\n",
    "print(\"Clase '28' tiene\", diccio[28], \"datos.\")\n",
    "print(\"Clase '51' tiene\", diccio[51], \"datos.\")\n",
    "print(\"Clase '75' tiene\", diccio[75], \"datos.\")"
   ]
  },
  {
   "cell_type": "markdown",
   "metadata": {},
   "source": [
    "Como se puede ver, todas las clases cuentan con la misma cantidad de datos."
   ]
  },
  {
   "cell_type": "markdown",
   "metadata": {},
   "source": [
    "> c) Defina y entrene modelos de aprendizaje para la inferencia de la edad de la persona a través de la representación escogida, *se espera que experimente con distintas configuraciones, modelos e hiper-parámetros* . Intente llegar a un *MSE* menor a 100 sobre la edad de las personas en el conjunto de pruebas. Recuerde que **NO** puede seleccionar modelos a través del conjunto de pruebas. Visualice sus resultados si estima conveniente."
   ]
  },
  {
   "cell_type": "markdown",
   "metadata": {},
   "source": [
    "Es necesario convertir los vectores de las clases usando `ravel()` ya que SVR no acepta los vectores actuales. Lo que hace `ravel()` es convertir un vector de forma [ [5], [1], [3] ] a un vector de forma [5, 1, 3]. Por otra parte, se compararán modelos usando X normalizado y X sin normalizar."
   ]
  },
  {
   "cell_type": "code",
   "execution_count": 9,
   "metadata": {},
   "outputs": [],
   "source": [
    "y_train_transf = np.ravel(y_train)\n",
    "y_test_transf = np.ravel(y_test)\n",
    "\n",
    "scaler = StandardScaler()\n",
    "scaler.fit(X_train)\n",
    "\n",
    "X_train_std = scaler.transform(X_train)\n",
    "X_test_std = scaler.transform(X_test)"
   ]
  },
  {
   "cell_type": "markdown",
   "metadata": {},
   "source": [
    "### Primer Modelo: SVR"
   ]
  },
  {
   "cell_type": "markdown",
   "metadata": {},
   "source": [
    "El primer modelo por entrenar será una SVR (Support Vector Regression) con kernel RBF para obtener fronteras no lineales. Primero se graficará el MSE para cada SVR variando el parámetro de regularización `C`."
   ]
  },
  {
   "cell_type": "code",
   "execution_count": 10,
   "metadata": {},
   "outputs": [
    {
     "name": "stdout",
     "output_type": "stream",
     "text": [
      "Tiempo que tarda en ejecutarse: 104.1 segundos\n"
     ]
    }
   ],
   "source": [
    "start = time.time()\n",
    "\n",
    "Cs = [0.001,0.1,1,1000, 10000]\n",
    "\n",
    "erroresTrainSVR = []\n",
    "erroresValSVR = []\n",
    "\n",
    "erroresTrainSVRstd = []\n",
    "erroresValSVRstd = []\n",
    "\n",
    "for c in Cs:\n",
    "    modelSVR_prueba = SVR(kernel=\"rbf\", C=c)\n",
    "    modelSVR_prueba.fit(X_train, y_train_transf)\n",
    "    \n",
    "    modelSVR_prueba_std = SVR(kernel=\"rbf\", C=c, epsilon = 0.001)\n",
    "    modelSVR_prueba_std.fit(X_train_std, y_train_transf)\n",
    "    \n",
    "    cv_resultsSVR_prueba = cross_validate(modelSVR_prueba, X=X_train, y=y_train_transf, cv=10, scoring=\"neg_mean_squared_error\", n_jobs = -1, return_train_score=True)\n",
    "    cv_resultsSVR_prueba_std = cross_validate(modelSVR_prueba_std, X=X_train_std, y=y_train_transf, cv=10, scoring=\"neg_mean_squared_error\", n_jobs = -1, return_train_score=True)\n",
    "    \n",
    "    erroresTrainSVR.append(-1*np.mean(cv_resultsSVR_prueba[\"train_score\"]))\n",
    "    erroresValSVR.append(-1*np.mean(cv_resultsSVR_prueba[\"test_score\"]))\n",
    "    \n",
    "    erroresTrainSVRstd.append(-1*np.mean(cv_resultsSVR_prueba_std[\"train_score\"]))\n",
    "    erroresValSVRstd.append(-1*np.mean(cv_resultsSVR_prueba_std[\"test_score\"]))\n",
    "    \n",
    "print(\"Tiempo que tarda en ejecutarse:\", round(time.time()-start, 1), \"segundos\") "
   ]
  },
  {
   "cell_type": "code",
   "execution_count": 11,
   "metadata": {},
   "outputs": [
    {
     "data": {
      "image/png": "[encoded data removed]",
      "text/plain": [
       "<matplotlib.figure.Figure at 0x1ab07306400>"
      ]
     },
     "metadata": {},
     "output_type": "display_data"
    }
   ],
   "source": [
    "plt.close('all')\n",
    "\n",
    "plt.figure(figsize=(15,7))\n",
    "plt.suptitle(\"SVR\", size=16)\n",
    "plt.subplot(121)\n",
    "ax = plt.gca()\n",
    "ax.plot(Cs, erroresTrainSVR, color='red', label= 'Entrenamiento')\n",
    "ax.plot(Cs, erroresValSVR, color='blue', label='Validación')\n",
    "ax.set_xscale('log')\n",
    "plt.xlabel(\"C\")\n",
    "plt.ylabel(\"MSE\")\n",
    "plt.title(\"X sin normalizar\")\n",
    "plt.legend(loc='best')\n",
    "\n",
    "plt.subplot(122)\n",
    "ax = plt.gca()\n",
    "ax = plt.gca()\n",
    "ax.plot(Cs, erroresTrainSVRstd, color='red', label= 'Entrenamiento')\n",
    "ax.plot(Cs, erroresValSVRstd, color='blue', label='Validación')\n",
    "ax.set_xscale('log')\n",
    "plt.xlabel(\"C\")\n",
    "plt.ylabel(\"MSE\")\n",
    "plt.title(\"X normalizado\")\n",
    "plt.legend(loc='best')\n",
    "\n",
    "plt.show()"
   ]
  },
  {
   "cell_type": "markdown",
   "metadata": {},
   "source": [
    "De los gráficos se pueden desprender dos cosas:\n",
    "+ Normalizar X produce overfitting, por lo que no es recomendable usarlo para el modelo.\n",
    "+ Aumentar C reduce proporcionalmente el MSE"
   ]
  },
  {
   "cell_type": "markdown",
   "metadata": {},
   "source": [
    "A continuación, se entrenará una SVR usando C = 10000 para ver en más detalle los errores de entrenamiento y validación. "
   ]
  },
  {
   "cell_type": "code",
   "execution_count": 12,
   "metadata": {},
   "outputs": [
    {
     "data": {
      "text/plain": [
       "SVR(C=10000, cache_size=200, coef0=0.0, degree=3, epsilon=0.1, gamma='auto',\n",
       "  kernel='rbf', max_iter=-1, shrinking=True, tol=0.001, verbose=False)"
      ]
     },
     "execution_count": 12,
     "metadata": {},
     "output_type": "execute_result"
    }
   ],
   "source": [
    "modelSVR = SVR(kernel=\"rbf\", C=10000)\n",
    "modelSVR.fit(X_train, y_train_transf)"
   ]
  },
  {
   "cell_type": "markdown",
   "metadata": {},
   "source": [
    "Para evaluar el modelo se usará validación cruzada con 10 folds."
   ]
  },
  {
   "cell_type": "code",
   "execution_count": 13,
   "metadata": {},
   "outputs": [
    {
     "name": "stdout",
     "output_type": "stream",
     "text": [
      "Error de entrenamiento: 449.31\n",
      "Error de validación: 474.33\n"
     ]
    }
   ],
   "source": [
    "cv_resultsSVR = cross_validate(modelSVR, X=X_train, y=y_train_transf, cv=10, scoring=\"neg_mean_squared_error\", n_jobs = -1, return_train_score=True)\n",
    "\n",
    "errorValSVR = -1*np.mean(cv_resultsSVR[\"test_score\"])\n",
    "errorTrainSVR = -1*np.mean(cv_resultsSVR[\"train_score\"])\n",
    "\n",
    "print(\"Error de entrenamiento: %.2f\" % (errorTrainSVR))\n",
    "print(\"Error de validación: %.2f\" % (errorValSVR))"
   ]
  },
  {
   "cell_type": "markdown",
   "metadata": {},
   "source": [
    "### Segundo Modelo: Kernel Ridge Regression"
   ]
  },
  {
   "cell_type": "markdown",
   "metadata": {},
   "source": [
    "El segundo modelo por utilizar es Kernel Ridge Regression. El parámetro `alpha` se define como $alpha = (2\\cdot C)^{-1}$ [[1]](#refs)."
   ]
  },
  {
   "cell_type": "code",
   "execution_count": 14,
   "metadata": {},
   "outputs": [
    {
     "name": "stdout",
     "output_type": "stream",
     "text": [
      "Tiempo que tarda en ejecutarse: 77.0 segundos\n"
     ]
    }
   ],
   "source": [
    "start = time.time()\n",
    "\n",
    "alphas = [1/(2*c) for c in Cs]\n",
    "\n",
    "erroresTrainKR = []\n",
    "erroresValKR = []\n",
    "\n",
    "erroresTrainKRstd = []\n",
    "erroresValKRstd = []\n",
    "\n",
    "for a in alphas:\n",
    "    modelKR_prueba = KernelRidge(kernel=\"rbf\", alpha=a)\n",
    "    modelKR_prueba.fit(X_train, y_train_transf)\n",
    "    \n",
    "    modelKR_prueba_std = KernelRidge(kernel=\"rbf\", alpha=a)\n",
    "    modelKR_prueba_std.fit(X_train_std, y_train_transf)\n",
    "    \n",
    "    cv_resultsKR_prueba = cross_validate(modelKR_prueba, X=X_train, y=y_train_transf, cv=10, scoring=\"neg_mean_squared_error\", n_jobs = -1, return_train_score=True)\n",
    "    cv_resultsKR_prueba_std = cross_validate(modelKR_prueba_std, X=X_train_std, y=y_train_transf, cv=10, scoring=\"neg_mean_squared_error\", n_jobs = -1, return_train_score=True)\n",
    "    \n",
    "    erroresTrainKR.append(-1*np.mean(cv_resultsKR_prueba[\"train_score\"]))\n",
    "    erroresValKR.append(-1*np.mean(cv_resultsKR_prueba[\"test_score\"]))\n",
    "    \n",
    "    erroresTrainKRstd.append(-1*np.mean(cv_resultsKR_prueba_std[\"train_score\"]))\n",
    "    erroresValKRstd.append(-1*np.mean(cv_resultsKR_prueba_std[\"test_score\"]))\n",
    "    \n",
    "print(\"Tiempo que tarda en ejecutarse:\", round(time.time()-start, 1), \"segundos\") "
   ]
  },
  {
   "cell_type": "code",
   "execution_count": 15,
   "metadata": {},
   "outputs": [
    {
     "data": {
      "image/png": "[encoded data removed]",
      "text/plain": [
       "<matplotlib.figure.Figure at 0x1ab0efe6c88>"
      ]
     },
     "metadata": {},
     "output_type": "display_data"
    }
   ],
   "source": [
    "plt.close('all')\n",
    "\n",
    "plt.figure(figsize=(15,7))\n",
    "plt.suptitle(\"Kernel Ridge Regression\", size=16)\n",
    "plt.subplot(121)\n",
    "ax = plt.gca()\n",
    "ax.plot(alphas, erroresTrainKR, color='red', label= 'Entrenamiento')\n",
    "ax.plot(alphas, erroresValKR, color='blue', label='Validación')\n",
    "ax.set_xscale('log')\n",
    "plt.xlabel(\"alpha\")\n",
    "plt.ylabel(\"MSE\")\n",
    "plt.title(\"X sin normalizar\")\n",
    "plt.legend(loc='best')\n",
    "\n",
    "plt.subplot(122)\n",
    "ax = plt.gca()\n",
    "ax = plt.gca()\n",
    "ax.plot(alphas, erroresTrainKRstd, color='red', label= 'Entrenamiento')\n",
    "ax.plot(alphas, erroresValKRstd, color='blue', label='Validación')\n",
    "ax.set_xscale('log')\n",
    "plt.xlabel(\"alpha\")\n",
    "plt.ylabel(\"MSE\")\n",
    "plt.title(\"X normalizado\")\n",
    "plt.legend(loc='best')\n",
    "\n",
    "plt.show()"
   ]
  },
  {
   "cell_type": "markdown",
   "metadata": {},
   "source": [
    "En este caso, aumentar alpha lleva a un incremento del MSE, lo que es de esperarse ya que alpha se define como el inverso de C. Además, usar X normalizado produce overfitting para valores de alpha menores a 10."
   ]
  },
  {
   "cell_type": "markdown",
   "metadata": {},
   "source": [
    "A continuación, se entrenará un modelo usando $alpha = (2 \\cdot 10000)^{-1}$ para ver en más detalle los errores de entrenamiento y validación. "
   ]
  },
  {
   "cell_type": "code",
   "execution_count": 16,
   "metadata": {},
   "outputs": [
    {
     "data": {
      "text/plain": [
       "KernelRidge(alpha=5e-05, coef0=1, degree=3, gamma=None, kernel='rbf',\n",
       "      kernel_params=None)"
      ]
     },
     "execution_count": 16,
     "metadata": {},
     "output_type": "execute_result"
    }
   ],
   "source": [
    "modelKR = KernelRidge(alpha=1/(2*10000), kernel=\"rbf\")\n",
    "modelKR.fit(X_train, y_train_transf)"
   ]
  },
  {
   "cell_type": "markdown",
   "metadata": {},
   "source": [
    "Para evaluar el modelo se usará validación cruzada con 10 folds."
   ]
  },
  {
   "cell_type": "code",
   "execution_count": 17,
   "metadata": {},
   "outputs": [
    {
     "name": "stdout",
     "output_type": "stream",
     "text": [
      "Error de entrenamiento: 353.19\n",
      "Error de validación: 405.92\n"
     ]
    }
   ],
   "source": [
    "cv_resultsKR = cross_validate(modelKR, X=X_train, y=y_train_transf, cv=10, scoring=\"neg_mean_squared_error\", n_jobs = -1, return_train_score=True)\n",
    "\n",
    "errorValKR = -1*np.mean(cv_resultsKR[\"test_score\"])\n",
    "errorTrainKR = -1*np.mean(cv_resultsKR[\"train_score\"])\n",
    "\n",
    "print(\"Error de entrenamiento: %.2f\" % (errorTrainKR))\n",
    "print(\"Error de validación: %.2f\" % (errorValKR))"
   ]
  },
  {
   "cell_type": "markdown",
   "metadata": {},
   "source": [
    "### Tercer Modelo: Red Neuronal Feed Forward (Regresión)"
   ]
  },
  {
   "cell_type": "markdown",
   "metadata": {},
   "source": [
    "El siguiente modelo por probar es una red neuronal feed forward, para esto se trabajará el problema como si fuera de regresión y se usará X sin normalizar debido a los resultados obtenidos anteriormente."
   ]
  },
  {
   "cell_type": "code",
   "execution_count": 18,
   "metadata": {},
   "outputs": [
    {
     "name": "stdout",
     "output_type": "stream",
     "text": [
      "Error de validación: 395.43\n"
     ]
    }
   ],
   "source": [
    "def modelNNR():\n",
    "    model = Sequential()\n",
    "    model.add(Dense(512, input_dim=37, kernel_initializer='normal', activation=\"relu\"))\n",
    "    model.add(Dropout(0.5))\n",
    "    model.add(Dense(256, kernel_initializer='normal', activation=\"relu\"))\n",
    "    model.add(Dropout(0.5))\n",
    "    model.add(Dense(128, kernel_initializer='normal', activation=\"relu\"))\n",
    "    model.add(Dropout(0.5))\n",
    "    model.add(Dense(64, kernel_initializer='normal', activation=\"relu\"))\n",
    "    model.add(Dropout(0.5))\n",
    "    model.add(Dense(1, kernel_initializer='normal'))\n",
    "\n",
    "    model.compile(loss='mse', optimizer='RMSprop')\n",
    "    return model\n",
    "\n",
    "estimadorNNR = KerasRegressor(build_fn=modelNNR, epochs=100, batch_size=256, verbose=0)\n",
    "\n",
    "kfold = KFold(n_splits=10, random_state=15)\n",
    "resultsNNR = cross_val_score(estimadorNNR, X_train, y_train_transf, cv=kfold, scoring=\"neg_mean_squared_error\")\n",
    "print(\"Error de validación: %.2f\" % (-1*np.mean(resultsNNR)))"
   ]
  },
  {
   "cell_type": "markdown",
   "metadata": {},
   "source": [
    "### Cuarto Modelo: Red Neuronal Feed Forward (Clasificación)"
   ]
  },
  {
   "cell_type": "markdown",
   "metadata": {},
   "source": [
    "Por último, se usará una red neuronal feed forward pero esta vez se abordará el problema como uno de clasificación."
   ]
  },
  {
   "cell_type": "code",
   "execution_count": 19,
   "metadata": {},
   "outputs": [
    {
     "name": "stdout",
     "output_type": "stream",
     "text": [
      "[ 1  5 10 16 28 51 75]\n"
     ]
    }
   ],
   "source": [
    "clases = np.unique(y_train_transf)\n",
    "print(clases)"
   ]
  },
  {
   "cell_type": "markdown",
   "metadata": {},
   "source": [
    "El primer paso es convertir las clases de representación entera a representación categórica (one-hot encode)."
   ]
  },
  {
   "cell_type": "code",
   "execution_count": 20,
   "metadata": {},
   "outputs": [
    {
     "name": "stdout",
     "output_type": "stream",
     "text": [
      "Representacion entera:  28\n",
      "Representacion categórica:  [0. 0. 0. 0. 0. 0. 0. 0. 0. 0. 0. 0. 0. 0. 0. 0. 0. 0. 0. 0. 0. 0. 0. 0.\n",
      " 0. 0. 0. 0. 1. 0. 0. 0. 0. 0. 0. 0. 0. 0. 0. 0. 0. 0. 0. 0. 0. 0. 0. 0.\n",
      " 0. 0. 0. 0. 0. 0. 0. 0. 0. 0. 0. 0. 0. 0. 0. 0. 0. 0. 0. 0. 0. 0. 0. 0.\n",
      " 0. 0. 0. 0.]\n"
     ]
    }
   ],
   "source": [
    "y_train_one_hot = to_categorical(y_train_transf)\n",
    "y_test_one_hot = to_categorical(y_test_transf)\n",
    "\n",
    "print(\"Representacion entera: \", y_train_transf[1])\n",
    "print(\"Representacion categórica: \", y_train_one_hot[1])"
   ]
  },
  {
   "cell_type": "markdown",
   "metadata": {},
   "source": [
    "En esta nueva representación se crea un arreglo de tamaño 76, inicializado con ceros, y se coloca un 1 en el índice correspondiente a la representación entera. En el ejemplo anterior, la representación entera es 28 y la representación categórica tiene un 1 en el índice 28."
   ]
  },
  {
   "cell_type": "markdown",
   "metadata": {},
   "source": [
    "A continuación, se crea el modelo."
   ]
  },
  {
   "cell_type": "code",
   "execution_count": 21,
   "metadata": {
    "scrolled": false
   },
   "outputs": [
    {
     "name": "stdout",
     "output_type": "stream",
     "text": [
      "Accuracy validación: 38.11%\n"
     ]
    }
   ],
   "source": [
    "def modelNNC():\n",
    "    model = Sequential()\n",
    "    model.add(Dense(512, input_dim=37, kernel_initializer='normal', activation=\"relu\"))\n",
    "    model.add(Dropout(0.5))\n",
    "    model.add(Dense(256, kernel_initializer='normal', activation=\"relu\"))\n",
    "    model.add(Dropout(0.5))\n",
    "    model.add(Dense(128, kernel_initializer='normal', activation=\"relu\"))\n",
    "    model.add(Dropout(0.5))\n",
    "    model.add(Dense(64, kernel_initializer='normal', activation=\"relu\"))\n",
    "    model.add(Dropout(0.5))\n",
    "    model.add(Dense(76, kernel_initializer='normal', activation=\"softmax\"))\n",
    "\n",
    "    model.compile(loss='categorical_crossentropy', optimizer='RMSprop', metrics=['accuracy'])\n",
    "    return model\n",
    "\n",
    "estimadorNNC = KerasClassifier(build_fn=modelNNC, epochs=100, batch_size=256, verbose=0)\n",
    "\n",
    "kfold = KFold(n_splits=10, random_state=15)\n",
    "resultsNNC = cross_val_score(estimadorNNC, X_train, y_train_one_hot, cv=kfold)\n",
    "print(\"Accuracy validación: %.2f%%\" % (100*np.mean(resultsNNC)))"
   ]
  },
  {
   "cell_type": "markdown",
   "metadata": {},
   "source": [
    "El accuracy obtenido es bastante bajo por lo que se espera que al traducirlo a MSE se obtenga un valor alto. "
   ]
  },
  {
   "cell_type": "code",
   "execution_count": 22,
   "metadata": {},
   "outputs": [],
   "source": [
    "estimadorNNC.fit(X_train, y_train_one_hot)\n",
    "y_pred_NNC = estimadorNNC.predict(X_test) "
   ]
  },
  {
   "cell_type": "markdown",
   "metadata": {},
   "source": [
    "Notar que `KerasClassifier()` convierte automáticamente la predicción de representación categórica a representación entera."
   ]
  },
  {
   "cell_type": "code",
   "execution_count": 29,
   "metadata": {},
   "outputs": [
    {
     "data": {
      "text/plain": [
       "array([ 1, 51, 28, ..., 10, 10, 16])"
      ]
     },
     "execution_count": 29,
     "metadata": {},
     "output_type": "execute_result"
    }
   ],
   "source": [
    "y_pred_NNC"
   ]
  },
  {
   "cell_type": "markdown",
   "metadata": {},
   "source": [
    "En resumen, se obtuvieron las siguientes métricas al evaluar los modelos."
   ]
  },
  {
   "cell_type": "code",
   "execution_count": 23,
   "metadata": {},
   "outputs": [
    {
     "name": "stdout",
     "output_type": "stream",
     "text": [
      "SVR:\n",
      "Error de entrenamiento: 449.31\n",
      "Error de validación: 474.33\n",
      "\n",
      "Kernel Ridge Regression:\n",
      "    Error de entrenamiento: 353.19\n",
      "    Error de validación: 405.92\n",
      "\n",
      "Red Neuronal Regresión: \n",
      "    Error de validación: 395.43\n",
      "\n",
      "Red Neuronal Clasificación: \n",
      "    Accuracy validación: 38.11%\n"
     ]
    }
   ],
   "source": [
    "print(\"SVR:\")\n",
    "print(\"Error de entrenamiento: %.2f\" % (errorTrainSVR))\n",
    "print(\"Error de validación: %.2f\" % (errorValSVR))\n",
    "print(\"\")\n",
    "print(\"Kernel Ridge Regression:\")\n",
    "print(\"    Error de entrenamiento: %.2f\" % (errorTrainKR))\n",
    "print(\"    Error de validación: %.2f\" % (errorValKR))\n",
    "print(\"\")\n",
    "print(\"Red Neuronal Regresión: \")\n",
    "print(\"    Error de validación: %.2f\" % (-1*np.mean(resultsNNR)))\n",
    "print(\"\")\n",
    "print(\"Red Neuronal Clasificación: \")\n",
    "print(\"    Accuracy validación: %.2f%%\" % (100*np.mean(resultsNNC)))"
   ]
  },
  {
   "cell_type": "markdown",
   "metadata": {},
   "source": [
    "El menor MSE se obtuvo con la red neuronal usando regresión. El error de test para este modelo es"
   ]
  },
  {
   "cell_type": "code",
   "execution_count": 24,
   "metadata": {},
   "outputs": [
    {
     "name": "stdout",
     "output_type": "stream",
     "text": [
      "Error de test: 404.11\n"
     ]
    }
   ],
   "source": [
    "estimadorNNR.fit(X_train, y_train_transf)\n",
    "y_predNNR = estimadorNNR.predict(X_test)\n",
    "\n",
    "print(\"Error de test: %.2f\" % (mean_squared_error(y_test_transf, y_predNNR)))"
   ]
  },
  {
   "cell_type": "markdown",
   "metadata": {},
   "source": [
    "A modo de comparación, el error de test para la red neuronal usando clasificación es"
   ]
  },
  {
   "cell_type": "code",
   "execution_count": 25,
   "metadata": {},
   "outputs": [
    {
     "name": "stdout",
     "output_type": "stream",
     "text": [
      "Error de test: 489.23\n"
     ]
    }
   ],
   "source": [
    "print(\"Error de test: %.2f\" % (mean_squared_error(y_test_transf, y_pred_NNC)))"
   ]
  },
  {
   "cell_type": "markdown",
   "metadata": {},
   "source": [
    "El cual es bastante mayor y va de la mano con el accuracy obtenido. A modo de conclusión, en general las redes neuronales son capaces de generalizar mejor a partir de los datos. Es posible disminuir aún más el MSE pero hay que jugar con la cantidad de capas de la red y la cantidad de neuronas en cada una de ellas."
   ]
  },
  {
   "cell_type": "markdown",
   "metadata": {},
   "source": [
    "<a id=\"refs\"></a>\n",
    "## Referencias\n",
    "[1] Sklearn: Kernel Ridge https://scikit-learn.org/stable/modules/generated/sklearn.kernel_ridge.KernelRidge.html"
   ]
  }
 ],
 "metadata": {
  "kernelspec": {
   "display_name": "Python 3",
   "language": "python",
   "name": "python3"
  },
  "language_info": {
   "codemirror_mode": {
    "name": "ipython",
    "version": 3
   },
   "file_extension": ".py",
   "mimetype": "text/x-python",
   "name": "python",
   "nbconvert_exporter": "python",
   "pygments_lexer": "ipython3",
   "version": "3.6.4"
  }
 },
 "nbformat": 4,
 "nbformat_minor": 2
}
