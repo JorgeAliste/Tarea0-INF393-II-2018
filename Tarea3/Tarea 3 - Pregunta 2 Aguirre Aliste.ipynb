{
 "cells": [
  {
   "cell_type": "markdown",
   "metadata": {},
   "source": [
    "<img src=\"http://www.exalumnos.usm.cl/wp-content/uploads/2015/06/Isotipo-Negro.gif\" title=\"Title text\" width=\"20%\" height=\"20%\" />\n",
    "\n",
    "\n",
    "<hr style=\"height:2px;border:none\"/>\n",
    "<h1 align='center'> INF-393 Máquinas de Aprendizaje II-2018 </h1>\n",
    "\n",
    "<H3 align='center'> Tarea 3 - Ensamblados y modelos avanzados </H3>\n",
    "<H4 align='center'> Pablo Aguirre, Jorge Aliste </H4>\n",
    "<hr style=\"height:2px;border:none\"/>"
   ]
  },
  {
   "cell_type": "markdown",
   "metadata": {},
   "source": [
    "## 2. Redes Convolucionales sobre imágenes\n",
    "---\n",
    "Las redes neuronales hoy en día han sido extendidas a numerosas aplicaciones gracias a la arquitectura definida para cada tipo de problema. Las redes neuronales que aplican la operación de convolución [[3]](#refs) o convoluciones en sus capas son concidas como *CNN* o *ConvNets*, lo cual se especializa en trabajar en datos con forma matricial (ya sea bi-dimensional o tri-dimensional), lo cual se adecúa perfectamente a imágenes (matrices), ya que gracias a su conectividad local se especializan en reconocer patrones sobre los datos de manera espacial, como refleja la siguiente imagen:\n",
    "\n",
    "<img src=\"https://cdn-images-1.medium.com/max/1600/1*N4h1SgwbWNmtrRhszM9EJg.png\" title=\"Title text\" width=\"90%\" />\n",
    "\n",
    "\n",
    "En esta actividad trabajará con un extracto bastante pequeño del dataset conocido como **101-Food**[[4]](#refs), el cual consta de mil imágenes pertenecientes a 3 clases (*Hambuger, Hot Dog* y *Pizza*) separados en conjunto de entrenamiento y validación.  \n",
    "El extracto pequeño del dataset con el que se trabajará deberá ser descargado del siguiente __[link](https://www.dropbox.com/s/56xqazmhbh0doi7/food_data.zip?dl=0)__ a través de Dropbox."
   ]
  },
  {
   "cell_type": "code",
   "execution_count": 16,
   "metadata": {},
   "outputs": [],
   "source": [
    "from keras.preprocessing.image import ImageDataGenerator\n",
    "from keras.models import Sequential\n",
    "from keras.layers import *\n",
    "from sklearn.metrics import confusion_matrix \n",
    "import numpy as np\n",
    "import matplotlib.pyplot as plt\n",
    "import itertools"
   ]
  },
  {
   "cell_type": "code",
   "execution_count": 14,
   "metadata": {},
   "outputs": [],
   "source": [
    "def plot_confusion_matrix(cm, classes,\n",
    "                          normalize=False,\n",
    "                          title='Confusion matrix',\n",
    "                          cmap=plt.cm.Blues):\n",
    "    \"\"\"\n",
    "    This function prints and plots the confusion matrix.\n",
    "    Normalization can be applied by setting `normalize=True`.\n",
    "    \"\"\"\n",
    "    if normalize:\n",
    "        cm = cm.astype('float') / cm.sum(axis=1)[:, np.newaxis]\n",
    "        print(\"Normalized confusion matrix\")\n",
    "    else:\n",
    "        print('Confusion matrix, without normalization')\n",
    "\n",
    "    print(cm)\n",
    "\n",
    "    plt.imshow(cm, interpolation='nearest', cmap=cmap)\n",
    "    plt.title(title)\n",
    "    plt.colorbar()\n",
    "    tick_marks = np.arange(len(classes))\n",
    "    plt.xticks(tick_marks, classes, rotation=45)\n",
    "    plt.yticks(tick_marks, classes)\n",
    "\n",
    "    fmt = '.2f' if normalize else 'd'\n",
    "    thresh = cm.max() / 2.\n",
    "    for i, j in itertools.product(range(cm.shape[0]), range(cm.shape[1])):\n",
    "        plt.text(j, i, format(cm[i, j], fmt),\n",
    "                 horizontalalignment=\"center\",\n",
    "                 color=\"white\" if cm[i, j] > thresh else \"black\")\n",
    "\n",
    "    plt.ylabel('True label')\n",
    "    plt.xlabel('Predicted label')\n",
    "    plt.tight_layout()\n"
   ]
  },
  {
   "cell_type": "markdown",
   "metadata": {},
   "source": [
    "> a) Construya funciones para leer los datos y cargarlos al momento de entrenar (durante cada *epoch*), para ésto utilice *Image Data Generator* de keras."
   ]
  },
  {
   "cell_type": "code",
   "execution_count": 2,
   "metadata": {},
   "outputs": [
    {
     "name": "stdout",
     "output_type": "stream",
     "text": [
      "Found 2400 images belonging to 3 classes.\n",
      "Found 600 images belonging to 3 classes.\n"
     ]
    }
   ],
   "source": [
    "train_datagen = ImageDataGenerator(\n",
    "        rescale=1./255,\n",
    "        shear_range=0.2,\n",
    "        zoom_range=0.2,\n",
    "        horizontal_flip=True)\n",
    "test_datagen = ImageDataGenerator(rescale=1./255) #no transformation\n",
    "train_generator = train_datagen.flow_from_directory(\n",
    "        'food_data/train',\n",
    "        target_size=(150, 150),\n",
    "        color_mode='rgb',\n",
    "        batch_size=32)\n",
    "validation_generator = test_datagen.flow_from_directory(\n",
    "        'food_data/val',\n",
    "        target_size=(150, 150),\n",
    "        color_mode='rgb',\n",
    "        batch_size=32)"
   ]
  },
  {
   "cell_type": "markdown",
   "metadata": {},
   "source": [
    "Se tienen 2400 registros en el conjunto de entrenamiento y 600 en el conjunto de validación."
   ]
  },
  {
   "cell_type": "markdown",
   "metadata": {},
   "source": [
    "> b) Utilice la red tradicional (*Feed Forward*) entregada en el código para ser entrenada sobre los datos vectorizados, esto es que cada imagen queda representada como un vector gigante, y las 3 clases a las que se enfrenta. Evalúe el modelo con la métrica *accuracy* sobre el conjunto de validación."
   ]
  },
  {
   "cell_type": "code",
   "execution_count": 4,
   "metadata": {
    "scrolled": false
   },
   "outputs": [
    {
     "name": "stdout",
     "output_type": "stream",
     "text": [
      "_________________________________________________________________\n",
      "Layer (type)                 Output Shape              Param #   \n",
      "=================================================================\n",
      "flatten_1 (Flatten)          (None, 67500)             0         \n",
      "_________________________________________________________________\n",
      "batch_normalization_1 (Batch (None, 67500)             270000    \n",
      "_________________________________________________________________\n",
      "dense_1 (Dense)              (None, 256)               17280256  \n",
      "_________________________________________________________________\n",
      "dropout_1 (Dropout)          (None, 256)               0         \n",
      "_________________________________________________________________\n",
      "dense_2 (Dense)              (None, 128)               32896     \n",
      "_________________________________________________________________\n",
      "dropout_2 (Dropout)          (None, 128)               0         \n",
      "_________________________________________________________________\n",
      "dense_3 (Dense)              (None, 3)                 387       \n",
      "=================================================================\n",
      "Total params: 17,583,539\n",
      "Trainable params: 17,448,539\n",
      "Non-trainable params: 135,000\n",
      "_________________________________________________________________\n",
      "Epoch 1/25\n",
      "75/75 [==============================] - 69s 919ms/step - loss: 9.5379 - acc: 0.3896 - val_loss: 9.2066 - val_acc: 0.4253\n",
      "Epoch 2/25\n",
      "75/75 [==============================] - 20s 263ms/step - loss: 9.7763 - acc: 0.3900 - val_loss: 9.8173 - val_acc: 0.3873\n",
      "Epoch 3/25\n",
      "75/75 [==============================] - 18s 240ms/step - loss: 9.2564 - acc: 0.4221 - val_loss: 9.2454 - val_acc: 0.4243\n",
      "Epoch 4/25\n",
      "75/75 [==============================] - 18s 245ms/step - loss: 8.9268 - acc: 0.4392 - val_loss: 9.1268 - val_acc: 0.4313\n",
      "Epoch 5/25\n",
      "75/75 [==============================] - 18s 245ms/step - loss: 8.6291 - acc: 0.4600 - val_loss: 8.5635 - val_acc: 0.4630\n",
      "Epoch 6/25\n",
      "75/75 [==============================] - 19s 247ms/step - loss: 8.3305 - acc: 0.4787 - val_loss: 8.6673 - val_acc: 0.4525\n",
      "Epoch 7/25\n",
      "75/75 [==============================] - 18s 245ms/step - loss: 8.5043 - acc: 0.4671 - val_loss: 8.7952 - val_acc: 0.4525\n",
      "Epoch 8/25\n",
      "75/75 [==============================] - 19s 248ms/step - loss: 8.4156 - acc: 0.4738 - val_loss: 9.2541 - val_acc: 0.4190\n",
      "Epoch 9/25\n",
      "75/75 [==============================] - 18s 245ms/step - loss: 8.1744 - acc: 0.4896 - val_loss: 8.8445 - val_acc: 0.4489\n",
      "Epoch 10/25\n",
      "75/75 [==============================] - 19s 248ms/step - loss: 8.1336 - acc: 0.4929 - val_loss: 8.5080 - val_acc: 0.4701\n",
      "Epoch 11/25\n",
      "75/75 [==============================] - 18s 246ms/step - loss: 8.6951 - acc: 0.4575 - val_loss: 9.2188 - val_acc: 0.4261\n",
      "Epoch 12/25\n",
      "75/75 [==============================] - 19s 248ms/step - loss: 8.4927 - acc: 0.4692 - val_loss: 8.7028 - val_acc: 0.4577\n",
      "Epoch 13/25\n",
      "75/75 [==============================] - 20s 264ms/step - loss: 8.1753 - acc: 0.4892 - val_loss: 9.4211 - val_acc: 0.4120\n",
      "Epoch 14/25\n",
      "75/75 [==============================] - 19s 250ms/step - loss: 8.5937 - acc: 0.4642 - val_loss: 8.6473 - val_acc: 0.4613\n",
      "Epoch 15/25\n",
      "75/75 [==============================] - 19s 253ms/step - loss: 8.7526 - acc: 0.4550 - val_loss: 9.1678 - val_acc: 0.4313\n",
      "Epoch 16/25\n",
      "75/75 [==============================] - 19s 250ms/step - loss: 8.9254 - acc: 0.4450 - val_loss: 9.5063 - val_acc: 0.4102\n",
      "Epoch 17/25\n",
      "75/75 [==============================] - 19s 247ms/step - loss: 8.9073 - acc: 0.4458 - val_loss: 9.1553 - val_acc: 0.4296\n",
      "Epoch 18/25\n",
      "75/75 [==============================] - 18s 246ms/step - loss: 8.8309 - acc: 0.4513 - val_loss: 9.5366 - val_acc: 0.4067\n",
      "Epoch 19/25\n",
      "75/75 [==============================] - 19s 251ms/step - loss: 9.0934 - acc: 0.4346 - val_loss: 9.3417 - val_acc: 0.4173\n",
      "Epoch 20/25\n",
      "75/75 [==============================] - 18s 246ms/step - loss: 8.6238 - acc: 0.4633 - val_loss: 9.1935 - val_acc: 0.4271\n",
      "Epoch 21/25\n",
      "75/75 [==============================] - 19s 248ms/step - loss: 8.4350 - acc: 0.4754 - val_loss: 8.6541 - val_acc: 0.4630\n",
      "Epoch 22/25\n",
      "75/75 [==============================] - 18s 246ms/step - loss: 8.4274 - acc: 0.4750 - val_loss: 8.8828 - val_acc: 0.4472\n",
      "Epoch 23/25\n",
      "75/75 [==============================] - 19s 248ms/step - loss: 8.0371 - acc: 0.4996 - val_loss: 8.4058 - val_acc: 0.4771\n",
      "Epoch 24/25\n",
      "75/75 [==============================] - 19s 249ms/step - loss: 7.9490 - acc: 0.5058 - val_loss: 8.6130 - val_acc: 0.4648\n",
      "Epoch 25/25\n",
      "75/75 [==============================] - 19s 251ms/step - loss: 8.2292 - acc: 0.4883 - val_loss: 8.8479 - val_acc: 0.4489\n"
     ]
    },
    {
     "data": {
      "text/plain": [
       "<keras.callbacks.History at 0x225f5c02eb8>"
      ]
     },
     "execution_count": 4,
     "metadata": {},
     "output_type": "execute_result"
    }
   ],
   "source": [
    "modelFF = Sequential()\n",
    "modelFF.add(Flatten(input_shape=train_generator.image_shape)) #full dense\n",
    "modelFF.add(BatchNormalization()) #to normalize the input..\n",
    "modelFF.add(Dense(256,activation='relu'))\n",
    "modelFF.add(Dropout(0.25))\n",
    "modelFF.add(Dense(128,activation='relu')) #128\n",
    "modelFF.add(Dropout(0.25))\n",
    "modelFF.add(Dense(3,activation='softmax'))\n",
    "modelFF.compile(loss='categorical_crossentropy', optimizer='rmsprop', metrics=['accuracy']) # Let's train the model using RMSprop\n",
    "modelFF.summary()\n",
    "modelFF.fit_generator(\n",
    "        train_generator,\n",
    "        steps_per_epoch=len(train_generator.classes)//train_generator.batch_size, #samples//batch_size\n",
    "        epochs=25,\n",
    "        validation_data=validation_generator,\n",
    "        validation_steps=len(validation_generator.classes)//validation_generator.batch_size, verbose=1)\n"
   ]
  },
  {
   "cell_type": "code",
   "execution_count": 5,
   "metadata": {},
   "outputs": [
    {
     "name": "stdout",
     "output_type": "stream",
     "text": [
      "Accuracy validation:  0.4665492961943989\n"
     ]
    }
   ],
   "source": [
    "print(\"Accuracy validation: \",modelFF.evaluate_generator(generator=validation_generator, steps=len(validation_generator.classes)//validation_generator.batch_size)[1])"
   ]
  },
  {
   "cell_type": "markdown",
   "metadata": {},
   "source": [
    "El accuracy obtenido usando una red neuronal Feed Forward es bastante bajo considerando que solo se tienen 3 clases."
   ]
  },
  {
   "cell_type": "markdown",
   "metadata": {},
   "source": [
    "La matriz de confusión correspondiente es"
   ]
  },
  {
   "cell_type": "code",
   "execution_count": 22,
   "metadata": {},
   "outputs": [
    {
     "name": "stdout",
     "output_type": "stream",
     "text": [
      "Normalized confusion matrix\n",
      "[[0.21  0.13  0.66 ]\n",
      " [0.265 0.185 0.55 ]\n",
      " [0.265 0.13  0.605]]\n"
     ]
    },
    {
     "data": {
      "image/png": "[encoded data removed]",
      "text/plain": [
       "<Figure size 432x288 with 2 Axes>"
      ]
     },
     "metadata": {},
     "output_type": "display_data"
    }
   ],
   "source": [
    "Y_pred = modelFF.predict_generator(validation_generator,len(validation_generator.classes)//validation_generator.batch_size+1)\n",
    "y_pred = np.argmax(Y_pred, axis=1)\n",
    "confusion_matrix = confusion_matrix(validation_generator.classes, y_pred)\n",
    "\n",
    "plt.figure()\n",
    "\n",
    "plot_confusion_matrix(confusion_matrix, [\"hamburguer\", \"hot dog\", \"pizza\"], normalize=True)\n",
    "\n",
    "plt.show()"
   ]
  },
  {
   "cell_type": "markdown",
   "metadata": {},
   "source": [
    "Se observa una fuerte tendencia a predecir pizza independientemente de la imágen que se le entregue."
   ]
  },
  {
   "cell_type": "markdown",
   "metadata": {},
   "source": [
    "> c) Utilice la red convolucional (**CNN**) entregada en el código para ser entrenada sobre los datos brutos, matrices RGB de píxeles, y las 3 clases a las que se enfrenta. Evalúe el modelo con la métrica *accuracy* sobre el conjunto de validación. Compare."
   ]
  },
  {
   "cell_type": "code",
   "execution_count": 6,
   "metadata": {},
   "outputs": [
    {
     "name": "stdout",
     "output_type": "stream",
     "text": [
      "_________________________________________________________________\n",
      "Layer (type)                 Output Shape              Param #   \n",
      "=================================================================\n",
      "conv2d_1 (Conv2D)            (None, 150, 150, 32)      896       \n",
      "_________________________________________________________________\n",
      "conv2d_2 (Conv2D)            (None, 148, 148, 32)      9248      \n",
      "_________________________________________________________________\n",
      "max_pooling2d_1 (MaxPooling2 (None, 74, 74, 32)        0         \n",
      "_________________________________________________________________\n",
      "dropout_3 (Dropout)          (None, 74, 74, 32)        0         \n",
      "_________________________________________________________________\n",
      "conv2d_3 (Conv2D)            (None, 74, 74, 64)        18496     \n",
      "_________________________________________________________________\n",
      "conv2d_4 (Conv2D)            (None, 72, 72, 64)        36928     \n",
      "_________________________________________________________________\n",
      "max_pooling2d_2 (MaxPooling2 (None, 36, 36, 64)        0         \n",
      "_________________________________________________________________\n",
      "dropout_4 (Dropout)          (None, 36, 36, 64)        0         \n",
      "_________________________________________________________________\n",
      "flatten_2 (Flatten)          (None, 82944)             0         \n",
      "_________________________________________________________________\n",
      "dense_4 (Dense)              (None, 128)               10616960  \n",
      "_________________________________________________________________\n",
      "dropout_5 (Dropout)          (None, 128)               0         \n",
      "_________________________________________________________________\n",
      "dense_5 (Dense)              (None, 3)                 387       \n",
      "=================================================================\n",
      "Total params: 10,682,915\n",
      "Trainable params: 10,682,915\n",
      "Non-trainable params: 0\n",
      "_________________________________________________________________\n",
      "Epoch 1/25\n",
      "75/75 [==============================] - 34s 459ms/step - loss: 1.2826 - acc: 0.3733 - val_loss: 1.0612 - val_acc: 0.4437\n",
      "Epoch 2/25\n",
      "75/75 [==============================] - 27s 366ms/step - loss: 1.0795 - acc: 0.4412 - val_loss: 1.0530 - val_acc: 0.4437\n",
      "Epoch 3/25\n",
      "75/75 [==============================] - 37s 491ms/step - loss: 1.0332 - acc: 0.4888 - val_loss: 0.9787 - val_acc: 0.5264\n",
      "Epoch 4/25\n",
      "75/75 [==============================] - 27s 364ms/step - loss: 0.9816 - acc: 0.5271 - val_loss: 0.9623 - val_acc: 0.5053\n",
      "Epoch 5/25\n",
      "75/75 [==============================] - 34s 457ms/step - loss: 0.9607 - acc: 0.5475 - val_loss: 1.0343 - val_acc: 0.5018\n",
      "Epoch 6/25\n",
      "75/75 [==============================] - 31s 407ms/step - loss: 0.9252 - acc: 0.5887 - val_loss: 0.9337 - val_acc: 0.5299\n",
      "Epoch 7/25\n",
      "75/75 [==============================] - 37s 490ms/step - loss: 0.8887 - acc: 0.5929 - val_loss: 0.8412 - val_acc: 0.6268\n",
      "Epoch 8/25\n",
      "75/75 [==============================] - 28s 375ms/step - loss: 0.8525 - acc: 0.6213 - val_loss: 0.8070 - val_acc: 0.6585\n",
      "Epoch 9/25\n",
      "75/75 [==============================] - 33s 443ms/step - loss: 0.8352 - acc: 0.6258 - val_loss: 0.8460 - val_acc: 0.6215\n",
      "Epoch 10/25\n",
      "75/75 [==============================] - 33s 434ms/step - loss: 0.8216 - acc: 0.6550 - val_loss: 0.7769 - val_acc: 0.6549\n",
      "Epoch 11/25\n",
      "75/75 [==============================] - 34s 447ms/step - loss: 0.7781 - acc: 0.6621 - val_loss: 0.7404 - val_acc: 0.6884\n",
      "Epoch 12/25\n",
      "75/75 [==============================] - 31s 411ms/step - loss: 0.7433 - acc: 0.6767 - val_loss: 0.7458 - val_acc: 0.6690\n",
      "Epoch 13/25\n",
      "75/75 [==============================] - 37s 491ms/step - loss: 0.7562 - acc: 0.6825 - val_loss: 0.8962 - val_acc: 0.6127\n",
      "Epoch 14/25\n",
      "75/75 [==============================] - 30s 399ms/step - loss: 0.7390 - acc: 0.6825 - val_loss: 0.7097 - val_acc: 0.6937\n",
      "Epoch 15/25\n",
      "75/75 [==============================] - 38s 509ms/step - loss: 0.7360 - acc: 0.6863 - val_loss: 0.7153 - val_acc: 0.6997\n",
      "Epoch 16/25\n",
      "75/75 [==============================] - 26s 345ms/step - loss: 0.6988 - acc: 0.7029 - val_loss: 0.7946 - val_acc: 0.6673\n",
      "Epoch 17/25\n",
      "75/75 [==============================] - 35s 473ms/step - loss: 0.6989 - acc: 0.7121 - val_loss: 0.7777 - val_acc: 0.6708\n",
      "Epoch 18/25\n",
      "75/75 [==============================] - 32s 427ms/step - loss: 0.6862 - acc: 0.7117 - val_loss: 0.6865 - val_acc: 0.6954\n",
      "Epoch 19/25\n",
      "75/75 [==============================] - 34s 452ms/step - loss: 0.6685 - acc: 0.7183 - val_loss: 0.7245 - val_acc: 0.6866\n",
      "Epoch 20/25\n",
      "75/75 [==============================] - 32s 420ms/step - loss: 0.6773 - acc: 0.7137 - val_loss: 0.7261 - val_acc: 0.6813\n",
      "Epoch 21/25\n",
      "75/75 [==============================] - 35s 469ms/step - loss: 0.6519 - acc: 0.7246 - val_loss: 0.8342 - val_acc: 0.6937\n",
      "Epoch 22/25\n",
      "75/75 [==============================] - 31s 412ms/step - loss: 0.6480 - acc: 0.7308 - val_loss: 0.7355 - val_acc: 0.6655\n",
      "Epoch 23/25\n",
      "75/75 [==============================] - 33s 435ms/step - loss: 0.6320 - acc: 0.7458 - val_loss: 0.6983 - val_acc: 0.7095\n",
      "Epoch 24/25\n",
      "75/75 [==============================] - 35s 460ms/step - loss: 0.6146 - acc: 0.7425 - val_loss: 0.6456 - val_acc: 0.7236\n",
      "Epoch 25/25\n",
      "75/75 [==============================] - 33s 442ms/step - loss: 0.6393 - acc: 0.7425 - val_loss: 0.7996 - val_acc: 0.6778\n"
     ]
    },
    {
     "data": {
      "text/plain": [
       "<keras.callbacks.History at 0x225880e1f98>"
      ]
     },
     "execution_count": 6,
     "metadata": {},
     "output_type": "execute_result"
    }
   ],
   "source": [
    "modelC = Sequential()\n",
    "modelC.add(Conv2D(32, (3, 3), padding='same',input_shape=train_generator.image_shape,activation='relu'))\n",
    "modelC.add(Conv2D(32, (3, 3),activation='relu'))\n",
    "modelC.add(MaxPool2D(pool_size=(2, 2)))\n",
    "modelC.add(Dropout(0.25))\n",
    "modelC.add(Conv2D(64, (3, 3), padding='same',activation='relu'))\n",
    "modelC.add(Conv2D(64, (3, 3),activation='relu'))\n",
    "modelC.add(MaxPool2D(pool_size=(2, 2)))\n",
    "modelC.add(Dropout(0.25))\n",
    "modelC.add(Flatten())\n",
    "modelC.add(Dense(128,activation='relu'))\n",
    "modelC.add(Dropout(0.5)) \n",
    "modelC.add(Dense(len(train_generator.class_indices),activation='softmax'))\n",
    "modelC.compile(loss='categorical_crossentropy', optimizer='rmsprop', metrics=['accuracy']) # Let's train the model using RMSprop\n",
    "modelC.summary()\n",
    "modelC.fit_generator(\n",
    "        train_generator,\n",
    "        steps_per_epoch=len(train_generator.classes)//train_generator.batch_size, #samples//batch_size\n",
    "        epochs=25,\n",
    "        validation_data=validation_generator,\n",
    "        validation_steps=len(validation_generator.classes)//validation_generator.batch_size, verbose=1)"
   ]
  },
  {
   "cell_type": "code",
   "execution_count": 7,
   "metadata": {},
   "outputs": [
    {
     "name": "stdout",
     "output_type": "stream",
     "text": [
      "Accuracy validation:  0.704225352112676\n"
     ]
    }
   ],
   "source": [
    "print(\"Accuracy validation: \",modelC.evaluate_generator(generator=validation_generator, steps=len(validation_generator.classes)//validation_generator.batch_size)[1])"
   ]
  },
  {
   "cell_type": "markdown",
   "metadata": {},
   "source": [
    "Es posible observar que el accuracy obtenido con la CNN es mayor que el de la red tradicional por lo que es correcto pensar que las CNN son mejores cuando los datos son imágenes."
   ]
  },
  {
   "cell_type": "markdown",
   "metadata": {},
   "source": [
    "La matriz de confusión correspondiente es"
   ]
  },
  {
   "cell_type": "code",
   "execution_count": 18,
   "metadata": {},
   "outputs": [
    {
     "name": "stdout",
     "output_type": "stream",
     "text": [
      "Normalized confusion matrix\n",
      "[[0.215 0.35  0.435]\n",
      " [0.25  0.355 0.395]\n",
      " [0.215 0.32  0.465]]\n"
     ]
    },
    {
     "data": {
      "image/png": "[encoded data removed]",
      "text/plain": [
       "<Figure size 432x288 with 2 Axes>"
      ]
     },
     "metadata": {},
     "output_type": "display_data"
    }
   ],
   "source": [
    "Y_pred2 = modelC.predict_generator(validation_generator,len(validation_generator.classes)//validation_generator.batch_size+1)\n",
    "y_pred2 = np.argmax(Y_pred2, axis=1)\n",
    "confusion_matrix2 = confusion_matrix(validation_generator.classes, y_pred2)\n",
    "\n",
    "plt.figure()\n",
    "\n",
    "plot_confusion_matrix(confusion_matrix2, [\"hamburguer\", \"hot dog\", \"pizza\"], normalize=True)\n",
    "\n",
    "plt.show()"
   ]
  },
  {
   "cell_type": "markdown",
   "metadata": {},
   "source": [
    "Se puede ver que el modelo tiende más a predecir hot dog y pizza."
   ]
  },
  {
   "cell_type": "markdown",
   "metadata": {},
   "source": [
    "> d) Genere un conjunto datos con incorrecta etiquetación de manera manual y vea si el modelo convolucional se sigue comportando de la misma manera. Para esto tome 100 imágenes aleatorias de entrenamiento de la carpeta *hot dog* y 100 imágenes aleatorias de entrenamiento de la carpeta *hamburger* e intercambielas, sin manipular las imágenes de la carpeta *pizza* y con el conjunto de validación intacto. Genere las matrices de confusión en el conjunto de validación para visualizar cómo afectó al modelo la corrupción realizada a los datos."
   ]
  },
  {
   "cell_type": "code",
   "execution_count": 8,
   "metadata": {},
   "outputs": [
    {
     "name": "stdout",
     "output_type": "stream",
     "text": [
      "Found 2400 images belonging to 3 classes.\n"
     ]
    }
   ],
   "source": [
    "train_datagen2 = ImageDataGenerator(\n",
    "        rescale=1./255,\n",
    "        shear_range=0.2,\n",
    "        zoom_range=0.2,\n",
    "        horizontal_flip=True)\n",
    "\n",
    "train_generator2 = train_datagen2.flow_from_directory(\n",
    "        'food_data/train2',\n",
    "        target_size=(150, 150),\n",
    "        color_mode='rgb',\n",
    "        batch_size=32)"
   ]
  },
  {
   "cell_type": "code",
   "execution_count": 9,
   "metadata": {
    "scrolled": false
   },
   "outputs": [
    {
     "name": "stdout",
     "output_type": "stream",
     "text": [
      "_________________________________________________________________\n",
      "Layer (type)                 Output Shape              Param #   \n",
      "=================================================================\n",
      "conv2d_5 (Conv2D)            (None, 150, 150, 32)      896       \n",
      "_________________________________________________________________\n",
      "conv2d_6 (Conv2D)            (None, 148, 148, 32)      9248      \n",
      "_________________________________________________________________\n",
      "max_pooling2d_3 (MaxPooling2 (None, 74, 74, 32)        0         \n",
      "_________________________________________________________________\n",
      "dropout_6 (Dropout)          (None, 74, 74, 32)        0         \n",
      "_________________________________________________________________\n",
      "conv2d_7 (Conv2D)            (None, 74, 74, 64)        18496     \n",
      "_________________________________________________________________\n",
      "conv2d_8 (Conv2D)            (None, 72, 72, 64)        36928     \n",
      "_________________________________________________________________\n",
      "max_pooling2d_4 (MaxPooling2 (None, 36, 36, 64)        0         \n",
      "_________________________________________________________________\n",
      "dropout_7 (Dropout)          (None, 36, 36, 64)        0         \n",
      "_________________________________________________________________\n",
      "flatten_3 (Flatten)          (None, 82944)             0         \n",
      "_________________________________________________________________\n",
      "dense_6 (Dense)              (None, 128)               10616960  \n",
      "_________________________________________________________________\n",
      "dropout_8 (Dropout)          (None, 128)               0         \n",
      "_________________________________________________________________\n",
      "dense_7 (Dense)              (None, 3)                 387       \n",
      "=================================================================\n",
      "Total params: 10,682,915\n",
      "Trainable params: 10,682,915\n",
      "Non-trainable params: 0\n",
      "_________________________________________________________________\n",
      "Epoch 1/25\n",
      "75/75 [==============================] - 43s 569ms/step - loss: 1.7277 - acc: 0.3783 - val_loss: 1.0449 - val_acc: 0.5000\n",
      "Epoch 2/25\n",
      "75/75 [==============================] - 36s 484ms/step - loss: 1.0592 - acc: 0.4617 - val_loss: 1.0052 - val_acc: 0.5317\n",
      "Epoch 3/25\n",
      "75/75 [==============================] - 35s 470ms/step - loss: 1.0329 - acc: 0.4871 - val_loss: 0.9669 - val_acc: 0.4912\n",
      "Epoch 4/25\n",
      "75/75 [==============================] - 30s 398ms/step - loss: 1.0020 - acc: 0.5183 - val_loss: 0.9842 - val_acc: 0.4842\n",
      "Epoch 5/25\n",
      "75/75 [==============================] - 38s 506ms/step - loss: 0.9765 - acc: 0.5292 - val_loss: 1.0011 - val_acc: 0.5299\n",
      "Epoch 6/25\n",
      "75/75 [==============================] - 27s 363ms/step - loss: 0.9715 - acc: 0.5254 - val_loss: 0.9007 - val_acc: 0.5493\n",
      "Epoch 7/25\n",
      "75/75 [==============================] - 30s 403ms/step - loss: 0.9411 - acc: 0.5521 - val_loss: 0.9201 - val_acc: 0.5599\n",
      "Epoch 8/25\n",
      "75/75 [==============================] - 35s 473ms/step - loss: 0.9115 - acc: 0.5613 - val_loss: 0.8346 - val_acc: 0.6144\n",
      "Epoch 9/25\n",
      "75/75 [==============================] - 38s 512ms/step - loss: 0.8798 - acc: 0.5821 - val_loss: 0.8581 - val_acc: 0.5986\n",
      "Epoch 10/25\n",
      "75/75 [==============================] - 27s 361ms/step - loss: 0.8791 - acc: 0.5812 - val_loss: 0.8557 - val_acc: 0.6109\n",
      "Epoch 11/25\n",
      "75/75 [==============================] - 38s 512ms/step - loss: 0.8367 - acc: 0.5996 - val_loss: 0.9283 - val_acc: 0.5792\n",
      "Epoch 12/25\n",
      "75/75 [==============================] - 26s 350ms/step - loss: 0.8508 - acc: 0.6033 - val_loss: 0.8179 - val_acc: 0.6514\n",
      "Epoch 13/25\n",
      "75/75 [==============================] - 37s 497ms/step - loss: 0.8179 - acc: 0.6229 - val_loss: 0.8040 - val_acc: 0.6356\n",
      "Epoch 14/25\n",
      "75/75 [==============================] - 37s 491ms/step - loss: 0.7864 - acc: 0.6421 - val_loss: 0.7990 - val_acc: 0.6408\n",
      "Epoch 15/25\n",
      "75/75 [==============================] - 27s 356ms/step - loss: 0.7947 - acc: 0.6312 - val_loss: 0.7926 - val_acc: 0.6778\n",
      "Epoch 16/25\n",
      "75/75 [==============================] - 38s 510ms/step - loss: 0.7858 - acc: 0.6350 - val_loss: 0.8400 - val_acc: 0.6181\n",
      "Epoch 17/25\n",
      "75/75 [==============================] - 30s 401ms/step - loss: 0.7669 - acc: 0.6571 - val_loss: 0.8481 - val_acc: 0.6391\n",
      "Epoch 18/25\n",
      "75/75 [==============================] - 34s 448ms/step - loss: 0.7491 - acc: 0.6604 - val_loss: 0.8403 - val_acc: 0.6109\n",
      "Epoch 19/25\n",
      "75/75 [==============================] - 39s 518ms/step - loss: 0.7507 - acc: 0.6625 - val_loss: 0.8128 - val_acc: 0.6532\n",
      "Epoch 20/25\n",
      "75/75 [==============================] - 29s 388ms/step - loss: 0.7478 - acc: 0.6667 - val_loss: 0.8535 - val_acc: 0.6144\n",
      "Epoch 21/25\n",
      "75/75 [==============================] - 35s 462ms/step - loss: 0.7270 - acc: 0.6754 - val_loss: 0.8498 - val_acc: 0.6004\n",
      "Epoch 22/25\n",
      "75/75 [==============================] - 36s 482ms/step - loss: 0.7185 - acc: 0.6921 - val_loss: 0.7423 - val_acc: 0.6391\n",
      "Epoch 23/25\n",
      "75/75 [==============================] - 29s 383ms/step - loss: 0.7030 - acc: 0.6900 - val_loss: 0.6710 - val_acc: 0.6937\n",
      "Epoch 24/25\n",
      "75/75 [==============================] - 37s 495ms/step - loss: 0.6988 - acc: 0.6917 - val_loss: 1.0453 - val_acc: 0.6162\n",
      "Epoch 25/25\n",
      "75/75 [==============================] - 28s 374ms/step - loss: 0.6911 - acc: 0.6925 - val_loss: 0.7304 - val_acc: 0.6567\n"
     ]
    },
    {
     "data": {
      "text/plain": [
       "<keras.callbacks.History at 0x22588b51e48>"
      ]
     },
     "execution_count": 9,
     "metadata": {},
     "output_type": "execute_result"
    }
   ],
   "source": [
    "modelC2 = Sequential()\n",
    "modelC2.add(Conv2D(32, (3, 3), padding='same',input_shape=train_generator2.image_shape,activation='relu'))\n",
    "modelC2.add(Conv2D(32, (3, 3),activation='relu'))\n",
    "modelC2.add(MaxPool2D(pool_size=(2, 2)))\n",
    "modelC2.add(Dropout(0.25))\n",
    "modelC2.add(Conv2D(64, (3, 3), padding='same',activation='relu'))\n",
    "modelC2.add(Conv2D(64, (3, 3),activation='relu'))\n",
    "modelC2.add(MaxPool2D(pool_size=(2, 2)))\n",
    "modelC2.add(Dropout(0.25))\n",
    "modelC2.add(Flatten())\n",
    "modelC2.add(Dense(128,activation='relu'))\n",
    "modelC2.add(Dropout(0.5)) \n",
    "modelC2.add(Dense(len(train_generator2.class_indices),activation='softmax'))\n",
    "modelC2.compile(loss='categorical_crossentropy', optimizer='rmsprop', metrics=['accuracy']) # Let's train the model using RMSprop\n",
    "modelC2.summary()\n",
    "modelC2.fit_generator(\n",
    "        train_generator2,\n",
    "        steps_per_epoch=len(train_generator2.classes)//train_generator2.batch_size, #samples//batch_size\n",
    "        epochs=25,\n",
    "        validation_data=validation_generator,\n",
    "        validation_steps=len(validation_generator.classes)//validation_generator.batch_size, verbose=1)"
   ]
  },
  {
   "cell_type": "code",
   "execution_count": 20,
   "metadata": {},
   "outputs": [
    {
     "name": "stdout",
     "output_type": "stream",
     "text": [
      "Accuracy validation:  0.6654929569069769\n"
     ]
    }
   ],
   "source": [
    "print(\"Accuracy validation: \",modelC2.evaluate_generator(generator=validation_generator, steps=len(validation_generator.classes)//validation_generator.batch_size)[1])"
   ]
  },
  {
   "cell_type": "markdown",
   "metadata": {},
   "source": [
    "El error de validación es un poco menor que cuando no se cambian las imágenes."
   ]
  },
  {
   "cell_type": "markdown",
   "metadata": {},
   "source": [
    "La matriz de confusión correspondiente es"
   ]
  },
  {
   "cell_type": "code",
   "execution_count": 17,
   "metadata": {},
   "outputs": [
    {
     "name": "stdout",
     "output_type": "stream",
     "text": [
      "Normalized confusion matrix\n",
      "[[0.385 0.25  0.365]\n",
      " [0.385 0.2   0.415]\n",
      " [0.345 0.22  0.435]]\n"
     ]
    },
    {
     "data": {
      "image/png": "[encoded data removed]",
      "text/plain": [
       "<Figure size 432x288 with 2 Axes>"
      ]
     },
     "metadata": {},
     "output_type": "display_data"
    }
   ],
   "source": [
    "Y_pred3 = modelC2.predict_generator(validation_generator,len(validation_generator.classes)//validation_generator.batch_size+1)\n",
    "y_pred3 = np.argmax(Y_pred3, axis=1)\n",
    "confusion_matrix3 = confusion_matrix(validation_generator.classes, y_pred3)\n",
    "\n",
    "plt.figure()\n",
    "\n",
    "plot_confusion_matrix(confusion_matrix3, [\"hamburguer\", \"hot dog\", \"pizza\"], normalize=True)\n",
    "\n",
    "plt.show()"
   ]
  },
  {
   "cell_type": "markdown",
   "metadata": {},
   "source": [
    "En este caso, el comportamiento es distinto a la CNN anterior. Tiende a predecir pizza o hamburguesa con probabilidades similares, por lo que intercambiar las imágenes entre hot dogs y hamburguesas si tuvo un efecto en el entrenamiento."
   ]
  }
 ],
 "metadata": {
  "kernelspec": {
   "display_name": "Python 3",
   "language": "python",
   "name": "python3"
  },
  "language_info": {
   "codemirror_mode": {
    "name": "ipython",
    "version": 3
   },
   "file_extension": ".py",
   "mimetype": "text/x-python",
   "name": "python",
   "nbconvert_exporter": "python",
   "pygments_lexer": "ipython3",
   "version": "3.6.5"
  }
 },
 "nbformat": 4,
 "nbformat_minor": 2
}
