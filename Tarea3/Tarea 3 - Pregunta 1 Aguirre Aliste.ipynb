{
 "cells": [
  {
   "cell_type": "markdown",
   "metadata": {},
   "source": [
    "<img src=\"http://www.exalumnos.usm.cl/wp-content/uploads/2015/06/Isotipo-Negro.gif\" title=\"Title text\" width=\"20%\" height=\"20%\" />\n",
    "\n",
    "\n",
    "<hr style=\"height:2px;border:none\"/>\n",
    "<h1 align='center'> INF-393 Máquinas de Aprendizaje II-2018 </h1>\n",
    "\n",
    "<H3 align='center'> Tarea 3 - Ensamblados y modelos avanzados </H3>\n",
    "<hr style=\"height:2px;border:none\"/>\n",
    "\n",
    "**Temas**  \n",
    "* Técnicas de ensamblado: *bagging*, *boosting*, *random forest*.\n",
    "* Redes Neuronales Convolucionales vs *Feed Forward*\n",
    "* Aprendizaje no supervisado: *hidden models*\n",
    "* Aprendizaje sobre secuencias\n",
    " \n",
    "\n",
    "** Formalidades **  \n",
    "* Equipos de trabajo de: 2 personas (*cada uno debe estar en condiciones de realizar una presentación y discutir sobre cada punto del trabajo realizado*)\n",
    "* Se debe preparar una presentación de 20 minutos. Presentador será elegido aleatoriamente.\n",
    "* Se debe preparar un (breve) Jupyter/IPython notebook que explique la actividad realizada y las conclusiones del trabajo\n",
    "* Fecha de entrega y discusión: 21 de Diciembre (11:55 hrs)\n",
    "* Formato de entrega: envı́o de link Github al correo electrónico del ayudante (*<francisco.mena.13@sansano.usm.cl>*) , incluyendo al profesor en copia (*<jnancu@inf.utfsm.cl>*). Por favor especificar el siguiente asunto: [Tarea3-INF393-II-2018]\n",
    "\n",
    "<hr style=\"height:2px;border:none\"/>\n",
    "\n",
    "La tarea se divide en secciones:\n",
    "\n",
    "[1.](#primero) Calidad de un vino  \n",
    "[2.](#segundo) Redes Convolucionales sobre imágenes  \n",
    "[3.](#tercero) Cadenas de Markov"
   ]
  },
  {
   "cell_type": "markdown",
   "metadata": {},
   "source": [
    "<a id=\"primero\"></a>\n",
    "## 1. Calidad de un vino\n",
    "---\n",
    "\n",
    "Existen muchas variedades de vino existentes debido a los distintos gustos que tienen las personas. Del gusto se desprende la calidad que una persona le podría asignar a un vino, el cual proviene del gusto de la persona en particular, o bien, a la gran cantidad de quı́micos y procesos que se aplican a la producción de vino. Para el área de negocios, el estimar cuál es la calidad de un vino en base a la apreciación del público es una tarea bastante difı́cil.  \n",
    "Para esta actividad se trabajará con dos *datasets* asociados a las variantes tinto y blanco del vino portugués\n",
    "”Vinho Verde”[[1]](#refs). Debido a temas privados solo se cuenta con las caracterı́stcas fisioquı́micas asociadas a un\n",
    "vino en particular, los cuales corresponden a 11 atributos numéricos descritos en el siguiente __[link](http://archive.ics.uci.edu/ml/machine-learning-databases/wine-quality/winequality.names)__.\n",
    "\n",
    "Este problema puede ser abordado como clasificación de 11 clases o de regresión, ya que el atributo a estimar,\n",
    "*quality*, tiene un dominio como valor entero 0 y 10. La forma de resolverlo será a través de **ensamblados**.\n",
    "\n",
    "<img src=\"https://uploads.toptal.io/blog/image/92064/toptal-blog-image-1454584112948-fc1d35939aa1886bf30c816b3ac20e21.jpg\" title=\"Title text\" width=\"20%\"  />\n",
    "\n",
    "\n",
    "> a) Carge los dos dataset en un único dataframe de pandas, además de agregar una columna indicando si es vino tinto o blanco. Describa el dataset a trabajar.\n",
    "```python\n",
    "import pandas as pd\n",
    "df_red = pd.read_csv(\"winequality-red.csv\",sep=\";\")\n",
    "df_white = pd.read_csv(\"winequality-white.csv\",sep=\";\")\n",
    "df = pd.concat([df_red,df_white], axis=0)\n",
    "...#genere atributo 'tipo'\n",
    "```\n",
    "\n",
    "> b) Aborde este problema como si fuera de clasificación con multiples clases para predecir el valor de calidad de un vino, es decir, utilice las distintas caracterı́sticas fisioquı́micas presentes en los datos para estimar la etiqueta ¿Cuántas clases son y cuántos ejemplos hay por clase? ¿Qué sucede con predecir si un vino tiene calidad mínima (0) o máxima(10)? Además para el propósito académico de esta actividad cree un conjunto de pruebas (20%)  para evaluar la generalización final del modelo y otro de validación (20%) si estima conveniente. \n",
    "```python\n",
    "y = df[\"quality\"].values #or codify\n",
    "...#train and test split over df\n",
    "```\n",
    "\n",
    "> c) Entrene un solo Árbol de Clasificación de múltiples niveles para resolver el problema. Defina un Árbol **no regularizado** (como el que no tiene límites en su profundidad) y otro Árbol **regularizado** (variando los hiper-parámetros que prefiera, por ejemplo, los más comunes como la profundidad, el número mínimo de datos para realizar *split* o el número mínimo de datos en cada hoja), recuerde que las **decisiones** no pueden ser basadas mirando el conjunto de pruebas. Debido al desbalanceo que se produce en las clases mida la métrica F1-score [[2]](#refs) sobre el conjunto de entrenamiento y de pruebas.\n",
    "\n",
    "\n",
    "> d) Entrene un ensamblado de árboles de múltiples niveles, mediante la técnica de **Bagging**, compare el Árbol **no regularizado** con el **regularizado** (*seteando los hiper-parámetros en base a lo experimentado anteriormente en c)*) ¿Qué debería suceder? ¿Se visualiza *overfitting*? Varíe la cantidad de árboles de decisión utilizados en el ensamblado (*n estimators*), realice un gráfico resumen del F1-score de entrenamiento y de pruebas en función de este hiper-parámetro.\n",
    "```python\n",
    "from sklearn.ensemble import BaggingClassifier\n",
    "model = BaggingClassifier(base_estimator=Tree(max_depth=), n_estimators=, n_jobs=-1)\n",
    "from sklearn.metrics import f1_score\n",
    "y_pred = model.predict(x)\n",
    "f1_score(y_true, y_pred)\n",
    "```\n",
    "\n",
    "> e) Entrene un ensamblado de árboles de múltiples niveles, mediante la técnica de **AdaBoost**, compare el Árbol **no regularizado** con el **regularizado** (*seteando los hiper-parámetros en base a lo experimentado anteriormente en c)* ¿Se visualiza *overfitting*? ¿Qué técnica se utiliza, *re-muestrear* o *pesar* ejemplos? ¿Qué le parece más sensato?. Varíe la cantidad de árboles de decisión utilizados en el ensamblado (*n estimators*), realice un gráfico resumen del F1-score de entrenamiento y de pruebas en función de este hiper-parámetro. Compare y analice con la técnica utilizada en d).\n",
    "```python\n",
    "from sklearn.ensemble import AdaBoostClassifier\n",
    "model = AdaBoostClassifier(base_estimator=Tree(max_depth=), n_estimators=)\n",
    "```\n",
    "\n",
    "> f) Pruebe otra técnica de ensamblado dedicada a árboles de decisión, que combina el muestreo *boostrap* de *Bagging* con muestreo sobre las *features*: **Random Forest**, compare el Árbol **no regularizado** con el **regularizado** ¿Se visualiza *overfitting*?. Varíe la cantidad de árboles de decisión utilizados en el ensamblado (*n estimators*), realice un gráfico resumen el F1-score de entrenamiento y de pruebas en función de este hiper-parámetro.\n",
    "```python\n",
    "from sklearn.ensemble import RandomForestClassifier\n",
    "model = RandomForestClassifier(n_estimators=, max_depth=,n_jobs=-1)\n",
    "```\n",
    "\n",
    "> g) Verifique que el **OOB error** (*out of bag error*) de los ensambladores que utilizan la técnica *boostrap* puede ser una alternativa como métrica de generalización, compárelo con el error calculado sobre el conjunto de pruebas y validación (o en su defecto *cross validation*).\n",
    "```python\n",
    "oob_error = 1 - model.oob_score_\n",
    "test_error = 1- model.score(X_test,y_test)\n",
    "val_error = 1- model.score(X_val,y_val)\n",
    "print(\"OOB error: \",oob_error)\n",
    "print (\"Val error: \",val_error)\n",
    "print(\"Test error: \",test_error)\n",
    "```\n",
    "\n",
    "> h) Entrene alguna otra máquina de aprendizaje, elegida por usted de entre todas las vistas en el curso, para resolver el problema. Elija los hiper-parámetros que estime convenientes intentando aumentar el *F1-scor*e obtenido por los algoritmos anteriores ¿Se logra una mejora? ¿Por qué?\n",
    "\n",
    "> i) Compare y analice las distintas maneras con las que se resolvió el problema definido en b), por ejemplo incluya las decisiones que conlleva y los resultados que reflejan.\n",
    "\n",
    "> j) Defina otra forma de combinar los valores que entregan los ensamblados al hacer predicciones y compare con lo que se hace actualmente, por ejemplo *Bagging* realiza el voto de la mayoría para clasificación y promedio para regresión, *AdaBoost* realiza una combinación ponderada de cada clasificador dependiendo de su *habilidad* (desempeño para clasificar el conjunto de entrenamiento).\n",
    "```python\n",
    "def combine_predictions(predictions):\n",
    "    return #define !\n",
    "list_estimators = model.estimators_\n",
    "list_predictions = [estimator.predict(X_test) for estimator in list_estimators]\n",
    "new_predictions = combine_predictions(list_predictions)\n",
    "...#measure f1 score\n",
    "f1_score(y_test, new_predictions)\n",
    "```\n",
    "\n",
    "> k) Utilice la técnica de ensamblado para seleccionar características, para ésto defina un criterio para estimar la importancia de los distintos atributos en el ensamblado, impleméntelo sobre alguno de los ensambladores entrenados para resolver el problema definido en b). Realice un *ranking* de importancia de atributos y seleccione las $k$ características más relevantes.\n",
    "\n",
    "> l) Entrene la máquina de aprendizaje definida en h) sobre las $k$ carecterísticas derivadas del punto anterior ¿Mejora los resultados sobre ésta máquina de aprendizaje?\n"
   ]
  },
  {
   "cell_type": "markdown",
   "metadata": {},
   "source": [
    "> a) Carge los dos dataset en un único dataframe de pandas, además de agregar una columna indicando si es vino tinto o blanco. Describa el dataset a trabajar."
   ]
  },
  {
   "cell_type": "code",
   "execution_count": 1,
   "metadata": {},
   "outputs": [
    {
     "name": "stdout",
     "output_type": "stream",
     "text": [
      "Rojo: (1599, 13)\n",
      "Blanco: (4898, 13)\n",
      "Total: (6497, 13)\n",
      "Calidad máxima: 9\n",
      "Calidad mínima: 3\n"
     ]
    },
    {
     "data": {
      "text/html": [
       "<div>\n",
       "<style scoped>\n",
       "    .dataframe tbody tr th:only-of-type {\n",
       "        vertical-align: middle;\n",
       "    }\n",
       "\n",
       "    .dataframe tbody tr th {\n",
       "        vertical-align: top;\n",
       "    }\n",
       "\n",
       "    .dataframe thead th {\n",
       "        text-align: right;\n",
       "    }\n",
       "</style>\n",
       "<table border=\"1\" class=\"dataframe\">\n",
       "  <thead>\n",
       "    <tr style=\"text-align: right;\">\n",
       "      <th></th>\n",
       "      <th>fixed acidity</th>\n",
       "      <th>volatile acidity</th>\n",
       "      <th>citric acid</th>\n",
       "      <th>residual sugar</th>\n",
       "      <th>chlorides</th>\n",
       "      <th>free sulfur dioxide</th>\n",
       "      <th>total sulfur dioxide</th>\n",
       "      <th>density</th>\n",
       "      <th>pH</th>\n",
       "      <th>sulphates</th>\n",
       "      <th>alcohol</th>\n",
       "      <th>quality</th>\n",
       "      <th>tipo</th>\n",
       "    </tr>\n",
       "  </thead>\n",
       "  <tbody>\n",
       "    <tr>\n",
       "      <th>0</th>\n",
       "      <td>7.4</td>\n",
       "      <td>0.70</td>\n",
       "      <td>0.00</td>\n",
       "      <td>1.9</td>\n",
       "      <td>0.076</td>\n",
       "      <td>11.0</td>\n",
       "      <td>34.0</td>\n",
       "      <td>0.9978</td>\n",
       "      <td>3.51</td>\n",
       "      <td>0.56</td>\n",
       "      <td>9.4</td>\n",
       "      <td>5</td>\n",
       "      <td>0</td>\n",
       "    </tr>\n",
       "    <tr>\n",
       "      <th>1</th>\n",
       "      <td>7.8</td>\n",
       "      <td>0.88</td>\n",
       "      <td>0.00</td>\n",
       "      <td>2.6</td>\n",
       "      <td>0.098</td>\n",
       "      <td>25.0</td>\n",
       "      <td>67.0</td>\n",
       "      <td>0.9968</td>\n",
       "      <td>3.20</td>\n",
       "      <td>0.68</td>\n",
       "      <td>9.8</td>\n",
       "      <td>5</td>\n",
       "      <td>0</td>\n",
       "    </tr>\n",
       "    <tr>\n",
       "      <th>2</th>\n",
       "      <td>7.8</td>\n",
       "      <td>0.76</td>\n",
       "      <td>0.04</td>\n",
       "      <td>2.3</td>\n",
       "      <td>0.092</td>\n",
       "      <td>15.0</td>\n",
       "      <td>54.0</td>\n",
       "      <td>0.9970</td>\n",
       "      <td>3.26</td>\n",
       "      <td>0.65</td>\n",
       "      <td>9.8</td>\n",
       "      <td>5</td>\n",
       "      <td>0</td>\n",
       "    </tr>\n",
       "    <tr>\n",
       "      <th>3</th>\n",
       "      <td>11.2</td>\n",
       "      <td>0.28</td>\n",
       "      <td>0.56</td>\n",
       "      <td>1.9</td>\n",
       "      <td>0.075</td>\n",
       "      <td>17.0</td>\n",
       "      <td>60.0</td>\n",
       "      <td>0.9980</td>\n",
       "      <td>3.16</td>\n",
       "      <td>0.58</td>\n",
       "      <td>9.8</td>\n",
       "      <td>6</td>\n",
       "      <td>0</td>\n",
       "    </tr>\n",
       "    <tr>\n",
       "      <th>4</th>\n",
       "      <td>7.4</td>\n",
       "      <td>0.70</td>\n",
       "      <td>0.00</td>\n",
       "      <td>1.9</td>\n",
       "      <td>0.076</td>\n",
       "      <td>11.0</td>\n",
       "      <td>34.0</td>\n",
       "      <td>0.9978</td>\n",
       "      <td>3.51</td>\n",
       "      <td>0.56</td>\n",
       "      <td>9.4</td>\n",
       "      <td>5</td>\n",
       "      <td>0</td>\n",
       "    </tr>\n",
       "  </tbody>\n",
       "</table>\n",
       "</div>"
      ],
      "text/plain": [
       "   fixed acidity  volatile acidity  citric acid  residual sugar  chlorides  \\\n",
       "0            7.4              0.70         0.00             1.9      0.076   \n",
       "1            7.8              0.88         0.00             2.6      0.098   \n",
       "2            7.8              0.76         0.04             2.3      0.092   \n",
       "3           11.2              0.28         0.56             1.9      0.075   \n",
       "4            7.4              0.70         0.00             1.9      0.076   \n",
       "\n",
       "   free sulfur dioxide  total sulfur dioxide  density    pH  sulphates  \\\n",
       "0                 11.0                  34.0   0.9978  3.51       0.56   \n",
       "1                 25.0                  67.0   0.9968  3.20       0.68   \n",
       "2                 15.0                  54.0   0.9970  3.26       0.65   \n",
       "3                 17.0                  60.0   0.9980  3.16       0.58   \n",
       "4                 11.0                  34.0   0.9978  3.51       0.56   \n",
       "\n",
       "   alcohol  quality  tipo  \n",
       "0      9.4        5     0  \n",
       "1      9.8        5     0  \n",
       "2      9.8        5     0  \n",
       "3      9.8        6     0  \n",
       "4      9.4        5     0  "
      ]
     },
     "execution_count": 1,
     "metadata": {},
     "output_type": "execute_result"
    }
   ],
   "source": [
    "import pandas as pd\n",
    "df_red = pd.read_csv(\"winequality-red.csv\",sep=\";\")\n",
    "df_red[\"tipo\"] = 0\n",
    "df_white = pd.read_csv(\"winequality-white.csv\",sep=\";\")\n",
    "df_white[\"tipo\"] = 1\n",
    "df = pd.concat([df_red,df_white], axis=0)\n",
    "print(\"Rojo:\", df_red.shape)\n",
    "print(\"Blanco:\", df_white.shape)\n",
    "print(\"Total:\", df.shape)\n",
    "print(\"Calidad máxima:\", df[\"quality\"].max())\n",
    "print(\"Calidad mínima:\", df[\"quality\"].min())\n",
    "df.head()"
   ]
  },
  {
   "cell_type": "markdown",
   "metadata": {},
   "source": [
    "Con la columna \"tipo\" agregada, el dataset se compone de 13 atributos donde la mayoría de ellos son números reales a excepción de la calidad y el tipo, los cuales son números enteros. Además, se define como tipo 0 a los vinos rojos y tipo 1 a los vinos blancos. Finalmente el dataset se compone de 6497 datos, donde 1599 son vinos rojos y 4898 son vinos blancos. \n",
    "\n",
    "Respecto a la calidad de los vinos, esta variable tiene como menor valor 3 y mayor valor 9 en el dataset, pero los expertos pueden calificar los vinos con 0 si es muy de mala calidad y 10 si es de la mejor calidad."
   ]
  },
  {
   "cell_type": "markdown",
   "metadata": {},
   "source": [
    "> b) Aborde este problema como si fuera de clasificación con multiples clases para predecir el valor de calidad de un vino, es decir, utilice las distintas caracterı́sticas fisioquı́micas presentes en los datos para estimar la etiqueta ¿Cuántas clases son y cuántos ejemplos hay por clase? ¿Qué sucede con predecir si un vino tiene calidad mínima (0) o máxima(10)? Además para el propósito académico de esta actividad cree un conjunto de pruebas (20%)  para evaluar la generalización final del modelo y otro de validación (20%) si estima conveniente. \n",
    "```python\n",
    "y = df[\"quality\"].values #or codify\n",
    "...#train and test split over df\n",
    "```"
   ]
  },
  {
   "cell_type": "markdown",
   "metadata": {},
   "source": [
    "Si tomamos como la calificación de cada vino como una clase, entonces existen 10 clases distintas de vinos dependiendo de su calidad. Como se mencionó en el apartado anterior, las clases presentes en el dataset son desde 3 hasta el 9, por lo que de primera instancia no existen ejemplos para las clases 0, 1, 2 y 10. Contando los ejemplos por clase se tiene:"
   ]
  },
  {
   "cell_type": "code",
   "execution_count": 2,
   "metadata": {},
   "outputs": [
    {
     "data": {
      "text/plain": [
       "6    2836\n",
       "5    2138\n",
       "7    1079\n",
       "4     216\n",
       "8     193\n",
       "3      30\n",
       "9       5\n",
       "Name: quality, dtype: int64"
      ]
     },
     "execution_count": 2,
     "metadata": {},
     "output_type": "execute_result"
    }
   ],
   "source": [
    "df['quality'].value_counts()"
   ]
  },
  {
   "cell_type": "markdown",
   "metadata": {},
   "source": [
    "Dado el resultado anterior, notamos claramente que no existen ejemplos para las clases mencionadas anteriormente. También se puede notar que la mayor cantidad de vinos son calificados con una nota 6 y muy pocos ejemplos de vinos con calidad 9. Por lo tanto, existen más ejemplos de vinos de calidad media que vinos de calidad muy baja o muy alta. Además, como no existen ejemplos de las clases 0 y 10, el clasificar no sabrá muy bien como aprender a clasificarlos de esta forma y es muy probable que no los pueda clasificar."
   ]
  },
  {
   "cell_type": "markdown",
   "metadata": {},
   "source": [
    "Ahora, se realiza un conjunto de entrenamiento, validación y prueba con ayuda de la biblioteca sklearn. El conjunto de pruebas será de un 20% del total del dataset y el de validación será el 20% del conjunto de entrenamiento."
   ]
  },
  {
   "cell_type": "code",
   "execution_count": 3,
   "metadata": {
    "scrolled": false
   },
   "outputs": [
    {
     "name": "stdout",
     "output_type": "stream",
     "text": [
      "Conjunto de entradas:\n",
      "Entrenamiento: (4157, 12)\n",
      "Validación: (1040, 12)\n",
      "Prueba: (1300, 12)\n",
      "Conjunto de salidas:\n",
      "Entrenamiento: (4157,)\n",
      "Validación: (1040,)\n",
      "Prueba: (1300,)\n"
     ]
    }
   ],
   "source": [
    "from sklearn.model_selection import train_test_split\n",
    "# Se toman los valores de la calidad como salida\n",
    "y = df['quality'].values\n",
    "# Se elimina columna calidad\n",
    "df.drop(\"quality\",axis=1,inplace=True)\n",
    "\n",
    "# Nos quedamos con los valores numéricos para la matriz X.\n",
    "X = df.values\n",
    "\n",
    "# Se separan los conjuntos de entrenamiento y prueba.\n",
    "X_train, X_test, y_train, y_test = train_test_split(X, y, test_size=0.2, random_state=42)\n",
    "\n",
    "# Se obtiene un conjunto de validación\n",
    "X_train, X_val, y_train, y_val = train_test_split(X_train, y_train, test_size=0.2, random_state=42)\n",
    "\n",
    "# Se verifica que exista el mismo número de datos para las entradas y salidas.\n",
    "print(\"Conjunto de entradas:\")\n",
    "print(\"Entrenamiento:\", X_train.shape)\n",
    "print(\"Validación:\", X_val.shape)\n",
    "print(\"Prueba:\", X_test.shape)\n",
    "print(\"Conjunto de salidas:\")\n",
    "print(\"Entrenamiento:\", y_train.shape)\n",
    "print(\"Validación:\", y_val.shape)\n",
    "print(\"Prueba:\", y_test.shape)"
   ]
  },
  {
   "cell_type": "markdown",
   "metadata": {},
   "source": [
    "El conjunto de validación se utilizará para poder determinar qué parámetros y modelos son más adecuados para el problema."
   ]
  },
  {
   "cell_type": "markdown",
   "metadata": {},
   "source": [
    "> c) Entrene un solo Árbol de Clasificación de múltiples niveles para resolver el problema. Defina un Árbol **no regularizado** (como el que no tiene límites en su profundidad) y otro Árbol **regularizado** (variando los hiper-parámetros que prefiera, por ejemplo, los más comunes como la profundidad, el número mínimo de datos para realizar *split* o el número mínimo de datos en cada hoja), recuerde que las **decisiones** no pueden ser basadas mirando el conjunto de pruebas. Debido al desbalanceo que se produce en las clases mida la métrica F1-score [[2]](#refs) sobre el conjunto de entrenamiento y de pruebas."
   ]
  },
  {
   "cell_type": "markdown",
   "metadata": {},
   "source": [
    "Se exporta la librería tree de sklearn para generar el árbol de clasificación. Primero se entrena un árbol de clasificación con los parámetros por defecto, sin limitar el crecimiento del árbol."
   ]
  },
  {
   "cell_type": "code",
   "execution_count": 4,
   "metadata": {},
   "outputs": [
    {
     "name": "stdout",
     "output_type": "stream",
     "text": [
      "Micro train: 1.0\n",
      "Micro val: 0.5557692307692308\n",
      "SobreAjuste: 0.4442307692307692\n",
      "\n",
      "\n",
      "Macro train: 1.0\n",
      "Macro val: 0.3137906276548675\n",
      "SobreAjuste: 0.6862093723451326\n",
      "\n",
      "\n",
      "Weighted train: 1.0\n",
      "Weighted val: 0.5535341770349524\n",
      "SobreAjuste: 0.44646582296504755\n",
      "\n",
      "\n",
      "Train Accuracy:  1.0\n",
      "Val Accuracy:  0.5557692307692308\n"
     ]
    },
    {
     "name": "stderr",
     "output_type": "stream",
     "text": [
      "D:\\User\\jalis\\Anaconda3\\envs\\py36\\lib\\site-packages\\sklearn\\metrics\\classification.py:1135: UndefinedMetricWarning: F-score is ill-defined and being set to 0.0 in labels with no predicted samples.\n",
      "  'precision', 'predicted', average, warn_for)\n"
     ]
    }
   ],
   "source": [
    "from sklearn.tree import DecisionTreeClassifier as Tree\n",
    "from sklearn.metrics import f1_score\n",
    "model = Tree() #edit the train_model function\n",
    "model.set_params(criterion='gini',splitter='best')\n",
    "model.fit(X_train,y_train)\n",
    "\n",
    "print(\"Micro train:\", f1_score(y_train, model.predict(X_train), average = \"micro\"))\n",
    "print(\"Micro val:\",f1_score(y_val, model.predict(X_val), average = \"micro\"))\n",
    "print(\"SobreAjuste:\", f1_score(y_train, model.predict(X_train), average = \"micro\") - f1_score(y_val, model.predict(X_val), average = \"micro\"))\n",
    "print(\"\\n\")\n",
    "print(\"Macro train:\",f1_score(y_train, model.predict(X_train), average = \"macro\"))\n",
    "print(\"Macro val:\",f1_score(y_val, model.predict(X_val), average = \"macro\"))\n",
    "print(\"SobreAjuste:\",f1_score(y_train, model.predict(X_train), average = \"macro\") -f1_score(y_val, model.predict(X_val), average = \"macro\"))\n",
    "print(\"\\n\")\n",
    "print(\"Weighted train:\",f1_score(y_train, model.predict(X_train), average = \"weighted\"))\n",
    "print(\"Weighted val:\",f1_score(y_val, model.predict(X_val), average = \"weighted\"))\n",
    "print(\"SobreAjuste:\", f1_score(y_train, model.predict(X_train), average = \"weighted\") - f1_score(y_val, model.predict(X_val), average = \"weighted\"))\n",
    "print(\"\\n\")\n",
    "print(\"Train Accuracy: \", model.score(X_train,y_train))\n",
    "print(\"Val Accuracy: \", model.score(X_val,y_val))"
   ]
  },
  {
   "cell_type": "markdown",
   "metadata": {},
   "source": [
    "Los resultados indican claramente que existe mucho sobreajuste. El clasificador arroja 1 en con todos los average de la función F1_score con el conjunto de entrenamiento, indicando que se aprendió perfectamente este conjunto, pero con el conjunto de validación no ocurre lo mismo, este tiene un puntaje por debajo del 0.56 en todos los casos. Claro sobreajuste. Ahora, se variarán los parámetros del árbol de clasificación para reducir este sobre-ajuste."
   ]
  },
  {
   "cell_type": "code",
   "execution_count": 5,
   "metadata": {},
   "outputs": [
    {
     "name": "stdout",
     "output_type": "stream",
     "text": [
      "Micro train: 0.5280250180418571\n",
      "Micro val: 0.5326923076923077\n",
      "SobreAjuste: -0.004667289650450601\n",
      "\n",
      "\n",
      "Macro train: 0.17027997178841328\n",
      "Macro val: 0.1728093063709502\n",
      "SobreAjuste: -0.0025293345825369296\n",
      "\n",
      "\n",
      "Weighted train: 0.4578732039800562\n",
      "Weighted val: 0.45751558658236746\n",
      "SobreAjuste: 0.00035761739768874756\n",
      "\n",
      "\n",
      "Train Accuracy:  0.5280250180418571\n",
      "Val Accuracy:  0.5326923076923077\n"
     ]
    },
    {
     "name": "stderr",
     "output_type": "stream",
     "text": [
      "D:\\User\\jalis\\Anaconda3\\envs\\py36\\lib\\site-packages\\sklearn\\metrics\\classification.py:1135: UndefinedMetricWarning: F-score is ill-defined and being set to 0.0 in labels with no predicted samples.\n",
      "  'precision', 'predicted', average, warn_for)\n"
     ]
    }
   ],
   "source": [
    "model = Tree() #edit the train_model function\n",
    "model.set_params(max_depth =2, criterion='gini',splitter='best')\n",
    "model.fit(X_train,y_train)\n",
    "\n",
    "\n",
    "print(\"Micro train:\", f1_score(y_train, model.predict(X_train), average = \"micro\"))\n",
    "print(\"Micro val:\",f1_score(y_val, model.predict(X_val), average = \"micro\"))\n",
    "print(\"SobreAjuste:\", f1_score(y_train, model.predict(X_train), average = \"micro\") - f1_score(y_val, model.predict(X_val), average = \"micro\"))\n",
    "print(\"\\n\")\n",
    "print(\"Macro train:\",f1_score(y_train, model.predict(X_train), average = \"macro\"))\n",
    "print(\"Macro val:\",f1_score(y_val, model.predict(X_val), average = \"macro\"))\n",
    "print(\"SobreAjuste:\",f1_score(y_train, model.predict(X_train), average = \"macro\") -f1_score(y_val, model.predict(X_val), average = \"macro\"))\n",
    "print(\"\\n\")\n",
    "print(\"Weighted train:\",f1_score(y_train, model.predict(X_train), average = \"weighted\"))\n",
    "print(\"Weighted val:\",f1_score(y_val, model.predict(X_val), average = \"weighted\"))\n",
    "print(\"SobreAjuste:\", f1_score(y_train, model.predict(X_train), average = \"weighted\") - f1_score(y_val, model.predict(X_val), average = \"weighted\"))\n",
    "print(\"\\n\")\n",
    "print(\"Train Accuracy: \", model.score(X_train,y_train))\n",
    "print(\"Val Accuracy: \", model.score(X_val,y_val))"
   ]
  },
  {
   "cell_type": "markdown",
   "metadata": {},
   "source": [
    "Si uno simplemente limita la profundidad del árbol a 2, ya se obtiene una mejora significativa en lo que respecta al sobre-ajuste, casi desapareciendo, pero el puntaje obtenido en todas las métricas del F1_Score sigue siendo muy inferior a 1. Se decide seguir modificando parámetros en búsqueda de la mejor opción."
   ]
  },
  {
   "cell_type": "code",
   "execution_count": 6,
   "metadata": {},
   "outputs": [
    {
     "name": "stdout",
     "output_type": "stream",
     "text": [
      "Micro train: 0.5667548713014193\n",
      "Micro val: 0.5182692307692308\n",
      "SobreAjuste: 0.04848564053218851\n",
      "\n",
      "\n",
      "Macro train: 0.23235293226953832\n",
      "Macro val: 0.1971820070537467\n",
      "SobreAjuste: 0.035170925215791626\n",
      "\n",
      "\n",
      "Weighted train: 0.5329977420887192\n",
      "Weighted val: 0.4756532975485092\n",
      "SobreAjuste: 0.05734444454020998\n",
      "\n",
      "\n",
      "Train Accuracy:  0.5667548713014193\n",
      "Val Accuracy:  0.5182692307692308\n"
     ]
    },
    {
     "name": "stderr",
     "output_type": "stream",
     "text": [
      "D:\\User\\jalis\\Anaconda3\\envs\\py36\\lib\\site-packages\\sklearn\\metrics\\classification.py:1135: UndefinedMetricWarning: F-score is ill-defined and being set to 0.0 in labels with no predicted samples.\n",
      "  'precision', 'predicted', average, warn_for)\n"
     ]
    }
   ],
   "source": [
    "model = Tree() #edit the train_model function\n",
    "model.set_params(max_depth =5, criterion='gini')\n",
    "model.fit(X_train,y_train)\n",
    "\n",
    "\n",
    "print(\"Micro train:\", f1_score(y_train, model.predict(X_train), average = \"micro\"))\n",
    "print(\"Micro val:\",f1_score(y_val, model.predict(X_val), average = \"micro\"))\n",
    "print(\"SobreAjuste:\", f1_score(y_train, model.predict(X_train), average = \"micro\") - f1_score(y_val, model.predict(X_val), average = \"micro\"))\n",
    "print(\"\\n\")\n",
    "print(\"Macro train:\",f1_score(y_train, model.predict(X_train), average = \"macro\"))\n",
    "print(\"Macro val:\",f1_score(y_val, model.predict(X_val), average = \"macro\"))\n",
    "print(\"SobreAjuste:\",f1_score(y_train, model.predict(X_train), average = \"macro\") -f1_score(y_val, model.predict(X_val), average = \"macro\"))\n",
    "print(\"\\n\")\n",
    "print(\"Weighted train:\",f1_score(y_train, model.predict(X_train), average = \"weighted\"))\n",
    "print(\"Weighted val:\",f1_score(y_val, model.predict(X_val), average = \"weighted\"))\n",
    "print(\"SobreAjuste:\", f1_score(y_train, model.predict(X_train), average = \"weighted\") - f1_score(y_val, model.predict(X_val), average = \"weighted\"))\n",
    "print(\"\\n\")\n",
    "print(\"Train Accuracy: \", model.score(X_train,y_train))\n",
    "print(\"Val Accuracy: \", model.score(X_val,y_val))"
   ]
  },
  {
   "cell_type": "markdown",
   "metadata": {},
   "source": [
    "Modificar más los parámetros no tiene un efecto signficativo en las mejoras del sobre ajuste ni del score del modelo."
   ]
  },
  {
   "cell_type": "markdown",
   "metadata": {},
   "source": [
    "Finalmente, se prueba el último modelo con el conjunto de pruebas."
   ]
  },
  {
   "cell_type": "code",
   "execution_count": 7,
   "metadata": {},
   "outputs": [
    {
     "name": "stdout",
     "output_type": "stream",
     "text": [
      "Micro train: 0.5667548713014193\n",
      "Micro test: 0.5184615384615384\n",
      "SobreAjuste: 0.04829333283988091\n",
      "\n",
      "\n",
      "Macro train: 0.23235293226953832\n",
      "Macro test: 0.19990148854904044\n",
      "SobreAjuste: 0.03245144372049788\n",
      "\n",
      "\n",
      "Weighted train: 0.5329977420887192\n",
      "Weighted test: 0.4831639280760655\n",
      "SobreAjuste: 0.04983381401265369\n",
      "\n",
      "\n",
      "Train Accuracy:  0.5667548713014193\n",
      "Test Accuracy:  0.5184615384615384\n"
     ]
    },
    {
     "name": "stderr",
     "output_type": "stream",
     "text": [
      "D:\\User\\jalis\\Anaconda3\\envs\\py36\\lib\\site-packages\\sklearn\\metrics\\classification.py:1135: UndefinedMetricWarning: F-score is ill-defined and being set to 0.0 in labels with no predicted samples.\n",
      "  'precision', 'predicted', average, warn_for)\n"
     ]
    }
   ],
   "source": [
    "print(\"Micro train:\", f1_score(y_train, model.predict(X_train), average = \"micro\"))\n",
    "print(\"Micro test:\",f1_score(y_test, model.predict(X_test), average = \"micro\"))\n",
    "print(\"SobreAjuste:\", f1_score(y_train, model.predict(X_train), average = \"micro\") - f1_score(y_test, model.predict(X_test), average = \"micro\"))\n",
    "print(\"\\n\")\n",
    "print(\"Macro train:\",f1_score(y_train, model.predict(X_train), average = \"macro\"))\n",
    "print(\"Macro test:\",f1_score(y_test, model.predict(X_test), average = \"macro\"))\n",
    "print(\"SobreAjuste:\",f1_score(y_train, model.predict(X_train), average = \"macro\") -f1_score(y_test, model.predict(X_test), average = \"macro\"))\n",
    "print(\"\\n\")\n",
    "print(\"Weighted train:\",f1_score(y_train, model.predict(X_train), average = \"weighted\"))\n",
    "print(\"Weighted test:\",f1_score(y_test, model.predict(X_test), average = \"weighted\"))\n",
    "print(\"SobreAjuste:\", f1_score(y_train, model.predict(X_train), average = \"weighted\") - f1_score(y_test, model.predict(X_test), average = \"weighted\"))\n",
    "print(\"\\n\")\n",
    "print(\"Train Accuracy: \", model.score(X_train,y_train))\n",
    "print(\"Test Accuracy: \", model.score(X_test,y_test))"
   ]
  },
  {
   "cell_type": "markdown",
   "metadata": {},
   "source": [
    "El resultado que se obtiene es un modelo ahora con muy poco sobreajuste pero con un score muy bajo."
   ]
  },
  {
   "cell_type": "markdown",
   "metadata": {},
   "source": [
    "> d) Entrene un ensamblado de árboles de múltiples niveles, mediante la técnica de **Bagging**, compare el Árbol **no regularizado** con el **regularizado** (*seteando los hiper-parámetros en base a lo experimentado anteriormente en c)*) ¿Qué debería suceder? ¿Se visualiza *overfitting*? Varíe la cantidad de árboles de decisión utilizados en el ensamblado (*n estimators*), realice un gráfico resumen del F1-score de entrenamiento y de pruebas en función de este hiper-parámetro.\n",
    "```python\n",
    "from sklearn.ensemble import BaggingClassifier\n",
    "model = BaggingClassifier(base_estimator=Tree(max_depth=), n_estimators=, n_jobs=-1)\n",
    "from sklearn.metrics import f1_score\n",
    "y_pred = model.predict(x)\n",
    "f1_score(y_true, y_pred)\n",
    "```"
   ]
  },
  {
   "cell_type": "markdown",
   "metadata": {},
   "source": [
    "La técnica de Bagging se enfoca en que dada una probabilidad p mayor a 0.5 de que la máquina no se equivoque, y con esto aumentar la cantidad de máquinas, la propabilidad de que todas se equivoquen al mismo tiempo disminuye a medida que se aumenta la cantidad de máquinas. Por lo tanto, se espera que el F1-Score se mantenga igual si es que el árbol no es regularizado (ya que este mantiene un score de 1) y que en el caso del regularizado, este vaya aumentando su F1-Score. El sobreajuste debería mantener la misma proporción."
   ]
  },
  {
   "cell_type": "code",
   "execution_count": 8,
   "metadata": {},
   "outputs": [
    {
     "name": "stdout",
     "output_type": "stream",
     "text": [
      "Micro train: 0.9853259562184268\n",
      "Micro val: 0.6153846153846154\n",
      "SobreAjuste: 0.36994134083381136\n",
      "\n",
      "\n",
      "Macro train: 0.988790228827152\n",
      "Macro val: 0.3375064532217655\n",
      "SobreAjuste: 0.6512837756053864\n",
      "\n",
      "\n",
      "Weighted train: 0.985325802185705\n",
      "Weighted val: 0.599678154853537\n",
      "SobreAjuste: 0.38564764733216794\n",
      "\n",
      "\n"
     ]
    },
    {
     "name": "stderr",
     "output_type": "stream",
     "text": [
      "D:\\User\\jalis\\Anaconda3\\envs\\py36\\lib\\site-packages\\sklearn\\metrics\\classification.py:1135: UndefinedMetricWarning: F-score is ill-defined and being set to 0.0 in labels with no predicted samples.\n",
      "  'precision', 'predicted', average, warn_for)\n"
     ]
    },
    {
     "name": "stdout",
     "output_type": "stream",
     "text": [
      "Train Accuracy:  0.9853259562184268\n",
      "Val Accuracy:  0.6153846153846154\n"
     ]
    }
   ],
   "source": [
    "from sklearn.ensemble import BaggingClassifier\n",
    "model = BaggingClassifier(base_estimator=Tree(), n_estimators= 10, n_jobs=-1)\n",
    "model.fit(X_train, y_train)\n",
    "\n",
    "#y_pred = model.predict(X_val)\n",
    "y_predTrain = model.predict(X_train)\n",
    "y_predVal = model.predict(X_val)\n",
    "print(\"Micro train:\", f1_score(y_train, y_predTrain, average = \"micro\"))\n",
    "print(\"Micro val:\",f1_score(y_val, y_predVal, average = \"micro\"))\n",
    "print(\"SobreAjuste:\", f1_score(y_train, model.predict(X_train), average = \"micro\") - f1_score(y_val, y_predVal, average = \"micro\"))\n",
    "print(\"\\n\")\n",
    "print(\"Macro train:\",f1_score(y_train, y_predTrain, average = \"macro\"))\n",
    "print(\"Macro val:\",f1_score(y_val, y_predVal, average = \"macro\"))\n",
    "print(\"SobreAjuste:\",f1_score(y_train, y_predTrain, average = \"macro\") -f1_score(y_val, y_predVal, average = \"macro\"))\n",
    "print(\"\\n\")\n",
    "print(\"Weighted train:\",f1_score(y_train, y_predTrain, average = \"weighted\"))\n",
    "print(\"Weighted val:\",f1_score(y_val, y_predVal, average = \"weighted\"))\n",
    "print(\"SobreAjuste:\", f1_score(y_train, y_predTrain, average = \"weighted\") - f1_score(y_val, y_predVal, average = \"weighted\"))\n",
    "print(\"\\n\")\n",
    "print(\"Train Accuracy: \", model.score(X_train,y_train))\n",
    "print(\"Val Accuracy: \", model.score(X_val,y_val))"
   ]
  },
  {
   "cell_type": "markdown",
   "metadata": {},
   "source": [
    "Con un valor a 10 estimadores y un árbol sin regularizar, el sobre ajuste si se redujo, pero sigue siendo alto y su reducción fue en una leve proporción. Se destaca el score para el conjunto de validación aumentó. Ahora se probará con 100 estimadores."
   ]
  },
  {
   "cell_type": "code",
   "execution_count": 9,
   "metadata": {},
   "outputs": [
    {
     "name": "stdout",
     "output_type": "stream",
     "text": [
      "Micro train: 1.0\n",
      "Micro val: 0.6625\n",
      "SobreAjuste: 0.3375\n",
      "\n",
      "\n",
      "Macro train: 1.0\n",
      "Macro val: 0.3656319169977146\n",
      "SobreAjuste: 0.6343680830022854\n",
      "\n",
      "\n",
      "Weighted train: 1.0\n",
      "Weighted val: 0.6452994141882675\n",
      "SobreAjuste: 0.35470058581173247\n",
      "\n",
      "\n"
     ]
    },
    {
     "name": "stderr",
     "output_type": "stream",
     "text": [
      "D:\\User\\jalis\\Anaconda3\\envs\\py36\\lib\\site-packages\\sklearn\\metrics\\classification.py:1135: UndefinedMetricWarning: F-score is ill-defined and being set to 0.0 in labels with no predicted samples.\n",
      "  'precision', 'predicted', average, warn_for)\n"
     ]
    },
    {
     "name": "stdout",
     "output_type": "stream",
     "text": [
      "Train Accuracy:  1.0\n",
      "Val Accuracy:  0.6625\n"
     ]
    }
   ],
   "source": [
    "from sklearn.ensemble import BaggingClassifier\n",
    "model = BaggingClassifier(base_estimator=Tree(), n_estimators= 100, n_jobs=-1)\n",
    "model.fit(X_train, y_train)\n",
    "\n",
    "#y_pred = model.predict(X_val)\n",
    "y_predTrain = model.predict(X_train)\n",
    "y_predVal = model.predict(X_val)\n",
    "print(\"Micro train:\", f1_score(y_train, y_predTrain, average = \"micro\"))\n",
    "print(\"Micro val:\",f1_score(y_val, y_predVal, average = \"micro\"))\n",
    "print(\"SobreAjuste:\", f1_score(y_train, model.predict(X_train), average = \"micro\") - f1_score(y_val, y_predVal, average = \"micro\"))\n",
    "print(\"\\n\")\n",
    "print(\"Macro train:\",f1_score(y_train, y_predTrain, average = \"macro\"))\n",
    "print(\"Macro val:\",f1_score(y_val, y_predVal, average = \"macro\"))\n",
    "print(\"SobreAjuste:\",f1_score(y_train, y_predTrain, average = \"macro\") -f1_score(y_val, y_predVal, average = \"macro\"))\n",
    "print(\"\\n\")\n",
    "print(\"Weighted train:\",f1_score(y_train, y_predTrain, average = \"weighted\"))\n",
    "print(\"Weighted val:\",f1_score(y_val, y_predVal, average = \"weighted\"))\n",
    "print(\"SobreAjuste:\", f1_score(y_train, y_predTrain, average = \"weighted\") - f1_score(y_val, y_predVal, average = \"weighted\"))\n",
    "print(\"\\n\")\n",
    "print(\"Train Accuracy: \", model.score(X_train,y_train))\n",
    "print(\"Val Accuracy: \", model.score(X_val,y_val))"
   ]
  },
  {
   "cell_type": "markdown",
   "metadata": {},
   "source": [
    "Para 100 estimadores, se aumenta el score del conjunto de entrenamiento y levemente se ven variaciones en el conjunto de validación. También varía el sobre ajuste, disminuyendo insignificantemente, aunque para el valor macro este aumentó respecto al anterior. Estos resultados muestran que el sobreajuste sigue siendo un problema. Ahora se realizará un gráfico comparativo para diferente número de estimadores. Para este apartado, solo se usará el micro de F1-Score."
   ]
  },
  {
   "cell_type": "code",
   "execution_count": 10,
   "metadata": {},
   "outputs": [
    {
     "data": {
      "image/png": "[encoded data removed]",
      "text/plain": [
       "<Figure size 432x288 with 1 Axes>"
      ]
     },
     "metadata": {},
     "output_type": "display_data"
    }
   ],
   "source": [
    "import numpy as np\n",
    "%matplotlib inline\n",
    "import matplotlib\n",
    "import matplotlib.pyplot as plt\n",
    "\n",
    "numIteraciones = 100\n",
    "t = np.arange(1, numIteraciones + 1, 1)\n",
    "F1ScoreTrain = np.array([])\n",
    "F1ScoreTest = np.array([])\n",
    "for i in range(1, numIteraciones + 1):\n",
    "    model = BaggingClassifier(base_estimator=Tree(), n_estimators= i, n_jobs=-1)\n",
    "    model.fit(X_train, y_train)\n",
    "    y_predTrain = model.predict(X_train)\n",
    "    y_predTest = model.predict(X_test)\n",
    "    F1ScoreTrain = np.append(F1ScoreTrain, f1_score(y_train, y_predTrain, average = \"micro\"))\n",
    "    F1ScoreTest = np.append(F1ScoreTest, f1_score(y_test, y_predTest, average = \"micro\"))\n",
    "plt.plot(t, F1ScoreTrain, 'r', label = \"Train\")\n",
    "plt.plot(t, F1ScoreTest, label = \"Test\")\n",
    "plt.legend(bbox_to_anchor=(1.05, 1), loc=2, borderaxespad=0.)\n",
    "plt.show();"
   ]
  },
  {
   "cell_type": "markdown",
   "metadata": {},
   "source": [
    "Se puede notar que el score de entrenamiento aumenta rápidamente y que con alrededor de 20 estimadores logra su máximo que es 1. Para el conjunto de test, no ocurre lo mismo. En este caso tiene un comportamiento en el que el score sube y baja con pequeñas variaciones, con tendencia a ser más alto, pero luego de los 60 estimadores estas variaciones son tan leves que el aumento del puntaje es casi imperceptible. Finalmente, se puede notar que aún existe un gran sobreajuste."
   ]
  },
  {
   "cell_type": "markdown",
   "metadata": {},
   "source": [
    "Ahora, se experimentará con un árbol de clasificación regularizado junto con la técnica Bagging."
   ]
  },
  {
   "cell_type": "code",
   "execution_count": 11,
   "metadata": {},
   "outputs": [
    {
     "name": "stdout",
     "output_type": "stream",
     "text": [
      "Micro train: 0.6057252826557614\n",
      "Micro val: 0.575\n",
      "SobreAjuste: 0.030725282655761466\n",
      "\n",
      "\n",
      "Macro train: 0.2655250131776024\n",
      "Macro val: 0.24180491310308752\n",
      "SobreAjuste: 0.023720100074514888\n",
      "\n",
      "\n",
      "Weighted train: 0.5787364193953152\n",
      "Weighted val: 0.538685454646408\n",
      "SobreAjuste: 0.040050964748907125\n",
      "\n",
      "\n"
     ]
    },
    {
     "name": "stderr",
     "output_type": "stream",
     "text": [
      "D:\\User\\jalis\\Anaconda3\\envs\\py36\\lib\\site-packages\\sklearn\\metrics\\classification.py:1135: UndefinedMetricWarning: F-score is ill-defined and being set to 0.0 in labels with no predicted samples.\n",
      "  'precision', 'predicted', average, warn_for)\n"
     ]
    },
    {
     "name": "stdout",
     "output_type": "stream",
     "text": [
      "Train Accuracy:  0.6057252826557614\n",
      "Val Accuracy:  0.575\n"
     ]
    }
   ],
   "source": [
    "from sklearn.ensemble import BaggingClassifier\n",
    "model = BaggingClassifier(base_estimator=Tree(max_depth =5, criterion='gini'), n_estimators= 10, n_jobs=-1)\n",
    "model.fit(X_train, y_train)\n",
    "\n",
    "y_predTrain = model.predict(X_train)\n",
    "y_predVal = model.predict(X_val)\n",
    "print(\"Micro train:\", f1_score(y_train, y_predTrain, average = \"micro\"))\n",
    "print(\"Micro val:\",f1_score(y_val, y_predVal, average = \"micro\"))\n",
    "print(\"SobreAjuste:\", f1_score(y_train, model.predict(X_train), average = \"micro\") - f1_score(y_val, y_predVal, average = \"micro\"))\n",
    "print(\"\\n\")\n",
    "print(\"Macro train:\",f1_score(y_train, y_predTrain, average = \"macro\"))\n",
    "print(\"Macro val:\",f1_score(y_val, y_predVal, average = \"macro\"))\n",
    "print(\"SobreAjuste:\",f1_score(y_train, y_predTrain, average = \"macro\") -f1_score(y_val, y_predVal, average = \"macro\"))\n",
    "print(\"\\n\")\n",
    "print(\"Weighted train:\",f1_score(y_train, y_predTrain, average = \"weighted\"))\n",
    "print(\"Weighted val:\",f1_score(y_val, y_predVal, average = \"weighted\"))\n",
    "print(\"SobreAjuste:\", f1_score(y_train, y_predTrain, average = \"weighted\") - f1_score(y_val, y_predVal, average = \"weighted\"))\n",
    "print(\"\\n\")\n",
    "print(\"Train Accuracy: \", model.score(X_train,y_train))\n",
    "print(\"Val Accuracy: \", model.score(X_val,y_val))"
   ]
  },
  {
   "cell_type": "markdown",
   "metadata": {},
   "source": [
    "Con el árbol regularizado se muestra una gran mejora en el sobreajuste, casi inexistente, lo que es muy bueno. La diferencia es que en el modelo anterior se obtenía un mayor score en el conjunto de validación de alrededor de 0.07 puntos."
   ]
  },
  {
   "cell_type": "code",
   "execution_count": 12,
   "metadata": {},
   "outputs": [
    {
     "name": "stdout",
     "output_type": "stream",
     "text": [
      "Micro train: 0.6052441664662016\n",
      "Micro val: 0.5653846153846154\n",
      "SobreAjuste: 0.03985955108158623\n",
      "\n",
      "\n",
      "Macro train: 0.24706566484785492\n",
      "Macro val: 0.22423913796438646\n",
      "SobreAjuste: 0.02282652688346845\n",
      "\n",
      "\n",
      "Weighted train: 0.5721831699489106\n",
      "Weighted val: 0.5262436362678077\n",
      "SobreAjuste: 0.04593953368110293\n",
      "\n",
      "\n"
     ]
    },
    {
     "name": "stderr",
     "output_type": "stream",
     "text": [
      "D:\\User\\jalis\\Anaconda3\\envs\\py36\\lib\\site-packages\\sklearn\\metrics\\classification.py:1135: UndefinedMetricWarning: F-score is ill-defined and being set to 0.0 in labels with no predicted samples.\n",
      "  'precision', 'predicted', average, warn_for)\n"
     ]
    },
    {
     "name": "stdout",
     "output_type": "stream",
     "text": [
      "Train Accuracy:  0.6052441664662016\n",
      "Val Accuracy:  0.5653846153846154\n"
     ]
    }
   ],
   "source": [
    "from sklearn.ensemble import BaggingClassifier\n",
    "model = BaggingClassifier(base_estimator=Tree(max_depth =5, criterion='gini'), n_estimators= 100, n_jobs=-1)\n",
    "model.fit(X_train, y_train)\n",
    "\n",
    "#y_pred = model.predict(X_val)\n",
    "y_predTrain = model.predict(X_train)\n",
    "y_predVal = model.predict(X_val)\n",
    "print(\"Micro train:\", f1_score(y_train, y_predTrain, average = \"micro\"))\n",
    "print(\"Micro val:\",f1_score(y_val, y_predVal, average = \"micro\"))\n",
    "print(\"SobreAjuste:\", f1_score(y_train, model.predict(X_train), average = \"micro\") - f1_score(y_val, y_predVal, average = \"micro\"))\n",
    "print(\"\\n\")\n",
    "print(\"Macro train:\",f1_score(y_train, y_predTrain, average = \"macro\"))\n",
    "print(\"Macro val:\",f1_score(y_val, y_predVal, average = \"macro\"))\n",
    "print(\"SobreAjuste:\",f1_score(y_train, y_predTrain, average = \"macro\") -f1_score(y_val, y_predVal, average = \"macro\"))\n",
    "print(\"\\n\")\n",
    "print(\"Weighted train:\",f1_score(y_train, y_predTrain, average = \"weighted\"))\n",
    "print(\"Weighted val:\",f1_score(y_val, y_predVal, average = \"weighted\"))\n",
    "print(\"SobreAjuste:\", f1_score(y_train, y_predTrain, average = \"weighted\") - f1_score(y_val, y_predVal, average = \"weighted\"))\n",
    "print(\"\\n\")\n",
    "print(\"Train Accuracy: \", model.score(X_train,y_train))\n",
    "print(\"Val Accuracy: \", model.score(X_val,y_val))"
   ]
  },
  {
   "cell_type": "markdown",
   "metadata": {},
   "source": [
    "Al aumentar los estimadores, no se percibe mejoría. De hecho, el resultado tiene más sobre ajuste que con 10 estimadores y tiene menos score en todas las métricas."
   ]
  },
  {
   "cell_type": "code",
   "execution_count": 13,
   "metadata": {},
   "outputs": [
    {
     "data": {
      "image/png": "[encoded data removed]",
      "text/plain": [
       "<Figure size 432x288 with 1 Axes>"
      ]
     },
     "metadata": {},
     "output_type": "display_data"
    }
   ],
   "source": [
    "numIteraciones = 100\n",
    "t = np.arange(1, numIteraciones + 1, 1)\n",
    "F1ScoreTrain = np.array([])\n",
    "F1ScoreTest = np.array([])\n",
    "for i in range(1, numIteraciones + 1):\n",
    "    model = BaggingClassifier(base_estimator=Tree(max_depth =5, criterion='gini'), n_estimators= i, n_jobs=-1)\n",
    "    model.fit(X_train, y_train)\n",
    "    y_predTrain = model.predict(X_train)\n",
    "    y_predTest = model.predict(X_test)\n",
    "    F1ScoreTrain = np.append(F1ScoreTrain, f1_score(y_train, y_predTrain, average = \"micro\"))\n",
    "    F1ScoreTest = np.append(F1ScoreTest, f1_score(y_test, y_predTest, average = \"micro\"))\n",
    "plt.plot(t, F1ScoreTrain, 'r', label = \"Train\")\n",
    "plt.plot(t, F1ScoreTest, label = \"Test\")\n",
    "plt.legend(bbox_to_anchor=(1.05, 1), loc=2, borderaxespad=0.)\n",
    "plt.show()"
   ]
  },
  {
   "cell_type": "markdown",
   "metadata": {},
   "source": [
    "En este caso, se puede notar la reducción considerable del sobre ajuste, pero este aún existe. El score de prueba es menor que el árbol no regularizado"
   ]
  },
  {
   "cell_type": "markdown",
   "metadata": {},
   "source": [
    "> e) Entrene un ensamblado de árboles de múltiples niveles, mediante la técnica de **AdaBoost**, compare el Árbol **no regularizado** con el **regularizado** (*seteando los hiper-parámetros en base a lo experimentado anteriormente en c)* ¿Se visualiza *overfitting*? ¿Qué técnica se utiliza, *re-muestrear* o *pesar* ejemplos? ¿Qué le parece más sensato?. Varíe la cantidad de árboles de decisión utilizados en el ensamblado (*n estimators*), realice un gráfico resumen del F1-score de entrenamiento y de pruebas en función de este hiper-parámetro. Compare y analice con la técnica utilizada en d).\n",
    "```python\n",
    "from sklearn.ensemble import AdaBoostClassifier\n",
    "model = AdaBoostClassifier(base_estimator=Tree(max_depth=), n_estimators=)\n",
    "```"
   ]
  },
  {
   "cell_type": "markdown",
   "metadata": {},
   "source": [
    "Primero se utiliza AdaBoost con un árbol no regularizado. Adaboost es una técnica que da peso a los ejemplos."
   ]
  },
  {
   "cell_type": "code",
   "execution_count": 14,
   "metadata": {},
   "outputs": [
    {
     "name": "stdout",
     "output_type": "stream",
     "text": [
      "Micro train: 1.0\n",
      "Micro val: 0.5567307692307693\n",
      "SobreAjuste: 0.44326923076923075\n",
      "\n",
      "\n",
      "Macro train: 1.0\n",
      "Macro val: 0.3110139019842779\n",
      "SobreAjuste: 0.6889860980157221\n",
      "\n",
      "\n",
      "Weighted train: 1.0\n",
      "Weighted val: 0.5532610409788569\n",
      "SobreAjuste: 0.44673895902114313\n",
      "\n",
      "\n",
      "Train Accuracy:  1.0\n",
      "Val Accuracy:  0.5567307692307693\n"
     ]
    }
   ],
   "source": [
    "from sklearn.ensemble import AdaBoostClassifier\n",
    "model = AdaBoostClassifier(base_estimator=Tree(), n_estimators= 10)\n",
    "model.fit(X_train, y_train)\n",
    "\n",
    "#y_pred = model.predict(X_val)\n",
    "y_predTrain = model.predict(X_train)\n",
    "y_predVal = model.predict(X_val)\n",
    "print(\"Micro train:\", f1_score(y_train, y_predTrain, average = \"micro\"))\n",
    "print(\"Micro val:\",f1_score(y_val, y_predVal, average = \"micro\"))\n",
    "print(\"SobreAjuste:\", f1_score(y_train, model.predict(X_train), average = \"micro\") - f1_score(y_val, y_predVal, average = \"micro\"))\n",
    "print(\"\\n\")\n",
    "print(\"Macro train:\",f1_score(y_train, y_predTrain, average = \"macro\"))\n",
    "print(\"Macro val:\",f1_score(y_val, y_predVal, average = \"macro\"))\n",
    "print(\"SobreAjuste:\",f1_score(y_train, y_predTrain, average = \"macro\") -f1_score(y_val, y_predVal, average = \"macro\"))\n",
    "print(\"\\n\")\n",
    "print(\"Weighted train:\",f1_score(y_train, y_predTrain, average = \"weighted\"))\n",
    "print(\"Weighted val:\",f1_score(y_val, y_predVal, average = \"weighted\"))\n",
    "print(\"SobreAjuste:\", f1_score(y_train, y_predTrain, average = \"weighted\") - f1_score(y_val, y_predVal, average = \"weighted\"))\n",
    "print(\"\\n\")\n",
    "print(\"Train Accuracy: \", model.score(X_train,y_train))\n",
    "print(\"Val Accuracy: \", model.score(X_val,y_val))"
   ]
  },
  {
   "cell_type": "markdown",
   "metadata": {},
   "source": [
    "Ahora se prueba con 100 para el no regularizado."
   ]
  },
  {
   "cell_type": "code",
   "execution_count": 15,
   "metadata": {},
   "outputs": [
    {
     "name": "stdout",
     "output_type": "stream",
     "text": [
      "Micro train: 1.0\n",
      "Micro val: 0.5538461538461539\n",
      "SobreAjuste: 0.4461538461538461\n",
      "\n",
      "\n",
      "Macro train: 1.0\n",
      "Macro val: 0.3173730941628417\n",
      "SobreAjuste: 0.6826269058371583\n",
      "\n",
      "\n",
      "Weighted train: 1.0\n",
      "Weighted val: 0.5511189727873085\n",
      "SobreAjuste: 0.4488810272126915\n",
      "\n",
      "\n",
      "Train Accuracy:  1.0\n",
      "Val Accuracy:  0.5538461538461539\n"
     ]
    }
   ],
   "source": [
    "from sklearn.ensemble import AdaBoostClassifier\n",
    "model = AdaBoostClassifier(base_estimator=Tree(), n_estimators= 100)\n",
    "model.fit(X_train, y_train)\n",
    "\n",
    "#y_pred = model.predict(X_val)\n",
    "y_predTrain = model.predict(X_train)\n",
    "y_predVal = model.predict(X_val)\n",
    "print(\"Micro train:\", f1_score(y_train, y_predTrain, average = \"micro\"))\n",
    "print(\"Micro val:\",f1_score(y_val, y_predVal, average = \"micro\"))\n",
    "print(\"SobreAjuste:\", f1_score(y_train, model.predict(X_train), average = \"micro\") - f1_score(y_val, y_predVal, average = \"micro\"))\n",
    "print(\"\\n\")\n",
    "print(\"Macro train:\",f1_score(y_train, y_predTrain, average = \"macro\"))\n",
    "print(\"Macro val:\",f1_score(y_val, y_predVal, average = \"macro\"))\n",
    "print(\"SobreAjuste:\",f1_score(y_train, y_predTrain, average = \"macro\") -f1_score(y_val, y_predVal, average = \"macro\"))\n",
    "print(\"\\n\")\n",
    "print(\"Weighted train:\",f1_score(y_train, y_predTrain, average = \"weighted\"))\n",
    "print(\"Weighted val:\",f1_score(y_val, y_predVal, average = \"weighted\"))\n",
    "print(\"SobreAjuste:\", f1_score(y_train, y_predTrain, average = \"weighted\") - f1_score(y_val, y_predVal, average = \"weighted\"))\n",
    "print(\"\\n\")\n",
    "print(\"Train Accuracy: \", model.score(X_train,y_train))\n",
    "print(\"Val Accuracy: \", model.score(X_val,y_val))"
   ]
  },
  {
   "cell_type": "markdown",
   "metadata": {},
   "source": [
    "Lamentablemente, no se percibe una mejora significativa en ningún aspecto."
   ]
  },
  {
   "cell_type": "code",
   "execution_count": 16,
   "metadata": {},
   "outputs": [
    {
     "data": {
      "image/png": "[encoded data removed]",
      "text/plain": [
       "<Figure size 432x288 with 1 Axes>"
      ]
     },
     "metadata": {},
     "output_type": "display_data"
    }
   ],
   "source": [
    "numIteraciones = 100\n",
    "t = np.arange(1, numIteraciones + 1, 1)\n",
    "F1ScoreTrain = np.array([])\n",
    "F1ScoreTest = np.array([])\n",
    "for i in range(1, numIteraciones + 1):\n",
    "    model = AdaBoostClassifier(base_estimator=Tree(), n_estimators= i)\n",
    "    model.fit(X_train, y_train)\n",
    "    y_predTrain = model.predict(X_train)\n",
    "    y_predTest = model.predict(X_test)\n",
    "    F1ScoreTrain = np.append(F1ScoreTrain, f1_score(y_train, y_predTrain, average = \"micro\"))\n",
    "    F1ScoreTest = np.append(F1ScoreTest, f1_score(y_test, y_predTest, average = \"micro\"))\n",
    "plt.plot(t, F1ScoreTrain, 'r', label = \"Train\")\n",
    "plt.plot(t, F1ScoreTest, label = \"Test\")\n",
    "plt.legend(bbox_to_anchor=(1.05, 1), loc=2, borderaxespad=0.)\n",
    "plt.show()"
   ]
  },
  {
   "cell_type": "markdown",
   "metadata": {},
   "source": [
    "AdaBoost no muestra mejora en el conjunto de pruebas para un árbol no regularizado."
   ]
  },
  {
   "cell_type": "code",
   "execution_count": 63,
   "metadata": {},
   "outputs": [
    {
     "name": "stdout",
     "output_type": "stream",
     "text": [
      "Micro train: 0.558816454173683\n",
      "Micro val: 0.48365384615384616\n",
      "SobreAjuste: 0.07516260801983682\n",
      "\n",
      "\n",
      "Macro train: 0.5275675042459664\n",
      "Macro val: 0.22383304302187396\n",
      "SobreAjuste: 0.3037344612240925\n",
      "\n",
      "\n",
      "Weighted train: 0.552967190741267\n",
      "Weighted val: 0.4697900195786188\n",
      "SobreAjuste: 0.08317717116264817\n",
      "\n",
      "\n",
      "Train Accuracy:  0.558816454173683\n",
      "Val Accuracy:  0.48365384615384616\n"
     ]
    },
    {
     "name": "stderr",
     "output_type": "stream",
     "text": [
      "D:\\User\\jalis\\Anaconda3\\envs\\py36\\lib\\site-packages\\sklearn\\metrics\\classification.py:1135: UndefinedMetricWarning: F-score is ill-defined and being set to 0.0 in labels with no predicted samples.\n",
      "  'precision', 'predicted', average, warn_for)\n"
     ]
    }
   ],
   "source": [
    "model = AdaBoostClassifier(base_estimator=Tree(max_depth =5, criterion='gini'), n_estimators= 10)\n",
    "model.fit(X_train, y_train)\n",
    "\n",
    "#y_pred = model.predict(X_val)\n",
    "y_predTrain = model.predict(X_train)\n",
    "y_predVal = model.predict(X_val)\n",
    "print(\"Micro train:\", f1_score(y_train, y_predTrain, average = \"micro\"))\n",
    "print(\"Micro val:\",f1_score(y_val, y_predVal, average = \"micro\"))\n",
    "print(\"SobreAjuste:\", f1_score(y_train, model.predict(X_train), average = \"micro\") - f1_score(y_val, y_predVal, average = \"micro\"))\n",
    "print(\"\\n\")\n",
    "print(\"Macro train:\",f1_score(y_train, y_predTrain, average = \"macro\"))\n",
    "print(\"Macro val:\",f1_score(y_val, y_predVal, average = \"macro\"))\n",
    "print(\"SobreAjuste:\",f1_score(y_train, y_predTrain, average = \"macro\") -f1_score(y_val, y_predVal, average = \"macro\"))\n",
    "print(\"\\n\")\n",
    "print(\"Weighted train:\",f1_score(y_train, y_predTrain, average = \"weighted\"))\n",
    "print(\"Weighted val:\",f1_score(y_val, y_predVal, average = \"weighted\"))\n",
    "print(\"SobreAjuste:\", f1_score(y_train, y_predTrain, average = \"weighted\") - f1_score(y_val, y_predVal, average = \"weighted\"))\n",
    "print(\"\\n\")\n",
    "print(\"Train Accuracy: \", model.score(X_train,y_train))\n",
    "print(\"Val Accuracy: \", model.score(X_val,y_val))"
   ]
  },
  {
   "cell_type": "markdown",
   "metadata": {},
   "source": [
    "Con un árbol regularizado, adaboost muestra mejoría en el sobre ajuste, pero el score obtenido en el conjunto de validación es muy similar al no regularizado."
   ]
  },
  {
   "cell_type": "code",
   "execution_count": 18,
   "metadata": {},
   "outputs": [
    {
     "name": "stdout",
     "output_type": "stream",
     "text": [
      "Micro train: 0.6242482559538128\n",
      "Micro val: 0.4913461538461538\n",
      "SobreAjuste: 0.13290210210765901\n",
      "\n",
      "\n",
      "Macro train: 0.7263399310674558\n",
      "Macro val: 0.2589464026861516\n",
      "SobreAjuste: 0.46739352838130416\n",
      "\n",
      "\n",
      "Weighted train: 0.6230220715069766\n",
      "Weighted val: 0.4782872326354363\n",
      "SobreAjuste: 0.14473483887154032\n",
      "\n",
      "\n",
      "Train Accuracy:  0.6242482559538128\n",
      "Val Accuracy:  0.4913461538461538\n"
     ]
    },
    {
     "name": "stderr",
     "output_type": "stream",
     "text": [
      "D:\\User\\jalis\\Anaconda3\\envs\\py36\\lib\\site-packages\\sklearn\\metrics\\classification.py:1135: UndefinedMetricWarning: F-score is ill-defined and being set to 0.0 in labels with no predicted samples.\n",
      "  'precision', 'predicted', average, warn_for)\n"
     ]
    }
   ],
   "source": [
    "model = AdaBoostClassifier(base_estimator=Tree(max_depth = 5, criterion='gini'), n_estimators= 100)\n",
    "model.fit(X_train, y_train)\n",
    "\n",
    "#y_pred = model.predict(X_val)\n",
    "y_predTrain = model.predict(X_train)\n",
    "y_predVal = model.predict(X_val)\n",
    "print(\"Micro train:\", f1_score(y_train, y_predTrain, average = \"micro\"))\n",
    "print(\"Micro val:\",f1_score(y_val, y_predVal, average = \"micro\"))\n",
    "print(\"SobreAjuste:\", f1_score(y_train, model.predict(X_train), average = \"micro\") - f1_score(y_val, y_predVal, average = \"micro\"))\n",
    "print(\"\\n\")\n",
    "print(\"Macro train:\",f1_score(y_train, y_predTrain, average = \"macro\"))\n",
    "print(\"Macro val:\",f1_score(y_val, y_predVal, average = \"macro\"))\n",
    "print(\"SobreAjuste:\",f1_score(y_train, y_predTrain, average = \"macro\") -f1_score(y_val, y_predVal, average = \"macro\"))\n",
    "print(\"\\n\")\n",
    "print(\"Weighted train:\",f1_score(y_train, y_predTrain, average = \"weighted\"))\n",
    "print(\"Weighted val:\",f1_score(y_val, y_predVal, average = \"weighted\"))\n",
    "print(\"SobreAjuste:\", f1_score(y_train, y_predTrain, average = \"weighted\") - f1_score(y_val, y_predVal, average = \"weighted\"))\n",
    "print(\"\\n\")\n",
    "print(\"Train Accuracy: \", model.score(X_train,y_train))\n",
    "print(\"Val Accuracy: \", model.score(X_val,y_val))"
   ]
  },
  {
   "cell_type": "markdown",
   "metadata": {},
   "source": [
    "Se presenta una leve mejora en el score de entrenamiento y de validación pero es casi insignificante. Aumenta el sobre ajuste."
   ]
  },
  {
   "cell_type": "code",
   "execution_count": 68,
   "metadata": {},
   "outputs": [
    {
     "data": {
      "image/png": "[encoded data removed]",
      "text/plain": [
       "<Figure size 432x288 with 1 Axes>"
      ]
     },
     "metadata": {},
     "output_type": "display_data"
    }
   ],
   "source": [
    "numIteraciones = 500\n",
    "t = np.arange(1, numIteraciones + 1, 1)\n",
    "F1ScoreTrain = np.array([])\n",
    "F1ScoreTest = np.array([])\n",
    "for i in range(1, numIteraciones + 1):\n",
    "    model = AdaBoostClassifier(base_estimator=Tree(max_depth =5, criterion='gini'), n_estimators= i)\n",
    "    model.fit(X_train, y_train)\n",
    "    y_predTrain = model.predict(X_train)\n",
    "    y_predTest = model.predict(X_test)\n",
    "    F1ScoreTrain = np.append(F1ScoreTrain, f1_score(y_train, y_predTrain, average = \"micro\"))\n",
    "    F1ScoreTest = np.append(F1ScoreTest, f1_score(y_test, y_predTest, average = \"micro\"))\n",
    "plt.plot(t, F1ScoreTrain, 'r', label = \"Train\")\n",
    "plt.plot(t, F1ScoreTest, label = \"Test\")\n",
    "plt.legend(bbox_to_anchor=(1.05, 1), loc=2, borderaxespad=0.)\n",
    "plt.show()"
   ]
  },
  {
   "cell_type": "markdown",
   "metadata": {},
   "source": [
    "El comportamiento de Adaboost en el modelo regularizado es muy variante. En ambos scores comienzan a bajar para luego de 20 estimadores volver a subir. En el gráfico se aprecia que el score de ambos conjuntos va aumentando con la cantidad de estimadores, pero también lo va haciendo el sobre ajuste. Además, a simple vista se puede notar que el conjunto de entrenamiento mejora más rápido que el de prueba."
   ]
  },
  {
   "cell_type": "markdown",
   "metadata": {},
   "source": [
    "> f) Pruebe otra técnica de ensamblado dedicada a árboles de decisión, que combina el muestreo *boostrap* de *Bagging* con muestreo sobre las *features*: **Random Forest**, compare el Árbol **no regularizado** con el **regularizado** ¿Se visualiza *overfitting*?. Varíe la cantidad de árboles de decisión utilizados en el ensamblado (*n estimators*), realice un gráfico resumen el F1-score de entrenamiento y de pruebas en función de este hiper-parámetro.\n",
    "```python\n",
    "from sklearn.ensemble import RandomForestClassifier\n",
    "model = RandomForestClassifier(n_estimators=, max_depth=,n_jobs=-1)\n",
    "```\n"
   ]
  },
  {
   "cell_type": "markdown",
   "metadata": {},
   "source": [
    "Se utiliza la técnica de random forest para resolver el problema. Primero se utilizan 10 estimadores con un árbol no regularizado."
   ]
  },
  {
   "cell_type": "code",
   "execution_count": 20,
   "metadata": {},
   "outputs": [
    {
     "name": "stdout",
     "output_type": "stream",
     "text": [
      "Micro train: 0.987009862881886\n",
      "Micro val: 0.6278846153846154\n",
      "SobreAjuste: 0.3591252474972706\n",
      "\n",
      "\n",
      "Macro train: 0.9904317235877128\n",
      "Macro val: 0.34373004458762824\n",
      "SobreAjuste: 0.6467016790000846\n",
      "\n",
      "\n",
      "Weighted train: 0.9869993825337682\n",
      "Weighted val: 0.6119083202157047\n",
      "SobreAjuste: 0.37509106231806344\n",
      "\n",
      "\n"
     ]
    },
    {
     "name": "stderr",
     "output_type": "stream",
     "text": [
      "D:\\User\\jalis\\Anaconda3\\envs\\py36\\lib\\site-packages\\sklearn\\metrics\\classification.py:1135: UndefinedMetricWarning: F-score is ill-defined and being set to 0.0 in labels with no predicted samples.\n",
      "  'precision', 'predicted', average, warn_for)\n"
     ]
    },
    {
     "name": "stdout",
     "output_type": "stream",
     "text": [
      "Train Accuracy:  0.987009862881886\n",
      "Val Accuracy:  0.6278846153846154\n"
     ]
    }
   ],
   "source": [
    "from sklearn.ensemble import RandomForestClassifier\n",
    "model = RandomForestClassifier(n_estimators= 10, n_jobs=-1)\n",
    "model.fit(X_train, y_train)\n",
    "\n",
    "#y_pred = model.predict(X_val)\n",
    "y_predTrain = model.predict(X_train)\n",
    "y_predVal = model.predict(X_val)\n",
    "print(\"Micro train:\", f1_score(y_train, y_predTrain, average = \"micro\"))\n",
    "print(\"Micro val:\",f1_score(y_val, y_predVal, average = \"micro\"))\n",
    "print(\"SobreAjuste:\", f1_score(y_train, model.predict(X_train), average = \"micro\") - f1_score(y_val, y_predVal, average = \"micro\"))\n",
    "print(\"\\n\")\n",
    "print(\"Macro train:\",f1_score(y_train, y_predTrain, average = \"macro\"))\n",
    "print(\"Macro val:\",f1_score(y_val, y_predVal, average = \"macro\"))\n",
    "print(\"SobreAjuste:\",f1_score(y_train, y_predTrain, average = \"macro\") -f1_score(y_val, y_predVal, average = \"macro\"))\n",
    "print(\"\\n\")\n",
    "print(\"Weighted train:\",f1_score(y_train, y_predTrain, average = \"weighted\"))\n",
    "print(\"Weighted val:\",f1_score(y_val, y_predVal, average = \"weighted\"))\n",
    "print(\"SobreAjuste:\", f1_score(y_train, y_predTrain, average = \"weighted\") - f1_score(y_val, y_predVal, average = \"weighted\"))\n",
    "print(\"\\n\")\n",
    "print(\"Train Accuracy: \", model.score(X_train,y_train))\n",
    "print(\"Val Accuracy: \", model.score(X_val,y_val))"
   ]
  },
  {
   "cell_type": "markdown",
   "metadata": {},
   "source": [
    "El score del conjunto de entrenamiento es alto, pero no así el de validación. Se puede ver un claro sobre ajuste."
   ]
  },
  {
   "cell_type": "code",
   "execution_count": 21,
   "metadata": {},
   "outputs": [
    {
     "name": "stdout",
     "output_type": "stream",
     "text": [
      "Micro train: 1.0\n",
      "Micro val: 0.6653846153846154\n",
      "SobreAjuste: 0.33461538461538465\n",
      "\n",
      "\n",
      "Macro train: 1.0\n",
      "Macro val: 0.36987900962445697\n",
      "SobreAjuste: 0.630120990375543\n",
      "\n",
      "\n",
      "Weighted train: 1.0\n",
      "Weighted val: 0.6488385653866772\n",
      "SobreAjuste: 0.35116143461332283\n",
      "\n",
      "\n"
     ]
    },
    {
     "name": "stderr",
     "output_type": "stream",
     "text": [
      "D:\\User\\jalis\\Anaconda3\\envs\\py36\\lib\\site-packages\\sklearn\\metrics\\classification.py:1135: UndefinedMetricWarning: F-score is ill-defined and being set to 0.0 in labels with no predicted samples.\n",
      "  'precision', 'predicted', average, warn_for)\n"
     ]
    },
    {
     "name": "stdout",
     "output_type": "stream",
     "text": [
      "Train Accuracy:  1.0\n",
      "Val Accuracy:  0.6653846153846154\n"
     ]
    }
   ],
   "source": [
    "model = RandomForestClassifier(n_estimators= 100, n_jobs=-1)\n",
    "model.fit(X_train, y_train)\n",
    "\n",
    "#y_pred = model.predict(X_val)\n",
    "y_predTrain = model.predict(X_train)\n",
    "y_predVal = model.predict(X_val)\n",
    "print(\"Micro train:\", f1_score(y_train, y_predTrain, average = \"micro\"))\n",
    "print(\"Micro val:\",f1_score(y_val, y_predVal, average = \"micro\"))\n",
    "print(\"SobreAjuste:\", f1_score(y_train, model.predict(X_train), average = \"micro\") - f1_score(y_val, y_predVal, average = \"micro\"))\n",
    "print(\"\\n\")\n",
    "print(\"Macro train:\",f1_score(y_train, y_predTrain, average = \"macro\"))\n",
    "print(\"Macro val:\",f1_score(y_val, y_predVal, average = \"macro\"))\n",
    "print(\"SobreAjuste:\",f1_score(y_train, y_predTrain, average = \"macro\") -f1_score(y_val, y_predVal, average = \"macro\"))\n",
    "print(\"\\n\")\n",
    "print(\"Weighted train:\",f1_score(y_train, y_predTrain, average = \"weighted\"))\n",
    "print(\"Weighted val:\",f1_score(y_val, y_predVal, average = \"weighted\"))\n",
    "print(\"SobreAjuste:\", f1_score(y_train, y_predTrain, average = \"weighted\") - f1_score(y_val, y_predVal, average = \"weighted\"))\n",
    "print(\"\\n\")\n",
    "print(\"Train Accuracy: \", model.score(X_train,y_train))\n",
    "print(\"Val Accuracy: \", model.score(X_val,y_val))"
   ]
  },
  {
   "cell_type": "markdown",
   "metadata": {},
   "source": [
    "Al aumentar las iteraciones de random forest, el resultado es muy similar a tener pocas iteraciones. El conjunto de entrenamiento recibe un score perfecto mientras que el de validación no, mostrando un obvio sobre ajuste."
   ]
  },
  {
   "cell_type": "code",
   "execution_count": 22,
   "metadata": {},
   "outputs": [
    {
     "data": {
      "image/png": "[encoded data removed]",
      "text/plain": [
       "<Figure size 432x288 with 1 Axes>"
      ]
     },
     "metadata": {},
     "output_type": "display_data"
    }
   ],
   "source": [
    "numIteraciones = 100\n",
    "t = np.arange(1, numIteraciones + 1, 1)\n",
    "F1ScoreTrain = np.array([])\n",
    "F1ScoreTest = np.array([])\n",
    "for i in range(1, numIteraciones + 1):\n",
    "    model = RandomForestClassifier(n_estimators= i, n_jobs=-1)\n",
    "    model.fit(X_train, y_train)\n",
    "    y_predTrain = model.predict(X_train)\n",
    "    y_predTest = model.predict(X_test)\n",
    "    F1ScoreTrain = np.append(F1ScoreTrain, f1_score(y_train, y_predTrain, average = \"micro\"))\n",
    "    F1ScoreTest = np.append(F1ScoreTest, f1_score(y_test, y_predTest, average = \"micro\"))\n",
    "plt.plot(t, F1ScoreTrain, 'r', label = \"Train\")\n",
    "plt.plot(t, F1ScoreTest, label = \"Test\")\n",
    "plt.legend(bbox_to_anchor=(1.05, 1), loc=2, borderaxespad=0.)\n",
    "plt.show();"
   ]
  },
  {
   "cell_type": "markdown",
   "metadata": {},
   "source": [
    "Con el gráfico se puede notar que random forest converge rápidamente (a partir de 20 iteraciones el cambio ya no es muy drástico) y lamentablemente mantiene un gran sobre ajuste y un score bajo para el conjunto de pruebas."
   ]
  },
  {
   "cell_type": "code",
   "execution_count": 23,
   "metadata": {},
   "outputs": [
    {
     "name": "stdout",
     "output_type": "stream",
     "text": [
      "Micro train: 0.5936973779167669\n",
      "Micro val: 0.5663461538461538\n",
      "SobreAjuste: 0.027351224070613078\n",
      "\n",
      "\n",
      "Macro train: 0.23494669998954895\n",
      "Macro val: 0.22228703500260577\n",
      "SobreAjuste: 0.012659664986943181\n",
      "\n",
      "\n",
      "Weighted train: 0.5564940402242486\n",
      "Weighted val: 0.5232465313644613\n",
      "SobreAjuste: 0.033247508859787334\n",
      "\n",
      "\n"
     ]
    },
    {
     "name": "stderr",
     "output_type": "stream",
     "text": [
      "D:\\User\\jalis\\Anaconda3\\envs\\py36\\lib\\site-packages\\sklearn\\metrics\\classification.py:1135: UndefinedMetricWarning: F-score is ill-defined and being set to 0.0 in labels with no predicted samples.\n",
      "  'precision', 'predicted', average, warn_for)\n"
     ]
    },
    {
     "name": "stdout",
     "output_type": "stream",
     "text": [
      "Train Accuracy:  0.5936973779167669\n",
      "Val Accuracy:  0.5663461538461538\n"
     ]
    }
   ],
   "source": [
    "model = RandomForestClassifier(n_estimators= 10, max_depth =5, criterion='gini', n_jobs=-1)\n",
    "model.fit(X_train, y_train)\n",
    "\n",
    "#y_pred = model.predict(X_val)\n",
    "y_predTrain = model.predict(X_train)\n",
    "y_predVal = model.predict(X_val)\n",
    "print(\"Micro train:\", f1_score(y_train, y_predTrain, average = \"micro\"))\n",
    "print(\"Micro val:\",f1_score(y_val, y_predVal, average = \"micro\"))\n",
    "print(\"SobreAjuste:\", f1_score(y_train, model.predict(X_train), average = \"micro\") - f1_score(y_val, y_predVal, average = \"micro\"))\n",
    "print(\"\\n\")\n",
    "print(\"Macro train:\",f1_score(y_train, y_predTrain, average = \"macro\"))\n",
    "print(\"Macro val:\",f1_score(y_val, y_predVal, average = \"macro\"))\n",
    "print(\"SobreAjuste:\",f1_score(y_train, y_predTrain, average = \"macro\") -f1_score(y_val, y_predVal, average = \"macro\"))\n",
    "print(\"\\n\")\n",
    "print(\"Weighted train:\",f1_score(y_train, y_predTrain, average = \"weighted\"))\n",
    "print(\"Weighted val:\",f1_score(y_val, y_predVal, average = \"weighted\"))\n",
    "print(\"SobreAjuste:\", f1_score(y_train, y_predTrain, average = \"weighted\") - f1_score(y_val, y_predVal, average = \"weighted\"))\n",
    "print(\"\\n\")\n",
    "print(\"Train Accuracy: \", model.score(X_train,y_train))\n",
    "print(\"Val Accuracy: \", model.score(X_val,y_val))"
   ]
  },
  {
   "cell_type": "markdown",
   "metadata": {},
   "source": [
    "Con un árbol regularizado y para 10 estimadores, se obtiene una mejora significativa sobre el sobre ajuste, pero no en el score."
   ]
  },
  {
   "cell_type": "code",
   "execution_count": 24,
   "metadata": {},
   "outputs": [
    {
     "name": "stdout",
     "output_type": "stream",
     "text": [
      "Micro train: 0.5997113302862641\n",
      "Micro val: 0.5807692307692308\n",
      "SobreAjuste: 0.018942099517033295\n",
      "\n",
      "\n",
      "Macro train: 0.23716612584095825\n",
      "Macro val: 0.22395962366647776\n",
      "SobreAjuste: 0.013206502174480494\n",
      "\n",
      "\n",
      "Weighted train: 0.561668919589398\n",
      "Weighted val: 0.5329197864948381\n",
      "SobreAjuste: 0.028749133094559953\n",
      "\n",
      "\n"
     ]
    },
    {
     "name": "stderr",
     "output_type": "stream",
     "text": [
      "D:\\User\\jalis\\Anaconda3\\envs\\py36\\lib\\site-packages\\sklearn\\metrics\\classification.py:1135: UndefinedMetricWarning: F-score is ill-defined and being set to 0.0 in labels with no predicted samples.\n",
      "  'precision', 'predicted', average, warn_for)\n"
     ]
    },
    {
     "name": "stdout",
     "output_type": "stream",
     "text": [
      "Train Accuracy:  0.5997113302862641\n",
      "Val Accuracy:  0.5807692307692308\n"
     ]
    }
   ],
   "source": [
    "model = RandomForestClassifier(n_estimators= 100, max_depth =5, criterion='gini', n_jobs=-1)\n",
    "model.fit(X_train, y_train)\n",
    "\n",
    "#y_pred = model.predict(X_val)\n",
    "y_predTrain = model.predict(X_train)\n",
    "y_predVal = model.predict(X_val)\n",
    "print(\"Micro train:\", f1_score(y_train, y_predTrain, average = \"micro\"))\n",
    "print(\"Micro val:\",f1_score(y_val, y_predVal, average = \"micro\"))\n",
    "print(\"SobreAjuste:\", f1_score(y_train, model.predict(X_train), average = \"micro\") - f1_score(y_val, y_predVal, average = \"micro\"))\n",
    "print(\"\\n\")\n",
    "print(\"Macro train:\",f1_score(y_train, y_predTrain, average = \"macro\"))\n",
    "print(\"Macro val:\",f1_score(y_val, y_predVal, average = \"macro\"))\n",
    "print(\"SobreAjuste:\",f1_score(y_train, y_predTrain, average = \"macro\") -f1_score(y_val, y_predVal, average = \"macro\"))\n",
    "print(\"\\n\")\n",
    "print(\"Weighted train:\",f1_score(y_train, y_predTrain, average = \"weighted\"))\n",
    "print(\"Weighted val:\",f1_score(y_val, y_predVal, average = \"weighted\"))\n",
    "print(\"SobreAjuste:\", f1_score(y_train, y_predTrain, average = \"weighted\") - f1_score(y_val, y_predVal, average = \"weighted\"))\n",
    "print(\"\\n\")\n",
    "print(\"Train Accuracy: \", model.score(X_train,y_train))\n",
    "print(\"Val Accuracy: \", model.score(X_val,y_val))"
   ]
  },
  {
   "cell_type": "markdown",
   "metadata": {},
   "source": [
    "Luego, probando con 100 estimadores, se obtiene una mejora en el score de validación, acercandose al score de entrenamiento, es decir, se reduce el sobre ajuste."
   ]
  },
  {
   "cell_type": "code",
   "execution_count": 25,
   "metadata": {},
   "outputs": [
    {
     "data": {
      "image/png": "[encoded data removed]",
      "text/plain": [
       "<Figure size 432x288 with 1 Axes>"
      ]
     },
     "metadata": {},
     "output_type": "display_data"
    }
   ],
   "source": [
    "numIteraciones = 100\n",
    "t = np.arange(1, numIteraciones + 1, 1)\n",
    "F1ScoreTrain = np.array([])\n",
    "F1ScoreTest = np.array([])\n",
    "for i in range(1, numIteraciones + 1):\n",
    "    model = RandomForestClassifier(n_estimators= i, max_depth =5, criterion='gini', n_jobs=-1)\n",
    "    model.fit(X_train, y_train)\n",
    "    y_predTrain = model.predict(X_train)\n",
    "    y_predTest = model.predict(X_test)\n",
    "    F1ScoreTrain = np.append(F1ScoreTrain, f1_score(y_train, y_predTrain, average = \"micro\"))\n",
    "    F1ScoreTest = np.append(F1ScoreTest, f1_score(y_test, y_predTest, average = \"micro\"))\n",
    "plt.plot(t, F1ScoreTrain, 'r', label = \"Train\")\n",
    "plt.plot(t, F1ScoreTest, label = \"Test\")\n",
    "plt.legend(bbox_to_anchor=(1.05, 1), loc=2, borderaxespad=0.)\n",
    "plt.show();"
   ]
  },
  {
   "cell_type": "markdown",
   "metadata": {},
   "source": [
    "A partir del gráfico, se puede notar que Random Forest logra aumentar el score pero no de una manera significativa. Lo más destacable es la reducción del sobre ajuste."
   ]
  },
  {
   "cell_type": "markdown",
   "metadata": {},
   "source": [
    "\n",
    "> g) Verifique que el **OOB error** (*out of bag error*) de los ensambladores que utilizan la técnica *boostrap* puede ser una alternativa como métrica de generalización, compárelo con el error calculado sobre el conjunto de pruebas y validación (o en su defecto *cross validation*).\n",
    "```python\n",
    "oob_error = 1 - model.oob_score_\n",
    "test_error = 1- model.score(X_test,y_test)\n",
    "val_error = 1- model.score(X_val,y_val)\n",
    "print(\"OOB error: \",oob_error)\n",
    "print (\"Val error: \",val_error)\n",
    "print(\"Test error: \",test_error)\n",
    "```\n",
    "\n",
    "\n"
   ]
  },
  {
   "cell_type": "markdown",
   "metadata": {},
   "source": [
    "Para esta sección, se entrenan crean dos gráficos que muestran el error para las técnicas Bagging y Random Forest. Primero para Bagging con un árbol regularizado:"
   ]
  },
  {
   "cell_type": "code",
   "execution_count": 76,
   "metadata": {},
   "outputs": [
    {
     "name": "stderr",
     "output_type": "stream",
     "text": [
      "D:\\User\\jalis\\Anaconda3\\envs\\py36\\lib\\site-packages\\sklearn\\ensemble\\bagging.py:605: UserWarning: Some inputs do not have OOB scores. This probably means too few estimators were used to compute any reliable oob estimates.\n",
      "  warn(\"Some inputs do not have OOB scores. \"\n",
      "D:\\User\\jalis\\Anaconda3\\envs\\py36\\lib\\site-packages\\sklearn\\ensemble\\bagging.py:610: RuntimeWarning: invalid value encountered in true_divide\n",
      "  predictions.sum(axis=1)[:, np.newaxis])\n"
     ]
    },
    {
     "data": {
      "image/png": "[encoded data removed]",
      "text/plain": [
       "<Figure size 432x288 with 1 Axes>"
      ]
     },
     "metadata": {},
     "output_type": "display_data"
    }
   ],
   "source": [
    "numIteraciones = 100\n",
    "t = np.arange(1, numIteraciones + 1, 1)\n",
    "ScoreVAL = np.array([])\n",
    "ScoreTest = np.array([])\n",
    "ScoreOOB = np.array([])\n",
    "for i in range(1, numIteraciones + 1):\n",
    "    model = BaggingClassifier(base_estimator=Tree(max_depth = 5, criterion='gini'), n_estimators= i, n_jobs=-1, oob_score = True)\n",
    "    model.fit(X_train, y_train)\n",
    "    ScoreVAL = np.append(ScoreVAL, 1 - model.score(X_val,y_val))\n",
    "    ScoreTest = np.append(ScoreTest, 1 - model.score(X_test,y_test))\n",
    "    ScoreOOB = np.append(ScoreOOB, 1 - model.oob_score_)\n",
    "plt.plot(t, ScoreVAL, 'r', label = \"VAL\")\n",
    "plt.plot(t, ScoreTest, label = \"Test\")\n",
    "plt.plot(t, ScoreOOB, label = \"OOB\")\n",
    "plt.legend(bbox_to_anchor=(1.05, 1), loc=2, borderaxespad=0.)\n",
    "plt.show()"
   ]
  },
  {
   "cell_type": "markdown",
   "metadata": {},
   "source": [
    "En el gráfico se puede ver como el error de los OOB se asemeja rápidamente al error de pruebas y validación, demostrando que se puede utilizar como métrica de generalización. Ahora se realiza lo mismo pero para Random Forest:"
   ]
  },
  {
   "cell_type": "code",
   "execution_count": 77,
   "metadata": {
    "scrolled": true
   },
   "outputs": [
    {
     "name": "stderr",
     "output_type": "stream",
     "text": [
      "D:\\User\\jalis\\Anaconda3\\envs\\py36\\lib\\site-packages\\sklearn\\ensemble\\forest.py:453: UserWarning: Some inputs do not have OOB scores. This probably means too few trees were used to compute any reliable oob estimates.\n",
      "  warn(\"Some inputs do not have OOB scores. \"\n",
      "D:\\User\\jalis\\Anaconda3\\envs\\py36\\lib\\site-packages\\sklearn\\ensemble\\forest.py:458: RuntimeWarning: invalid value encountered in true_divide\n",
      "  predictions[k].sum(axis=1)[:, np.newaxis])\n",
      "D:\\User\\jalis\\Anaconda3\\envs\\py36\\lib\\site-packages\\sklearn\\ensemble\\forest.py:453: UserWarning: Some inputs do not have OOB scores. This probably means too few trees were used to compute any reliable oob estimates.\n",
      "  warn(\"Some inputs do not have OOB scores. \"\n",
      "D:\\User\\jalis\\Anaconda3\\envs\\py36\\lib\\site-packages\\sklearn\\ensemble\\forest.py:458: RuntimeWarning: invalid value encountered in true_divide\n",
      "  predictions[k].sum(axis=1)[:, np.newaxis])\n",
      "D:\\User\\jalis\\Anaconda3\\envs\\py36\\lib\\site-packages\\sklearn\\ensemble\\forest.py:453: UserWarning: Some inputs do not have OOB scores. This probably means too few trees were used to compute any reliable oob estimates.\n",
      "  warn(\"Some inputs do not have OOB scores. \"\n",
      "D:\\User\\jalis\\Anaconda3\\envs\\py36\\lib\\site-packages\\sklearn\\ensemble\\forest.py:458: RuntimeWarning: invalid value encountered in true_divide\n",
      "  predictions[k].sum(axis=1)[:, np.newaxis])\n",
      "D:\\User\\jalis\\Anaconda3\\envs\\py36\\lib\\site-packages\\sklearn\\ensemble\\forest.py:453: UserWarning: Some inputs do not have OOB scores. This probably means too few trees were used to compute any reliable oob estimates.\n",
      "  warn(\"Some inputs do not have OOB scores. \"\n",
      "D:\\User\\jalis\\Anaconda3\\envs\\py36\\lib\\site-packages\\sklearn\\ensemble\\forest.py:458: RuntimeWarning: invalid value encountered in true_divide\n",
      "  predictions[k].sum(axis=1)[:, np.newaxis])\n",
      "D:\\User\\jalis\\Anaconda3\\envs\\py36\\lib\\site-packages\\sklearn\\ensemble\\forest.py:453: UserWarning: Some inputs do not have OOB scores. This probably means too few trees were used to compute any reliable oob estimates.\n",
      "  warn(\"Some inputs do not have OOB scores. \"\n",
      "D:\\User\\jalis\\Anaconda3\\envs\\py36\\lib\\site-packages\\sklearn\\ensemble\\forest.py:458: RuntimeWarning: invalid value encountered in true_divide\n",
      "  predictions[k].sum(axis=1)[:, np.newaxis])\n",
      "D:\\User\\jalis\\Anaconda3\\envs\\py36\\lib\\site-packages\\sklearn\\ensemble\\forest.py:453: UserWarning: Some inputs do not have OOB scores. This probably means too few trees were used to compute any reliable oob estimates.\n",
      "  warn(\"Some inputs do not have OOB scores. \"\n",
      "D:\\User\\jalis\\Anaconda3\\envs\\py36\\lib\\site-packages\\sklearn\\ensemble\\forest.py:458: RuntimeWarning: invalid value encountered in true_divide\n",
      "  predictions[k].sum(axis=1)[:, np.newaxis])\n",
      "D:\\User\\jalis\\Anaconda3\\envs\\py36\\lib\\site-packages\\sklearn\\ensemble\\forest.py:453: UserWarning: Some inputs do not have OOB scores. This probably means too few trees were used to compute any reliable oob estimates.\n",
      "  warn(\"Some inputs do not have OOB scores. \"\n",
      "D:\\User\\jalis\\Anaconda3\\envs\\py36\\lib\\site-packages\\sklearn\\ensemble\\forest.py:458: RuntimeWarning: invalid value encountered in true_divide\n",
      "  predictions[k].sum(axis=1)[:, np.newaxis])\n",
      "D:\\User\\jalis\\Anaconda3\\envs\\py36\\lib\\site-packages\\sklearn\\ensemble\\forest.py:453: UserWarning: Some inputs do not have OOB scores. This probably means too few trees were used to compute any reliable oob estimates.\n",
      "  warn(\"Some inputs do not have OOB scores. \"\n",
      "D:\\User\\jalis\\Anaconda3\\envs\\py36\\lib\\site-packages\\sklearn\\ensemble\\forest.py:458: RuntimeWarning: invalid value encountered in true_divide\n",
      "  predictions[k].sum(axis=1)[:, np.newaxis])\n",
      "D:\\User\\jalis\\Anaconda3\\envs\\py36\\lib\\site-packages\\sklearn\\ensemble\\forest.py:453: UserWarning: Some inputs do not have OOB scores. This probably means too few trees were used to compute any reliable oob estimates.\n",
      "  warn(\"Some inputs do not have OOB scores. \"\n",
      "D:\\User\\jalis\\Anaconda3\\envs\\py36\\lib\\site-packages\\sklearn\\ensemble\\forest.py:458: RuntimeWarning: invalid value encountered in true_divide\n",
      "  predictions[k].sum(axis=1)[:, np.newaxis])\n",
      "D:\\User\\jalis\\Anaconda3\\envs\\py36\\lib\\site-packages\\sklearn\\ensemble\\forest.py:453: UserWarning: Some inputs do not have OOB scores. This probably means too few trees were used to compute any reliable oob estimates.\n",
      "  warn(\"Some inputs do not have OOB scores. \"\n",
      "D:\\User\\jalis\\Anaconda3\\envs\\py36\\lib\\site-packages\\sklearn\\ensemble\\forest.py:458: RuntimeWarning: invalid value encountered in true_divide\n",
      "  predictions[k].sum(axis=1)[:, np.newaxis])\n",
      "D:\\User\\jalis\\Anaconda3\\envs\\py36\\lib\\site-packages\\sklearn\\ensemble\\forest.py:453: UserWarning: Some inputs do not have OOB scores. This probably means too few trees were used to compute any reliable oob estimates.\n",
      "  warn(\"Some inputs do not have OOB scores. \"\n",
      "D:\\User\\jalis\\Anaconda3\\envs\\py36\\lib\\site-packages\\sklearn\\ensemble\\forest.py:458: RuntimeWarning: invalid value encountered in true_divide\n",
      "  predictions[k].sum(axis=1)[:, np.newaxis])\n",
      "D:\\User\\jalis\\Anaconda3\\envs\\py36\\lib\\site-packages\\sklearn\\ensemble\\forest.py:453: UserWarning: Some inputs do not have OOB scores. This probably means too few trees were used to compute any reliable oob estimates.\n",
      "  warn(\"Some inputs do not have OOB scores. \"\n",
      "D:\\User\\jalis\\Anaconda3\\envs\\py36\\lib\\site-packages\\sklearn\\ensemble\\forest.py:458: RuntimeWarning: invalid value encountered in true_divide\n",
      "  predictions[k].sum(axis=1)[:, np.newaxis])\n",
      "D:\\User\\jalis\\Anaconda3\\envs\\py36\\lib\\site-packages\\sklearn\\ensemble\\forest.py:453: UserWarning: Some inputs do not have OOB scores. This probably means too few trees were used to compute any reliable oob estimates.\n",
      "  warn(\"Some inputs do not have OOB scores. \"\n",
      "D:\\User\\jalis\\Anaconda3\\envs\\py36\\lib\\site-packages\\sklearn\\ensemble\\forest.py:458: RuntimeWarning: invalid value encountered in true_divide\n",
      "  predictions[k].sum(axis=1)[:, np.newaxis])\n",
      "D:\\User\\jalis\\Anaconda3\\envs\\py36\\lib\\site-packages\\sklearn\\ensemble\\forest.py:453: UserWarning: Some inputs do not have OOB scores. This probably means too few trees were used to compute any reliable oob estimates.\n",
      "  warn(\"Some inputs do not have OOB scores. \"\n",
      "D:\\User\\jalis\\Anaconda3\\envs\\py36\\lib\\site-packages\\sklearn\\ensemble\\forest.py:458: RuntimeWarning: invalid value encountered in true_divide\n",
      "  predictions[k].sum(axis=1)[:, np.newaxis])\n",
      "D:\\User\\jalis\\Anaconda3\\envs\\py36\\lib\\site-packages\\sklearn\\ensemble\\forest.py:453: UserWarning: Some inputs do not have OOB scores. This probably means too few trees were used to compute any reliable oob estimates.\n",
      "  warn(\"Some inputs do not have OOB scores. \"\n",
      "D:\\User\\jalis\\Anaconda3\\envs\\py36\\lib\\site-packages\\sklearn\\ensemble\\forest.py:458: RuntimeWarning: invalid value encountered in true_divide\n",
      "  predictions[k].sum(axis=1)[:, np.newaxis])\n",
      "D:\\User\\jalis\\Anaconda3\\envs\\py36\\lib\\site-packages\\sklearn\\ensemble\\forest.py:453: UserWarning: Some inputs do not have OOB scores. This probably means too few trees were used to compute any reliable oob estimates.\n",
      "  warn(\"Some inputs do not have OOB scores. \"\n",
      "D:\\User\\jalis\\Anaconda3\\envs\\py36\\lib\\site-packages\\sklearn\\ensemble\\forest.py:458: RuntimeWarning: invalid value encountered in true_divide\n",
      "  predictions[k].sum(axis=1)[:, np.newaxis])\n",
      "D:\\User\\jalis\\Anaconda3\\envs\\py36\\lib\\site-packages\\sklearn\\ensemble\\forest.py:453: UserWarning: Some inputs do not have OOB scores. This probably means too few trees were used to compute any reliable oob estimates.\n",
      "  warn(\"Some inputs do not have OOB scores. \"\n",
      "D:\\User\\jalis\\Anaconda3\\envs\\py36\\lib\\site-packages\\sklearn\\ensemble\\forest.py:458: RuntimeWarning: invalid value encountered in true_divide\n",
      "  predictions[k].sum(axis=1)[:, np.newaxis])\n",
      "D:\\User\\jalis\\Anaconda3\\envs\\py36\\lib\\site-packages\\sklearn\\ensemble\\forest.py:453: UserWarning: Some inputs do not have OOB scores. This probably means too few trees were used to compute any reliable oob estimates.\n",
      "  warn(\"Some inputs do not have OOB scores. \"\n",
      "D:\\User\\jalis\\Anaconda3\\envs\\py36\\lib\\site-packages\\sklearn\\ensemble\\forest.py:458: RuntimeWarning: invalid value encountered in true_divide\n",
      "  predictions[k].sum(axis=1)[:, np.newaxis])\n"
     ]
    },
    {
     "data": {
      "image/png": "[encoded data removed]",
      "text/plain": [
       "<Figure size 432x288 with 1 Axes>"
      ]
     },
     "metadata": {},
     "output_type": "display_data"
    }
   ],
   "source": [
    "numIteraciones = 100\n",
    "t = np.arange(1, numIteraciones + 1, 1)\n",
    "ScoreVAL = np.array([])\n",
    "ScoreTest = np.array([])\n",
    "ScoreOOB = np.array([])\n",
    "for i in range(1, numIteraciones + 1):\n",
    "    model = RandomForestClassifier(n_estimators= i, max_depth =5, criterion='gini', n_jobs=-1, oob_score = True)\n",
    "    model.fit(X_train, y_train)\n",
    "    ScoreVAL = np.append(ScoreVAL, 1 - model.score(X_val,y_val))\n",
    "    ScoreTest = np.append(ScoreTest, 1 - model.score(X_test,y_test))\n",
    "    ScoreOOB = np.append(ScoreOOB, 1 - model.oob_score_)\n",
    "plt.plot(t, ScoreVAL, 'r', label = \"VAL\")\n",
    "plt.plot(t, ScoreTest, label = \"Test\")\n",
    "plt.plot(t, ScoreOOB, label = \"OOB\")\n",
    "plt.legend(bbox_to_anchor=(1.05, 1), loc=2, borderaxespad=0.)\n",
    "plt.show()"
   ]
  },
  {
   "cell_type": "markdown",
   "metadata": {},
   "source": [
    "Nuevamente, el error de OOB se asemeja rápidamente al error de entrenamiento. Es más, es muy similar al conjunto de pruebas, más que el conjunto de validación. Esto indica que los elementos de OOB pueden ser un buen candidato para ser utilizados como métrica de generalización."
   ]
  },
  {
   "cell_type": "markdown",
   "metadata": {},
   "source": [
    "> h) Entrene alguna otra máquina de aprendizaje, elegida por usted de entre todas las vistas en el curso, para resolver el problema. Elija los hiper-parámetros que estime convenientes intentando aumentar el *F1-scor*e obtenido por los algoritmos anteriores ¿Se logra una mejora? ¿Por qué?"
   ]
  },
  {
   "cell_type": "markdown",
   "metadata": {},
   "source": [
    "Para esta sección se entrenarán dos máquinas: SVM y KNN para poder comparar cuál obtiene un mejor resultado:"
   ]
  },
  {
   "cell_type": "code",
   "execution_count": 95,
   "metadata": {},
   "outputs": [
    {
     "name": "stdout",
     "output_type": "stream",
     "text": [
      "Micro train: 0.44575414962713494\n",
      "Micro val: 0.4528846153846154\n",
      "SobreAjuste: -0.007130465757480442\n",
      "\n",
      "\n",
      "Macro train: 0.13352676310971628\n",
      "Macro val: 0.1357324535918774\n",
      "SobreAjuste: -0.0022056904821611267\n",
      "\n",
      "\n",
      "Weighted train: 0.3676877270148409\n",
      "Weighted val: 0.3716665546180824\n",
      "SobreAjuste: -0.003978827603241475\n",
      "\n",
      "\n"
     ]
    },
    {
     "name": "stderr",
     "output_type": "stream",
     "text": [
      "D:\\User\\jalis\\Anaconda3\\envs\\py36\\lib\\site-packages\\sklearn\\metrics\\classification.py:1135: UndefinedMetricWarning: F-score is ill-defined and being set to 0.0 in labels with no predicted samples.\n",
      "  'precision', 'predicted', average, warn_for)\n"
     ]
    },
    {
     "name": "stdout",
     "output_type": "stream",
     "text": [
      "Train Accuracy:  0.44575414962713494\n",
      "Val Accuracy:  0.4528846153846154\n"
     ]
    }
   ],
   "source": [
    "from sklearn.neighbors import KNeighborsClassifier\n",
    "model = KNeighborsClassifier(n_neighbors = 350, n_jobs = -1)\n",
    "model.fit(X_train, y_train)\n",
    "\n",
    "y_predTrain = model.predict(X_train)\n",
    "y_predVal = model.predict(X_val)\n",
    "print(\"Micro train:\", f1_score(y_train, y_predTrain, average = \"micro\"))\n",
    "print(\"Micro val:\",f1_score(y_val, y_predVal, average = \"micro\"))\n",
    "print(\"SobreAjuste:\", f1_score(y_train, model.predict(X_train), average = \"micro\") - f1_score(y_val, y_predVal, average = \"micro\"))\n",
    "print(\"\\n\")\n",
    "print(\"Macro train:\",f1_score(y_train, y_predTrain, average = \"macro\"))\n",
    "print(\"Macro val:\",f1_score(y_val, y_predVal, average = \"macro\"))\n",
    "print(\"SobreAjuste:\",f1_score(y_train, y_predTrain, average = \"macro\") -f1_score(y_val, y_predVal, average = \"macro\"))\n",
    "print(\"\\n\")\n",
    "print(\"Weighted train:\",f1_score(y_train, y_predTrain, average = \"weighted\"))\n",
    "print(\"Weighted val:\",f1_score(y_val, y_predVal, average = \"weighted\"))\n",
    "print(\"SobreAjuste:\", f1_score(y_train, y_predTrain, average = \"weighted\") - f1_score(y_val, y_predVal, average = \"weighted\"))\n",
    "print(\"\\n\")\n",
    "print(\"Train Accuracy: \", model.score(X_train,y_train))\n",
    "print(\"Val Accuracy: \", model.score(X_val,y_val))"
   ]
  },
  {
   "cell_type": "code",
   "execution_count": 124,
   "metadata": {},
   "outputs": [
    {
     "name": "stdout",
     "output_type": "stream",
     "text": [
      "Micro train: 0.42915564108732257\n",
      "Micro val: 0.4375\n",
      "SobreAjuste: -0.00834435891267743\n",
      "\n",
      "\n",
      "Macro train: 0.08579604203236589\n",
      "Macro val: 0.08695652173913045\n",
      "SobreAjuste: -0.0011604797067645556\n",
      "\n",
      "\n",
      "Weighted train: 0.25773898794808403\n",
      "Weighted val: 0.266304347826087\n",
      "SobreAjuste: -0.008565359878002943\n",
      "\n",
      "\n"
     ]
    },
    {
     "name": "stderr",
     "output_type": "stream",
     "text": [
      "D:\\User\\jalis\\Anaconda3\\envs\\py36\\lib\\site-packages\\sklearn\\metrics\\classification.py:1135: UndefinedMetricWarning: F-score is ill-defined and being set to 0.0 in labels with no predicted samples.\n",
      "  'precision', 'predicted', average, warn_for)\n"
     ]
    },
    {
     "name": "stdout",
     "output_type": "stream",
     "text": [
      "Train Accuracy:  0.44575414962713494\n",
      "Val Accuracy:  0.4528846153846154\n"
     ]
    }
   ],
   "source": [
    "from sklearn.svm import SVC as SVM\n",
    "\n",
    "from sklearn.neighbors import KNeighborsClassifier\n",
    "classes_weights = {9: 1000, 3: 80, 8: 70, 4: 70, 7: 20, 5: 0.01, 6: 0.001}\n",
    "modelSVM = SVM()\n",
    "modelSVM.set_params(C=0.01,kernel='rbf') #for svm\n",
    "modelSVM.fit(X_train,y_train)\n",
    "y_predTrain = modelSVM.predict(X_train)\n",
    "y_predVal = modelSVM.predict(X_val)\n",
    "print(\"Micro train:\", f1_score(y_train, y_predTrain, average = \"micro\"))\n",
    "print(\"Micro val:\",f1_score(y_val, y_predVal, average = \"micro\"))\n",
    "print(\"SobreAjuste:\", f1_score(y_train, y_predTrain, average = \"micro\") - f1_score(y_val, y_predVal, average = \"micro\"))\n",
    "print(\"\\n\")\n",
    "print(\"Macro train:\",f1_score(y_train, y_predTrain, average = \"macro\"))\n",
    "print(\"Macro val:\",f1_score(y_val, y_predVal, average = \"macro\"))\n",
    "print(\"SobreAjuste:\",f1_score(y_train, y_predTrain, average = \"macro\") -f1_score(y_val, y_predVal, average = \"macro\"))\n",
    "print(\"\\n\")\n",
    "print(\"Weighted train:\",f1_score(y_train, y_predTrain, average = \"weighted\"))\n",
    "print(\"Weighted val:\",f1_score(y_val, y_predVal, average = \"weighted\"))\n",
    "print(\"SobreAjuste:\", f1_score(y_train, y_predTrain, average = \"weighted\") - f1_score(y_val, y_predVal, average = \"weighted\"))\n",
    "print(\"\\n\")\n",
    "print(\"Train Accuracy: \", model.score(X_train,y_train))\n",
    "print(\"Val Accuracy: \", model.score(X_val,y_val))"
   ]
  },
  {
   "cell_type": "markdown",
   "metadata": {},
   "source": [
    "KNN obtiene el mejor score en entrenamiento y validación (levemente mejor), por lo que se elige para probar con el conjunto de pruebas:"
   ]
  },
  {
   "cell_type": "code",
   "execution_count": 125,
   "metadata": {},
   "outputs": [
    {
     "name": "stdout",
     "output_type": "stream",
     "text": [
      "Micro train: 0.44575414962713494\n",
      "Micro test: 0.44461538461538463\n",
      "SobreAjuste: 0.001138765011750309\n",
      "\n",
      "\n",
      "Macro train: 0.13352676310971628\n",
      "Macro test: 0.1282474903509826\n",
      "SobreAjuste: 0.0052792727587336885\n",
      "\n",
      "\n",
      "Weighted train: 0.3676877270148409\n",
      "Weighted test: 0.3649670854475891\n",
      "SobreAjuste: 0.0027206415672518247\n",
      "\n",
      "\n"
     ]
    },
    {
     "name": "stderr",
     "output_type": "stream",
     "text": [
      "D:\\User\\jalis\\Anaconda3\\envs\\py36\\lib\\site-packages\\sklearn\\metrics\\classification.py:1135: UndefinedMetricWarning: F-score is ill-defined and being set to 0.0 in labels with no predicted samples.\n",
      "  'precision', 'predicted', average, warn_for)\n"
     ]
    },
    {
     "name": "stdout",
     "output_type": "stream",
     "text": [
      "Train Accuracy:  0.44575414962713494\n",
      "Test Accuracy:  0.44461538461538463\n"
     ]
    }
   ],
   "source": [
    "model = KNeighborsClassifier(n_neighbors = 350, n_jobs = -1)\n",
    "model.fit(X_train, y_train)\n",
    "\n",
    "y_predTrain = model.predict(X_train)\n",
    "y_predTest = model.predict(X_test)\n",
    "print(\"Micro train:\", f1_score(y_train, y_predTrain, average = \"micro\"))\n",
    "print(\"Micro test:\",f1_score(y_test, y_predTest, average = \"micro\"))\n",
    "print(\"SobreAjuste:\", f1_score(y_train, y_predTrain, average = \"micro\") - f1_score(y_test, y_predTest, average = \"micro\"))\n",
    "print(\"\\n\")\n",
    "print(\"Macro train:\",f1_score(y_train, y_predTrain, average = \"macro\"))\n",
    "print(\"Macro test:\",f1_score(y_test, y_predTest, average = \"macro\"))\n",
    "print(\"SobreAjuste:\",f1_score(y_train, y_predTrain, average = \"macro\") -f1_score(y_test, y_predTest, average = \"macro\"))\n",
    "print(\"\\n\")\n",
    "print(\"Weighted train:\",f1_score(y_train, y_predTrain, average = \"weighted\"))\n",
    "print(\"Weighted test:\",f1_score(y_test, y_predTest, average = \"weighted\"))\n",
    "print(\"SobreAjuste:\", f1_score(y_train, y_predTrain, average = \"weighted\") - f1_score(y_test, y_predTest, average = \"weighted\"))\n",
    "print(\"\\n\")\n",
    "print(\"Train Accuracy: \", model.score(X_train,y_train))\n",
    "print(\"Test Accuracy: \", model.score(X_test,y_test))"
   ]
  },
  {
   "cell_type": "markdown",
   "metadata": {},
   "source": [
    "Sin causar sobre ajuste, este es el mejor score logrado para KNN, no siendo mejor que las técnicas anteriores. El error se puede explicar por el claro desbalance de clases. Al ser un solo estimador, solo él toma la decisión y es mucho más probable que se equivoque."
   ]
  },
  {
   "cell_type": "markdown",
   "metadata": {},
   "source": [
    "\n",
    "> i) Compare y analice las distintas maneras con las que se resolvió el problema definido en b), por ejemplo incluya las decisiones que conlleva y los resultados que reflejan.\n",
    "\n"
   ]
  },
  {
   "cell_type": "markdown",
   "metadata": {},
   "source": [
    "Para resolver b, primero se utilizó un árbol de clasificación no regularizado, obteniendo que el modelo aprendía perfectamente el conjunto de entrenamiento, pero no obtenía buen puntaje en el conjunto de validación. Al no limitar el crecimiento del árbol, este se vuelve cada vez más complejo, lo que termina significando un gran sobre ajuste que se pudo ver la aplicación de este modelo no regularizado.\n",
    "\n",
    "Luego, se entrenó un árbol regularizado limitando el crecimiento de este (profundidad). Con esto se logra disminuir la complejidad del árbol y por lo tanto el sobre ajuste. Esto sucede en la práctica pero a costo de un mayor error en el conjunto de entrenamiento. El score obtenido no es suficientemente bueno y esto puede deberse al desbalance del dataset.\n",
    "\n",
    "A continuación, se utilizó la técnica de bagging junto con árboles sin regularizar y con regularización. Con el árbol sin regularizar, se obtiene un mejor score de validación que un solo árbol pero aún existe el problema del sobre ajuste: el conjunto de entrenamiento es completamente aprendido mientras que el score del conjunto de entrenamiento sigue siendo bajo.\n",
    "\n",
    "Al utilizar un árbol regularizado más bagging, se obtuvo una reducción considerable del problema del sobre ajuste pero a costa del score del conjunto de entrenamiento y pruebas. El sobre ajuste se redujo bastante pero también, comparando con bagging no regularizado, el puntaje obtenido es menor en ambos conjuntos. Esta diferencia de puntaje puede mostrar que la técnica de baggin obtiene mejor score con árboles no regularizados.\n",
    "\n",
    "Luego, AdaBoost se ocupa para un árbol no regularizado y uno regularizado. Los resultados muestran que ocupar adaboost para un árbol no regularizado no resulta apropiado ya que el sobre ajuste que muestran los resultados es muy elevado. Además, el score del conjunto de entrenamiento no es alto.\n",
    "\n",
    "Para un árbol regularizado, Adaboost tiene un comportamiento peculiar. Para valores pequeños (alrededor de menores a 20) de estimadores, el score de ambos conjuntos se va reduciendo hasta que en un punto comienza a aumentar. Es importante notar que el sobre ajuste también comienza a aumentar con el aumento de los estimadores, por lo que el menor sobre ajuste (a partir de la gráfica) estaría entre los 50 y 100 estimadores. El score obtenido no es mejor que el de bagging.\n",
    "\n",
    "Para Random Forest, se hizo lo mismo: se aplicó a un árbol no regularizado y a uno regularizado. Para el árbol no regularizado se obtuvo un comportamiento similar a bagging: el conjunto de entrenamiento se aprende a la perfeccción mientras que el score de prueba está alrededor de 0.6, lo que significa que existe un un gran sobre ajuste. \n",
    "\n",
    "Para RF con un árbol regularizado se obtiene el mejor resultado proporcional al sobre ajuste: se logra reducir significativamente el sobre ajuste y el score de ambos conjuntos es el mayor comparado con las otras técnicas cuando se usaba un árbol regularizado."
   ]
  },
  {
   "cell_type": "markdown",
   "metadata": {},
   "source": [
    "> j) Defina otra forma de combinar los valores que entregan los ensamblados al hacer predicciones y compare con lo que se hace actualmente, por ejemplo *Bagging* realiza el voto de la mayoría para clasificación y promedio para regresión, *AdaBoost* realiza una combinación ponderada de cada clasificador dependiendo de su *habilidad* (desempeño para clasificar el conjunto de entrenamiento).\n",
    "```python\n",
    "def combine_predictions(predictions):\n",
    "    return #define !\n",
    "list_estimators = model.estimators_\n",
    "list_predictions = [estimator.predict(X_test) for estimator in list_estimators]\n",
    "new_predictions = combine_predictions(list_predictions)\n",
    "...#measure f1 score\n",
    "f1_score(y_test, new_predictions)\n",
    "```\n"
   ]
  },
  {
   "cell_type": "code",
   "execution_count": 134,
   "metadata": {},
   "outputs": [
    {
     "ename": "ValueError",
     "evalue": "Found input variables with inconsistent numbers of samples: [1300, 100]",
     "output_type": "error",
     "traceback": [
      "\u001b[1;31m---------------------------------------------------------------------------\u001b[0m",
      "\u001b[1;31mValueError\u001b[0m                                Traceback (most recent call last)",
      "\u001b[1;32m<ipython-input-134-112507102425>\u001b[0m in \u001b[0;36m<module>\u001b[1;34m()\u001b[0m\n\u001b[0;32m     13\u001b[0m \u001b[1;33m\u001b[0m\u001b[0m\n\u001b[0;32m     14\u001b[0m \u001b[1;33m...\u001b[0m\u001b[1;31m#measure f1 score\u001b[0m\u001b[1;33m\u001b[0m\u001b[0m\n\u001b[1;32m---> 15\u001b[1;33m \u001b[0mf1_score\u001b[0m\u001b[1;33m(\u001b[0m\u001b[0my_test\u001b[0m\u001b[1;33m,\u001b[0m \u001b[0mnew_predictions\u001b[0m\u001b[1;33m)\u001b[0m\u001b[1;33m\u001b[0m\u001b[0m\n\u001b[0m\u001b[0;32m     16\u001b[0m \u001b[1;31m#y_pred = model.predict(X_val)\u001b[0m\u001b[1;33m\u001b[0m\u001b[1;33m\u001b[0m\u001b[0m\n\u001b[0;32m     17\u001b[0m \u001b[0my_predTrain\u001b[0m \u001b[1;33m=\u001b[0m \u001b[0mmodel\u001b[0m\u001b[1;33m.\u001b[0m\u001b[0mpredict\u001b[0m\u001b[1;33m(\u001b[0m\u001b[0mX_train\u001b[0m\u001b[1;33m)\u001b[0m\u001b[1;33m\u001b[0m\u001b[0m\n",
      "\u001b[1;32mD:\\User\\jalis\\Anaconda3\\envs\\py36\\lib\\site-packages\\sklearn\\metrics\\classification.py\u001b[0m in \u001b[0;36mf1_score\u001b[1;34m(y_true, y_pred, labels, pos_label, average, sample_weight)\u001b[0m\n\u001b[0;32m    712\u001b[0m     return fbeta_score(y_true, y_pred, 1, labels=labels,\n\u001b[0;32m    713\u001b[0m                        \u001b[0mpos_label\u001b[0m\u001b[1;33m=\u001b[0m\u001b[0mpos_label\u001b[0m\u001b[1;33m,\u001b[0m \u001b[0maverage\u001b[0m\u001b[1;33m=\u001b[0m\u001b[0maverage\u001b[0m\u001b[1;33m,\u001b[0m\u001b[1;33m\u001b[0m\u001b[0m\n\u001b[1;32m--> 714\u001b[1;33m                        sample_weight=sample_weight)\n\u001b[0m\u001b[0;32m    715\u001b[0m \u001b[1;33m\u001b[0m\u001b[0m\n\u001b[0;32m    716\u001b[0m \u001b[1;33m\u001b[0m\u001b[0m\n",
      "\u001b[1;32mD:\\User\\jalis\\Anaconda3\\envs\\py36\\lib\\site-packages\\sklearn\\metrics\\classification.py\u001b[0m in \u001b[0;36mfbeta_score\u001b[1;34m(y_true, y_pred, beta, labels, pos_label, average, sample_weight)\u001b[0m\n\u001b[0;32m    826\u001b[0m                                                  \u001b[0maverage\u001b[0m\u001b[1;33m=\u001b[0m\u001b[0maverage\u001b[0m\u001b[1;33m,\u001b[0m\u001b[1;33m\u001b[0m\u001b[0m\n\u001b[0;32m    827\u001b[0m                                                  \u001b[0mwarn_for\u001b[0m\u001b[1;33m=\u001b[0m\u001b[1;33m(\u001b[0m\u001b[1;34m'f-score'\u001b[0m\u001b[1;33m,\u001b[0m\u001b[1;33m)\u001b[0m\u001b[1;33m,\u001b[0m\u001b[1;33m\u001b[0m\u001b[0m\n\u001b[1;32m--> 828\u001b[1;33m                                                  sample_weight=sample_weight)\n\u001b[0m\u001b[0;32m    829\u001b[0m     \u001b[1;32mreturn\u001b[0m \u001b[0mf\u001b[0m\u001b[1;33m\u001b[0m\u001b[0m\n\u001b[0;32m    830\u001b[0m \u001b[1;33m\u001b[0m\u001b[0m\n",
      "\u001b[1;32mD:\\User\\jalis\\Anaconda3\\envs\\py36\\lib\\site-packages\\sklearn\\metrics\\classification.py\u001b[0m in \u001b[0;36mprecision_recall_fscore_support\u001b[1;34m(y_true, y_pred, beta, labels, pos_label, average, warn_for, sample_weight)\u001b[0m\n\u001b[0;32m   1023\u001b[0m         \u001b[1;32mraise\u001b[0m \u001b[0mValueError\u001b[0m\u001b[1;33m(\u001b[0m\u001b[1;34m\"beta should be >0 in the F-beta score\"\u001b[0m\u001b[1;33m)\u001b[0m\u001b[1;33m\u001b[0m\u001b[0m\n\u001b[0;32m   1024\u001b[0m \u001b[1;33m\u001b[0m\u001b[0m\n\u001b[1;32m-> 1025\u001b[1;33m     \u001b[0my_type\u001b[0m\u001b[1;33m,\u001b[0m \u001b[0my_true\u001b[0m\u001b[1;33m,\u001b[0m \u001b[0my_pred\u001b[0m \u001b[1;33m=\u001b[0m \u001b[0m_check_targets\u001b[0m\u001b[1;33m(\u001b[0m\u001b[0my_true\u001b[0m\u001b[1;33m,\u001b[0m \u001b[0my_pred\u001b[0m\u001b[1;33m)\u001b[0m\u001b[1;33m\u001b[0m\u001b[0m\n\u001b[0m\u001b[0;32m   1026\u001b[0m     \u001b[0mpresent_labels\u001b[0m \u001b[1;33m=\u001b[0m \u001b[0munique_labels\u001b[0m\u001b[1;33m(\u001b[0m\u001b[0my_true\u001b[0m\u001b[1;33m,\u001b[0m \u001b[0my_pred\u001b[0m\u001b[1;33m)\u001b[0m\u001b[1;33m\u001b[0m\u001b[0m\n\u001b[0;32m   1027\u001b[0m \u001b[1;33m\u001b[0m\u001b[0m\n",
      "\u001b[1;32mD:\\User\\jalis\\Anaconda3\\envs\\py36\\lib\\site-packages\\sklearn\\metrics\\classification.py\u001b[0m in \u001b[0;36m_check_targets\u001b[1;34m(y_true, y_pred)\u001b[0m\n\u001b[0;32m     69\u001b[0m     \u001b[0my_pred\u001b[0m \u001b[1;33m:\u001b[0m \u001b[0marray\u001b[0m \u001b[1;32mor\u001b[0m \u001b[0mindicator\u001b[0m \u001b[0mmatrix\u001b[0m\u001b[1;33m\u001b[0m\u001b[0m\n\u001b[0;32m     70\u001b[0m     \"\"\"\n\u001b[1;32m---> 71\u001b[1;33m     \u001b[0mcheck_consistent_length\u001b[0m\u001b[1;33m(\u001b[0m\u001b[0my_true\u001b[0m\u001b[1;33m,\u001b[0m \u001b[0my_pred\u001b[0m\u001b[1;33m)\u001b[0m\u001b[1;33m\u001b[0m\u001b[0m\n\u001b[0m\u001b[0;32m     72\u001b[0m     \u001b[0mtype_true\u001b[0m \u001b[1;33m=\u001b[0m \u001b[0mtype_of_target\u001b[0m\u001b[1;33m(\u001b[0m\u001b[0my_true\u001b[0m\u001b[1;33m)\u001b[0m\u001b[1;33m\u001b[0m\u001b[0m\n\u001b[0;32m     73\u001b[0m     \u001b[0mtype_pred\u001b[0m \u001b[1;33m=\u001b[0m \u001b[0mtype_of_target\u001b[0m\u001b[1;33m(\u001b[0m\u001b[0my_pred\u001b[0m\u001b[1;33m)\u001b[0m\u001b[1;33m\u001b[0m\u001b[0m\n",
      "\u001b[1;32mD:\\User\\jalis\\Anaconda3\\envs\\py36\\lib\\site-packages\\sklearn\\utils\\validation.py\u001b[0m in \u001b[0;36mcheck_consistent_length\u001b[1;34m(*arrays)\u001b[0m\n\u001b[0;32m    202\u001b[0m     \u001b[1;32mif\u001b[0m \u001b[0mlen\u001b[0m\u001b[1;33m(\u001b[0m\u001b[0muniques\u001b[0m\u001b[1;33m)\u001b[0m \u001b[1;33m>\u001b[0m \u001b[1;36m1\u001b[0m\u001b[1;33m:\u001b[0m\u001b[1;33m\u001b[0m\u001b[0m\n\u001b[0;32m    203\u001b[0m         raise ValueError(\"Found input variables with inconsistent numbers of\"\n\u001b[1;32m--> 204\u001b[1;33m                          \" samples: %r\" % [int(l) for l in lengths])\n\u001b[0m\u001b[0;32m    205\u001b[0m \u001b[1;33m\u001b[0m\u001b[0m\n\u001b[0;32m    206\u001b[0m \u001b[1;33m\u001b[0m\u001b[0m\n",
      "\u001b[1;31mValueError\u001b[0m: Found input variables with inconsistent numbers of samples: [1300, 100]"
     ]
    }
   ],
   "source": [
    "from statistics import median \n",
    "def combine_predictions(predictions):\n",
    "    sorted_predicciones = [sorted(x) for x in predictions]\n",
    "   \n",
    "    lista_predicciones_finales = [round(median(x)) for x in sorted_predicciones]\n",
    "    return lista_predicciones_finales\n",
    "\n",
    "model = BaggingClassifier(base_estimator=Tree(max_depth =5, criterion='gini'), n_estimators= 100, n_jobs=-1)\n",
    "model.fit(X_train, y_train)\n",
    "list_estimators = model.estimators_\n",
    "list_predictions = [estimator.predict(X_test) for estimator in list_estimators]\n",
    "new_predictions = combine_predictions(list_predictions)\n",
    "\n",
    "...#measure f1 score\n",
    "f1_score(y_test, new_predictions)\n",
    "#y_pred = model.predict(X_val)\n",
    "y_predTrain = model.predict(X_train)\n",
    "y_predVal = model.predict(X_val)"
   ]
  },
  {
   "cell_type": "markdown",
   "metadata": {},
   "source": [
    "\n",
    "> k) Utilice la técnica de ensamblado para seleccionar características, para ésto defina un criterio para estimar la importancia de los distintos atributos en el ensamblado, impleméntelo sobre alguno de los ensambladores entrenados para resolver el problema definido en b). Realice un *ranking* de importancia de atributos y seleccione las $k$ características más relevantes.\n",
    "\n"
   ]
  },
  {
   "cell_type": "markdown",
   "metadata": {},
   "source": [
    "> l) Entrene la máquina de aprendizaje definida en h) sobre las $k$ carecterísticas derivadas del punto anterior ¿Mejora los resultados sobre ésta máquina de aprendizaje?"
   ]
  },
  {
   "cell_type": "markdown",
   "metadata": {},
   "source": [
    "<a id=\"refs\"></a>\n",
    "## Referencias\n",
    "[1] http://archive.ics.uci.edu/ml/datasets/Wine+Quality  \n",
    "[2] http://scikit-learn.org/stable/modules/generated/sklearn.metrics.f1_score.html  \n",
    "[3] http://deeplearning.net/software/theano/tutorial/conv_arithmetic.html, http://colah.github.io/posts/2014-07-Understanding-Convolutions/    \n",
    "[4] https://www.vision.ee.ethz.ch/datasets_extra/food-101/  \n",
    "[5] Box, G. E. P., Jenkins, G. M. and Reinsel, G. C. (1976), *Time Series Analysis, Forecasting and Control*. Third Edition. Holden-Day. Series G.  "
   ]
  },
  {
   "cell_type": "code",
   "execution_count": null,
   "metadata": {},
   "outputs": [],
   "source": []
  }
 ],
 "metadata": {
  "kernelspec": {
   "display_name": "Python 3",
   "language": "python",
   "name": "python3"
  },
  "language_info": {
   "codemirror_mode": {
    "name": "ipython",
    "version": 3
   },
   "file_extension": ".py",
   "mimetype": "text/x-python",
   "name": "python",
   "nbconvert_exporter": "python",
   "pygments_lexer": "ipython3",
   "version": "3.6.5"
  }
 },
 "nbformat": 4,
 "nbformat_minor": 2
}
